{
 "cells": [
  {
   "cell_type": "markdown",
   "metadata": {},
   "source": [
    "Definition"
   ]
  },
  {
   "cell_type": "markdown",
   "metadata": {},
   "source": [
    "$$\\{p_\\theta: \\theta \\in \\Theta \\}$$"
   ]
  },
  {
   "cell_type": "markdown",
   "metadata": {},
   "source": [
    "$$p_\\theta (x) = \\frac{ h(x) \\ \\text{exp}\\left(- \\sum_{i = 1}^m \\eta_i(\\theta) s_i(x) \\right)}{z(\\theta)} $$"
   ]
  },
  {
   "cell_type": "markdown",
   "metadata": {},
   "source": [
    "$$x \\in \\mathbb{R}^d, \\ \\theta \\in \\mathbb{R}^k, \\ \\eta_i: \\Theta \\to \\mathbb{R}, \\ s_i: \\mathbb{R}^d \\to \\mathbb{R}, \\ h: \\mathbb{R}^d \\to [0, \\infty), \\ z: \\Theta \\to (0, \\infty)$$"
   ]
  },
  {
   "cell_type": "markdown",
   "metadata": {},
   "source": [
    "$$\\eta(\\theta) = \\begin{pmatrix} \\eta_1(\\theta) \\\\ \\eta_2(\\theta) \\\\ \\vdots \\\\ \\eta_m(\\theta) \\end{pmatrix}, \\ s(x) = \\begin{pmatrix} s_1(x) \\\\ s_2(x) \\\\ \\vdots \\\\ s_m(x) \\end{pmatrix}$$"
   ]
  },
  {
   "cell_type": "markdown",
   "metadata": {},
   "source": [
    "$$p_\\theta (x) = \\frac{h(x) \\ \\text{exp}\\left(\\eta(\\theta)^T s(x) \\right)}{z(\\theta)} $$"
   ]
  },
  {
   "cell_type": "markdown",
   "metadata": {},
   "source": [
    "Exponential Distribution\n",
    "\n",
    "$$p_\\theta(x) = \\theta e^{- \\theta x} I(x)$$"
   ]
  },
  {
   "cell_type": "markdown",
   "metadata": {},
   "source": [
    "$$I(x) = \\begin{cases} 1 & x \\geq 0 \\\\ 0 & x < 0 \\end{cases}$$"
   ]
  },
  {
   "cell_type": "markdown",
   "metadata": {},
   "source": [
    "$$\\eta(\\theta) = \\theta, \\ s(x) = -x, \\ h(x) = I(x), \\ z(\\theta) = \\frac{1}{\\theta}$$"
   ]
  },
  {
   "cell_type": "markdown",
   "metadata": {},
   "source": [
    "Bernouli Distribution\n",
    "\n",
    "$$p_\\theta(x) = \\theta^x(1 - \\theta)^{1 - x}I(x)$$"
   ]
  },
  {
   "cell_type": "markdown",
   "metadata": {},
   "source": [
    "$$I(x) = \\begin{cases} 1 & x \\in \\{0, 1\\} \\\\ 0 & x \\not \\in \\{0, 1\\} \\end{cases}$$"
   ]
  },
  {
   "cell_type": "markdown",
   "metadata": {},
   "source": [
    "$$e^{\\log(p_\\theta(x))} = p_\\theta(x) = I(x) \\ \\text{exp}\\left(x\\log(\\theta) + (1 - x)\\log(1 - \\theta)\\right)$$"
   ]
  },
  {
   "cell_type": "markdown",
   "metadata": {},
   "source": [
    "$$\\eta(\\theta) = \\begin{pmatrix} \\log(\\theta) & \\log(1 - \\theta) \\end{pmatrix}^T, \\ s(x) = \\begin{pmatrix} x & 1 - x \\end{pmatrix}^T, \\ h(x) = I(x), \\ z(\\theta) = 1$$"
   ]
  },
  {
   "cell_type": "markdown",
   "metadata": {},
   "source": [
    "Continuous RV Distributions in Exponential Family\n",
    "* Exponential\n",
    "* Gaussian\n",
    "* Beta\n",
    "* Gamma\n",
    "* Chi-squared\n",
    "\n",
    "Discrete RV Distributions in Exponential Family\n",
    "* Bernoulli\n",
    "* Binomial\n",
    "* Poisson\n",
    "* Geometric\n",
    "* Multinomial"
   ]
  },
  {
   "cell_type": "markdown",
   "metadata": {},
   "source": [
    "MLE Estimation with Canonical Form\n",
    "\n",
    "$$\\eta(\\theta) = \\theta$$"
   ]
  },
  {
   "cell_type": "markdown",
   "metadata": {},
   "source": [
    "$$p_\\theta(x) = \\frac{h(x) \\ \\text{exp}\\left(\\theta^T s(x)\\right)}{z(\\theta)}$$"
   ]
  },
  {
   "cell_type": "markdown",
   "metadata": {},
   "source": [
    "$$D = (x_1, x_2, \\dots, x_n), \\ x \\in \\mathbb{R}^d$$"
   ]
  },
  {
   "cell_type": "markdown",
   "metadata": {},
   "source": [
    "$$\\theta_{MLE} = \\mathop{\\rm arg\\,max}\\limits_{\\theta \\in \\Theta} p(D \\vert \\theta)$$"
   ]
  },
  {
   "cell_type": "markdown",
   "metadata": {},
   "source": [
    "$$\\begin{align} p(D \\vert \\theta) &= \\prod_{i = 1}^n p(x_i \\vert \\theta) \\\\ &= \\frac{\\prod_{i = 1}^n h(x_i) \\ \\text{exp}\\left(\\theta^T \\left(\\sum_{i = 1}^n s(x_i) \\right) \\right)}{z(\\theta)^n} \\\\ &= \\frac{\\prod_{i = 1}^n h(x_i) \\ \\text{exp}\\left(\\theta^T s(D) \\right)}{z(\\theta)^n} \\end{align}$$"
   ]
  },
  {
   "cell_type": "markdown",
   "metadata": {},
   "source": [
    "$$\\theta_{MLE} = \\mathop{\\rm arg\\,max}\\limits_{\\theta \\in \\Theta} \\log(p(D \\vert \\theta))$$"
   ]
  },
  {
   "cell_type": "markdown",
   "metadata": {},
   "source": [
    "$$\\log(p(D \\vert \\theta)) = -n\\log(z(\\theta)) + \\theta^T s(D) + \\sum_{i = 1}^n \\log(h(x_i))$$"
   ]
  },
  {
   "cell_type": "markdown",
   "metadata": {},
   "source": [
    "$$\\frac{\\partial \\log(p(D \\vert \\theta))}{\\partial \\theta_j} = - n \\frac{\\partial \\log(z(\\theta))}{\\partial \\theta_j} + s_j(D)$$"
   ]
  },
  {
   "cell_type": "markdown",
   "metadata": {},
   "source": [
    "$$\\int_{X \\in \\mathbb{R}^d} p_\\theta(x) = \\int \\frac{h(x) \\ \\text{exp}\\left(\\theta^T s(x)\\right)}{z(\\theta)} \\, dx = 1$$\n",
    "\n",
    "$$\\therefore z(\\theta) = \\int h(x) \\ \\text{exp}\\left(\\theta^T s(x)\\right) \\, dx$$"
   ]
  },
  {
   "cell_type": "markdown",
   "metadata": {},
   "source": [
    "$$\\begin{align} \\frac{\\partial \\log(z(\\theta))}{\\partial \\theta_j} &= \\frac{1}{z(\\theta)} \\int \\frac{\\partial \\left(h(x) \\ \\text{exp}\\left(\\theta^T s(x)\\right) \\right)}{\\partial \\theta_j} \\, dx \\\\ &= \\frac{1}{z(\\theta)} \\int h(x) s_j(x) \\ \\text{exp}\\left(\\theta^T s(x) \\right) \\, dx \\\\ &= \\int  s_j(x) \\frac{h(x) \\ \\text{exp}\\left(\\theta^T s(x) \\right)}{z(\\theta)} \\, dx \\\\ &= \\int s_j(x) p(x \\vert \\theta) \\, dx \\\\ &= \\mathbb{E}_\\theta \\left[s_j(X)\\right] \\end{align}$$"
   ]
  },
  {
   "cell_type": "markdown",
   "metadata": {},
   "source": [
    "$$\\therefore \\nabla_\\theta \\log(z(\\theta)) = \\mathbb{E}_\\theta\\left[s(X)\\right]$$ "
   ]
  },
  {
   "cell_type": "markdown",
   "metadata": {},
   "source": [
    "$$\\begin{align} \\nabla_\\theta \\log(p(D \\vert \\theta)) &= - n \\nabla_\\theta \\log(z(\\theta)) + s(D) \\\\ &= - n \\ \\mathbb{E}_\\theta \\left[s(X)\\right] + s(D) \\\\ &= 0 \\end{align}$$"
   ]
  },
  {
   "cell_type": "markdown",
   "metadata": {},
   "source": [
    "$$\\mathbb{E}_\\theta \\left[s(X)\\right] = \\frac{s(D)}{n} = \\frac{\\sum_{i = 1}^n s(x_i)}{n}$$"
   ]
  },
  {
   "cell_type": "markdown",
   "metadata": {},
   "source": [
    "Exponential Distribution\n",
    "\n",
    "$$p_\\theta(x) = \\theta e^{- \\theta x} I(x)$$"
   ]
  },
  {
   "cell_type": "markdown",
   "metadata": {},
   "source": [
    "$$I(x) = \\begin{cases} 1 & x \\geq 0 \\\\ 0 & x < 0 \\end{cases}$$"
   ]
  },
  {
   "cell_type": "markdown",
   "metadata": {},
   "source": [
    "$$\\eta(\\theta) = \\theta, \\ s(x) = -x, \\ h(x) = I(x), \\ z(\\theta) = \\frac{1}{\\theta}$$"
   ]
  },
  {
   "cell_type": "markdown",
   "metadata": {},
   "source": [
    "$$\\begin{align} \\nabla_\\theta \\log(z(\\theta)) &= \\frac{d}{d\\theta}\\left[\\log\\left(\\frac{1}{\\theta}\\right) \\right] \\\\ &= \\frac{d}{d\\theta}\\left[- \\log(\\theta) \\right] \\\\ &= - \\frac{1}{\\theta} \\end{align}$$ "
   ]
  },
  {
   "cell_type": "markdown",
   "metadata": {},
   "source": [
    "$$\\mathbb{E}_\\theta \\left[s(X)\\right] = \\mathbb{E}_\\theta [-X] = - \\frac{1}{\\theta} \\implies \\mathbb{E}_\\theta [X] = \\frac{1}{\\theta}$$"
   ]
  },
  {
   "cell_type": "markdown",
   "metadata": {},
   "source": [
    "$$\\nabla_\\theta \\log(z(\\theta) = - \\frac{1}{\\theta} = \\frac{\\sum_{i = 1}^n -x_i}{n}$$\n",
    "\n",
    "$$\\therefore \\theta_{MLE} = \\frac{1}{\\frac{1}{n} \\sum_{i = 1}^n x_i}$$"
   ]
  }
 ],
 "metadata": {
  "kernelspec": {
   "display_name": "BayesPy",
   "language": "python",
   "name": "bayespy"
  },
  "language_info": {
   "codemirror_mode": {
    "name": "ipython",
    "version": 3
   },
   "file_extension": ".py",
   "mimetype": "text/x-python",
   "name": "python",
   "nbconvert_exporter": "python",
   "pygments_lexer": "ipython3",
   "version": "3.7.5"
  }
 },
 "nbformat": 4,
 "nbformat_minor": 2
}
