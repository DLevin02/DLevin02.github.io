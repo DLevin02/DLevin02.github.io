{
  "nbformat": 4,
  "nbformat_minor": 0,
  "metadata": {
    "colab": {
      "name": "2020-02-10-auto-complete.ipynb",
      "provenance": [],
      "collapsed_sections": [],
      "machine_shape": "hm"
    },
    "kernelspec": {
      "name": "python3",
      "display_name": "Python 3"
    },
    "accelerator": "GPU"
  },
  "cells": [
    {
      "cell_type": "code",
      "metadata": {
        "id": "nx6u7OkkmJsR",
        "colab_type": "code",
        "colab": {}
      },
      "source": [
        "import numpy as np\n",
        "import tensorflow as tf\n",
        "from tensorflow.keras import layers\n",
        "from tensorflow.keras.models import Model, load_model\n",
        "from tensorflow.keras.utils import plot_model\n",
        "%matplotlib inline\n",
        "%config InlineBackend.figure_format = 'svg'\n",
        "import matplotlib.pyplot as plt\n",
        "plt.style.use('seaborn')"
      ],
      "execution_count": 0,
      "outputs": []
    },
    {
      "cell_type": "code",
      "metadata": {
        "id": "OLK07mZgfCZ2",
        "colab_type": "code",
        "colab": {}
      },
      "source": [
        "def get_text():\n",
        "  path = tf.keras.utils.get_file('nietzsche.txt',\n",
        "                               origin='https://s3.amazonaws.com/text-datasets/nietzsche.txt') \n",
        "  text = open(path).read().lower()\n",
        "  return text"
      ],
      "execution_count": 0,
      "outputs": []
    },
    {
      "cell_type": "code",
      "metadata": {
        "id": "OJJFxGGNfgJZ",
        "colab_type": "code",
        "outputId": "914b6d90-f5a9-44ad-eac5-a44c67d6c670",
        "colab": {
          "base_uri": "https://localhost:8080/",
          "height": 34
        }
      },
      "source": [
        "text_data = get_text()\n",
        "print(\"Character length: {0}\".format(len(text_data)))"
      ],
      "execution_count": 4,
      "outputs": [
        {
          "output_type": "stream",
          "text": [
            "Character length: 600893\n"
          ],
          "name": "stdout"
        }
      ]
    },
    {
      "cell_type": "code",
      "metadata": {
        "id": "79Fjzj76fqew",
        "colab_type": "code",
        "outputId": "9b9a4d98-34f8-4aa4-813f-21816b6c537c",
        "colab": {
          "base_uri": "https://localhost:8080/",
          "height": 102
        }
      },
      "source": [
        "print(text_data[:100])"
      ],
      "execution_count": 5,
      "outputs": [
        {
          "output_type": "stream",
          "text": [
            "preface\n",
            "\n",
            "\n",
            "supposing that truth is a woman--what then? is there not ground\n",
            "for suspecting that all ph\n"
          ],
          "name": "stdout"
        }
      ]
    },
    {
      "cell_type": "code",
      "metadata": {
        "id": "KKYTDgx-f4LR",
        "colab_type": "code",
        "colab": {}
      },
      "source": [
        "def preprocess_split(text, max_len, step):\n",
        "  sentences, next_char = [], []\n",
        "  for i in range(0, len(text) - max_len, step):\n",
        "    sentences.append(text[i: i + max_len])\n",
        "    next_char.append(text[i + max_len])\n",
        "  char_lst = sorted(list(set(text)))\n",
        "  char_dict = {char: char_lst.index(char) for char in char_lst}\n",
        "  X = np.zeros((len(sentences), max_len, len(char_lst)), dtype=np.bool)\n",
        "  y = np.zeros((len(next_char), len(char_lst)), dtype=np.bool)\n",
        "  for i, sentence in enumerate(sentences):\n",
        "    for j, char in enumerate(sentence):\n",
        "      X[i, j, char_dict[char]] = 1\n",
        "    y[i, char_dict[next_char[i]]] = 1\n",
        "  return X, y, char_dict"
      ],
      "execution_count": 0,
      "outputs": []
    },
    {
      "cell_type": "code",
      "metadata": {
        "id": "7snu6n_AhEzx",
        "colab_type": "code",
        "outputId": "8e1f6732-d4c7-425f-d285-fccaf6cf462c",
        "colab": {
          "base_uri": "https://localhost:8080/",
          "height": 51
        }
      },
      "source": [
        "max_len = 60\n",
        "X, y, char_dict = preprocess_split(text_data, max_len, 3)\n",
        "vocab_size = len(char_dict)\n",
        "print(\"Number of sequences: {0}\\nNumber of unique characters: {1}\".format(len(X), vocab_size))"
      ],
      "execution_count": 7,
      "outputs": [
        {
          "output_type": "stream",
          "text": [
            "Number of sequences: 200278\n",
            "Number of unique characters: 57\n"
          ],
          "name": "stdout"
        }
      ]
    },
    {
      "cell_type": "code",
      "metadata": {
        "id": "anOMTfUCmP65",
        "colab_type": "code",
        "colab": {}
      },
      "source": [
        "def build_model(max_len, vocab_size):\n",
        "  inputs = layers.Input(shape=(max_len, vocab_size))\n",
        "  x = layers.LSTM(128)(inputs)\n",
        "  output = layers.Dense(vocab_size, activation=tf.nn.softmax)(x)\n",
        "  model = Model(inputs, output)\n",
        "  model.compile(optimizer='adam', loss='categorical_crossentropy')\n",
        "  return model"
      ],
      "execution_count": 0,
      "outputs": []
    },
    {
      "cell_type": "code",
      "metadata": {
        "id": "zYYO5BdNoBgY",
        "colab_type": "code",
        "outputId": "44f0735a-a740-45aa-879f-bb70442612a2",
        "colab": {
          "base_uri": "https://localhost:8080/",
          "height": 312
        }
      },
      "source": [
        "model = build_model(max_len, vocab_size)\n",
        "plot_model(model, show_shapes=True, show_layer_names=True)"
      ],
      "execution_count": 14,
      "outputs": [
        {
          "output_type": "execute_result",
          "data": {
            "image/png": "[encoded data removed]",
            "text/plain": [
              "<IPython.core.display.Image object>"
            ]
          },
          "metadata": {
            "tags": []
          },
          "execution_count": 14
        }
      ]
    },
    {
      "cell_type": "code",
      "metadata": {
        "id": "xkY1WrIToig-",
        "colab_type": "code",
        "outputId": "0ec5b785-0697-49b2-bed1-e824aa8d019c",
        "colab": {
          "base_uri": "https://localhost:8080/",
          "height": 1000
        }
      },
      "source": [
        "history = model.fit(X, y, epochs=50, batch_size=128)"
      ],
      "execution_count": 15,
      "outputs": [
        {
          "output_type": "stream",
          "text": [
            "Train on 200278 samples\n",
            "Epoch 1/50\n",
            "200278/200278 [==============================] - 164s 817us/sample - loss: 2.5568\n",
            "Epoch 2/50\n",
            "200278/200278 [==============================] - 163s 813us/sample - loss: 2.1656\n",
            "Epoch 3/50\n",
            "200278/200278 [==============================] - 162s 810us/sample - loss: 2.0227\n",
            "Epoch 4/50\n",
            "200278/200278 [==============================] - 162s 809us/sample - loss: 1.9278\n",
            "Epoch 5/50\n",
            "200278/200278 [==============================] - 161s 805us/sample - loss: 1.8586\n",
            "Epoch 6/50\n",
            "200278/200278 [==============================] - 162s 811us/sample - loss: 1.8032\n",
            "Epoch 7/50\n",
            "200278/200278 [==============================] - 163s 815us/sample - loss: 1.7582\n",
            "Epoch 8/50\n",
            "200278/200278 [==============================] - 165s 825us/sample - loss: 1.7197\n",
            "Epoch 9/50\n",
            "200278/200278 [==============================] - 167s 833us/sample - loss: 1.6866\n",
            "Epoch 10/50\n",
            "200278/200278 [==============================] - 166s 830us/sample - loss: 1.6577\n",
            "Epoch 11/50\n",
            "200278/200278 [==============================] - 165s 823us/sample - loss: 1.6312\n",
            "Epoch 12/50\n",
            "200278/200278 [==============================] - 162s 810us/sample - loss: 1.6074\n",
            "Epoch 13/50\n",
            "200278/200278 [==============================] - 162s 811us/sample - loss: 1.5862\n",
            "Epoch 14/50\n",
            "200278/200278 [==============================] - 161s 805us/sample - loss: 1.5668\n",
            "Epoch 15/50\n",
            "200278/200278 [==============================] - 165s 822us/sample - loss: 1.5492\n",
            "Epoch 16/50\n",
            "200278/200278 [==============================] - 166s 829us/sample - loss: 1.5333\n",
            "Epoch 17/50\n",
            "200278/200278 [==============================] - 167s 832us/sample - loss: 1.5182\n",
            "Epoch 18/50\n",
            "200278/200278 [==============================] - 166s 828us/sample - loss: 1.5051\n",
            "Epoch 19/50\n",
            "200278/200278 [==============================] - 166s 827us/sample - loss: 1.4922\n",
            "Epoch 20/50\n",
            "200278/200278 [==============================] - 164s 819us/sample - loss: 1.4801\n",
            "Epoch 21/50\n",
            "200278/200278 [==============================] - 165s 826us/sample - loss: 1.4688\n",
            "Epoch 22/50\n",
            "200278/200278 [==============================] - 165s 826us/sample - loss: 1.4582\n",
            "Epoch 23/50\n",
            "200278/200278 [==============================] - 165s 822us/sample - loss: 1.4488\n",
            "Epoch 24/50\n",
            "200278/200278 [==============================] - 163s 813us/sample - loss: 1.4386\n",
            "Epoch 25/50\n",
            "200278/200278 [==============================] - 167s 832us/sample - loss: 1.4305\n",
            "Epoch 26/50\n",
            "200278/200278 [==============================] - 166s 830us/sample - loss: 1.4220\n",
            "Epoch 27/50\n",
            "200278/200278 [==============================] - 167s 832us/sample - loss: 1.4137\n",
            "Epoch 28/50\n",
            "200278/200278 [==============================] - 167s 833us/sample - loss: 1.4060\n",
            "Epoch 29/50\n",
            "200278/200278 [==============================] - 166s 827us/sample - loss: 1.3989\n",
            "Epoch 30/50\n",
            "200278/200278 [==============================] - 164s 820us/sample - loss: 1.3910\n",
            "Epoch 31/50\n",
            "200278/200278 [==============================] - 163s 815us/sample - loss: 1.3846\n",
            "Epoch 32/50\n",
            "200278/200278 [==============================] - 162s 810us/sample - loss: 1.3777\n",
            "Epoch 33/50\n",
            "200278/200278 [==============================] - 162s 809us/sample - loss: 1.3720\n",
            "Epoch 34/50\n",
            "200278/200278 [==============================] - 160s 798us/sample - loss: 1.3649\n",
            "Epoch 35/50\n",
            "200278/200278 [==============================] - 163s 815us/sample - loss: 1.3599\n",
            "Epoch 36/50\n",
            "200278/200278 [==============================] - 162s 807us/sample - loss: 1.3538\n",
            "Epoch 37/50\n",
            "200278/200278 [==============================] - 162s 808us/sample - loss: 1.3482\n",
            "Epoch 38/50\n",
            "200278/200278 [==============================] - 162s 809us/sample - loss: 1.3423\n",
            "Epoch 39/50\n",
            "200278/200278 [==============================] - 163s 813us/sample - loss: 1.3371\n",
            "Epoch 40/50\n",
            "200278/200278 [==============================] - 164s 820us/sample - loss: 1.3319\n",
            "Epoch 41/50\n",
            "200278/200278 [==============================] - 163s 814us/sample - loss: 1.3268\n",
            "Epoch 42/50\n",
            "200278/200278 [==============================] - 165s 825us/sample - loss: 1.3223\n",
            "Epoch 43/50\n",
            "200278/200278 [==============================] - 164s 820us/sample - loss: 1.3171\n",
            "Epoch 44/50\n",
            "200278/200278 [==============================] - 164s 819us/sample - loss: 1.3127\n",
            "Epoch 45/50\n",
            "200278/200278 [==============================] - 165s 822us/sample - loss: 1.3080\n",
            "Epoch 46/50\n",
            "200278/200278 [==============================] - 163s 813us/sample - loss: 1.3034\n",
            "Epoch 47/50\n",
            "200278/200278 [==============================] - 163s 813us/sample - loss: 1.2987\n",
            "Epoch 48/50\n",
            "200278/200278 [==============================] - 162s 809us/sample - loss: 1.2955\n",
            "Epoch 49/50\n",
            "200278/200278 [==============================] - 161s 804us/sample - loss: 1.2905\n",
            "Epoch 50/50\n",
            "200278/200278 [==============================] - 162s 811us/sample - loss: 1.2865\n"
          ],
          "name": "stdout"
        }
      ]
    },
    {
      "cell_type": "code",
      "metadata": {
        "id": "HhPyUzrJfR-K",
        "colab_type": "code",
        "colab": {}
      },
      "source": [
        "from google.colab import files\n",
        "\n",
        "model = model.save('model.hdf5')\n",
        "files.download('model.hdf5')"
      ],
      "execution_count": 0,
      "outputs": []
    },
    {
      "cell_type": "code",
      "metadata": {
        "id": "MOJE43ebgWh7",
        "colab_type": "code",
        "colab": {}
      },
      "source": [
        "model = load_model('model.hdf5')"
      ],
      "execution_count": 0,
      "outputs": []
    },
    {
      "cell_type": "code",
      "metadata": {
        "id": "WBovYi9Ced_N",
        "colab_type": "code",
        "colab": {}
      },
      "source": [
        "def plot_learning_curve(history):\n",
        "  loss = history.history['loss']\n",
        "  epochs = [i for i, _ in enumerate(loss)]\n",
        "  plt.scatter(epochs, loss, color='skyblue')\n",
        "  plt.xlabel('Epochs'); plt.ylabel('Cross Entropy Loss')\n",
        "  plt.show()"
      ],
      "execution_count": 0,
      "outputs": []
    },
    {
      "cell_type": "code",
      "metadata": {
        "id": "4Z3ecoUMfa-S",
        "colab_type": "code",
        "colab": {
          "base_uri": "https://localhost:8080/",
          "height": 479
        },
        "outputId": "97a2fbf2-a206-45e0-e8eb-099b08f63286"
      },
      "source": [
        "plot_learning_curve(history)"
      ],
      "execution_count": 29,
      "outputs": [
        {
          "output_type": "display_data",
          "data": {
            "text/plain": [
              "<Figure size 576x396 with 1 Axes>"
            ],
            "image/svg+xml": "<?xml version=\"1.0\" encoding=\"utf-8\" standalone=\"no\"?>\n<!DOCTYPE svg PUBLIC \"-//W3C//DTD SVG 1.1//EN\"\n  \"http://www.w3.org/Graphics/SVG/1.1/DTD/svg11.dtd\">\n<!-- Created with matplotlib (https://matplotlib.org/) -->\n<svg height=\"343.955937pt\" version=\"1.1\" viewBox=\"0 0 495.954062 343.955937\" width=\"495.954062pt\" xmlns=\"http://www.w3.org/2000/svg\" xmlns:xlink=\"http://www.w3.org/1999/xlink\">\n <defs>\n  <style type=\"text/css\">\n*{stroke-linecap:butt;stroke-linejoin:round;}\n  </style>\n </defs>\n <g id=\"figure_1\">\n  <g id=\"patch_1\">\n   <path d=\"M 0 343.955937 \nL 495.954062 343.955937 \nL 495.954062 0 \nL 0 0 \nz\n\" style=\"fill:#ffffff;\"/>\n  </g>\n  <g id=\"axes_1\">\n   <g id=\"patch_2\">\n    <path d=\"M 42.354063 306.18 \nL 488.754062 306.18 \nL 488.754062 7.2 \nL 42.354063 7.2 \nz\n\" style=\"fill:#eaeaf2;\"/>\n   </g>\n   <g id=\"matplotlib.axis_1\">\n    <g id=\"xtick_1\">\n     <g id=\"line2d_1\">\n      <path clip-path=\"url(#pb4df5e9632)\" d=\"M 62.709886 306.18 \nL 62.709886 7.2 \n\" style=\"fill:none;stroke:#ffffff;stroke-linecap:round;\"/>\n     </g>\n     <g id=\"line2d_2\"/>\n     <g id=\"text_1\">\n      <!-- 0 -->\n      <defs>\n       <path d=\"M 51.703125 34.421875 \nQ 51.703125 24.515625 49.828125 17.75 \nQ 47.953125 10.984375 44.703125 6.8125 \nQ 41.453125 2.640625 37.0625 0.828125 \nQ 32.671875 -0.984375 27.6875 -0.984375 \nQ 22.65625 -0.984375 18.3125 0.828125 \nQ 13.96875 2.640625 10.765625 6.78125 \nQ 7.5625 10.9375 5.734375 17.703125 \nQ 3.90625 24.46875 3.90625 34.421875 \nQ 3.90625 44.828125 5.734375 51.640625 \nQ 7.5625 58.453125 10.78125 62.5 \nQ 14.015625 66.546875 18.40625 68.1875 \nQ 22.796875 69.828125 27.984375 69.828125 \nQ 32.90625 69.828125 37.21875 68.1875 \nQ 41.546875 66.546875 44.765625 62.5 \nQ 48 58.453125 49.84375 51.640625 \nQ 51.703125 44.828125 51.703125 34.421875 \nz\nM 42.78125 34.421875 \nQ 42.78125 42.625 41.796875 48.0625 \nQ 40.828125 53.515625 38.921875 56.765625 \nQ 37.015625 60.015625 34.25 61.359375 \nQ 31.5 62.703125 27.984375 62.703125 \nQ 24.265625 62.703125 21.4375 61.328125 \nQ 18.609375 59.96875 16.671875 56.71875 \nQ 14.75 53.46875 13.765625 48.015625 \nQ 12.796875 42.578125 12.796875 34.421875 \nQ 12.796875 26.515625 13.796875 21.09375 \nQ 14.796875 15.671875 16.71875 12.375 \nQ 18.65625 9.078125 21.4375 7.640625 \nQ 24.21875 6.203125 27.78125 6.203125 \nQ 31.25 6.203125 34.03125 7.640625 \nQ 36.8125 9.078125 38.734375 12.375 \nQ 40.671875 15.671875 41.71875 21.09375 \nQ 42.78125 26.515625 42.78125 34.421875 \nz\n\" id=\"LiberationSans-48\"/>\n      </defs>\n      <g style=\"fill:#262626;\" transform=\"translate(59.929417 320.426875)scale(0.1 -0.1)\">\n       <use xlink:href=\"#LiberationSans-48\"/>\n      </g>\n     </g>\n    </g>\n    <g id=\"xtick_2\">\n     <g id=\"line2d_3\">\n      <path clip-path=\"url(#pb4df5e9632)\" d=\"M 145.503427 306.18 \nL 145.503427 7.2 \n\" style=\"fill:none;stroke:#ffffff;stroke-linecap:round;\"/>\n     </g>\n     <g id=\"line2d_4\"/>\n     <g id=\"text_2\">\n      <!-- 10 -->\n      <defs>\n       <path d=\"M 7.625 0 \nL 7.625 7.46875 \nL 25.140625 7.46875 \nL 25.140625 60.40625 \nL 9.625 49.3125 \nL 9.625 57.625 \nL 25.875 68.796875 \nL 33.984375 68.796875 \nL 33.984375 7.46875 \nL 50.734375 7.46875 \nL 50.734375 0 \nz\n\" id=\"LiberationSans-49\"/>\n      </defs>\n      <g style=\"fill:#262626;\" transform=\"translate(139.94249 320.426875)scale(0.1 -0.1)\">\n       <use xlink:href=\"#LiberationSans-49\"/>\n       <use x=\"55.615234\" xlink:href=\"#LiberationSans-48\"/>\n      </g>\n     </g>\n    </g>\n    <g id=\"xtick_3\">\n     <g id=\"line2d_5\">\n      <path clip-path=\"url(#pb4df5e9632)\" d=\"M 228.296969 306.18 \nL 228.296969 7.2 \n\" style=\"fill:none;stroke:#ffffff;stroke-linecap:round;\"/>\n     </g>\n     <g id=\"line2d_6\"/>\n     <g id=\"text_3\">\n      <!-- 20 -->\n      <defs>\n       <path d=\"M 5.03125 0 \nL 5.03125 6.203125 \nQ 7.515625 11.921875 11.109375 16.28125 \nQ 14.703125 20.65625 18.65625 24.1875 \nQ 22.609375 27.734375 26.484375 30.765625 \nQ 30.375 33.796875 33.5 36.8125 \nQ 36.625 39.84375 38.546875 43.15625 \nQ 40.484375 46.484375 40.484375 50.6875 \nQ 40.484375 53.609375 39.59375 55.828125 \nQ 38.71875 58.0625 37.0625 59.5625 \nQ 35.40625 61.078125 33.078125 61.828125 \nQ 30.765625 62.59375 27.9375 62.59375 \nQ 25.296875 62.59375 22.96875 61.859375 \nQ 20.65625 61.140625 18.84375 59.671875 \nQ 17.046875 58.203125 15.890625 56.03125 \nQ 14.75 53.859375 14.40625 50.984375 \nL 5.421875 51.8125 \nQ 5.859375 55.515625 7.46875 58.78125 \nQ 9.078125 62.0625 11.90625 64.53125 \nQ 14.75 67 18.71875 68.40625 \nQ 22.703125 69.828125 27.9375 69.828125 \nQ 33.0625 69.828125 37.0625 68.609375 \nQ 41.0625 67.390625 43.8125 64.984375 \nQ 46.578125 62.59375 48.046875 59.078125 \nQ 49.515625 55.5625 49.515625 50.984375 \nQ 49.515625 47.515625 48.265625 44.390625 \nQ 47.015625 41.265625 44.9375 38.421875 \nQ 42.875 35.59375 40.140625 32.953125 \nQ 37.40625 30.328125 34.421875 27.8125 \nQ 31.453125 25.296875 28.421875 22.828125 \nQ 25.390625 20.359375 22.71875 17.859375 \nQ 20.0625 15.375 17.96875 12.8125 \nQ 15.875 10.25 14.703125 7.46875 \nL 50.59375 7.46875 \nL 50.59375 0 \nz\n\" id=\"LiberationSans-50\"/>\n      </defs>\n      <g style=\"fill:#262626;\" transform=\"translate(222.736031 320.426875)scale(0.1 -0.1)\">\n       <use xlink:href=\"#LiberationSans-50\"/>\n       <use x=\"55.615234\" xlink:href=\"#LiberationSans-48\"/>\n      </g>\n     </g>\n    </g>\n    <g id=\"xtick_4\">\n     <g id=\"line2d_7\">\n      <path clip-path=\"url(#pb4df5e9632)\" d=\"M 311.09051 306.18 \nL 311.09051 7.2 \n\" style=\"fill:none;stroke:#ffffff;stroke-linecap:round;\"/>\n     </g>\n     <g id=\"line2d_8\"/>\n     <g id=\"text_4\">\n      <!-- 30 -->\n      <defs>\n       <path d=\"M 51.21875 19 \nQ 51.21875 14.265625 49.671875 10.546875 \nQ 48.140625 6.84375 45.1875 4.265625 \nQ 42.234375 1.703125 37.859375 0.359375 \nQ 33.5 -0.984375 27.875 -0.984375 \nQ 21.484375 -0.984375 17.109375 0.609375 \nQ 12.75 2.203125 9.90625 4.8125 \nQ 7.078125 7.421875 5.65625 10.765625 \nQ 4.25 14.109375 3.8125 17.671875 \nL 12.890625 18.5 \nQ 13.28125 15.765625 14.328125 13.515625 \nQ 15.375 11.28125 17.1875 9.671875 \nQ 19 8.0625 21.625 7.171875 \nQ 24.265625 6.296875 27.875 6.296875 \nQ 34.515625 6.296875 38.296875 9.5625 \nQ 42.09375 12.84375 42.09375 19.28125 \nQ 42.09375 23.09375 40.40625 25.40625 \nQ 38.71875 27.734375 36.203125 29.03125 \nQ 33.6875 30.328125 30.734375 30.765625 \nQ 27.78125 31.203125 25.296875 31.203125 \nL 20.3125 31.203125 \nL 20.3125 38.8125 \nL 25.09375 38.8125 \nQ 27.59375 38.8125 30.265625 39.328125 \nQ 32.953125 39.84375 35.171875 41.1875 \nQ 37.40625 42.53125 38.84375 44.828125 \nQ 40.28125 47.125 40.28125 50.6875 \nQ 40.28125 56.203125 37.03125 59.390625 \nQ 33.796875 62.59375 27.390625 62.59375 \nQ 21.578125 62.59375 17.984375 59.609375 \nQ 14.40625 56.640625 13.8125 51.21875 \nL 4.984375 51.90625 \nQ 5.515625 56.453125 7.46875 59.8125 \nQ 9.421875 63.1875 12.421875 65.40625 \nQ 15.4375 67.625 19.28125 68.71875 \nQ 23.140625 69.828125 27.484375 69.828125 \nQ 33.25 69.828125 37.390625 68.375 \nQ 41.546875 66.9375 44.1875 64.46875 \nQ 46.828125 62.015625 48.0625 58.6875 \nQ 49.3125 55.375 49.3125 51.609375 \nQ 49.3125 48.578125 48.484375 45.9375 \nQ 47.65625 43.3125 45.890625 41.203125 \nQ 44.140625 39.109375 41.421875 37.59375 \nQ 38.71875 36.078125 34.90625 35.296875 \nL 34.90625 35.109375 \nQ 39.0625 34.671875 42.140625 33.21875 \nQ 45.21875 31.78125 47.21875 29.625 \nQ 49.21875 27.484375 50.21875 24.75 \nQ 51.21875 22.015625 51.21875 19 \nz\n\" id=\"LiberationSans-51\"/>\n      </defs>\n      <g style=\"fill:#262626;\" transform=\"translate(305.529573 320.426875)scale(0.1 -0.1)\">\n       <use xlink:href=\"#LiberationSans-51\"/>\n       <use x=\"55.615234\" xlink:href=\"#LiberationSans-48\"/>\n      </g>\n     </g>\n    </g>\n    <g id=\"xtick_5\">\n     <g id=\"line2d_9\">\n      <path clip-path=\"url(#pb4df5e9632)\" d=\"M 393.884052 306.18 \nL 393.884052 7.2 \n\" style=\"fill:none;stroke:#ffffff;stroke-linecap:round;\"/>\n     </g>\n     <g id=\"line2d_10\"/>\n     <g id=\"text_5\">\n      <!-- 40 -->\n      <defs>\n       <path d=\"M 43.015625 15.578125 \nL 43.015625 0 \nL 34.71875 0 \nL 34.71875 15.578125 \nL 2.296875 15.578125 \nL 2.296875 22.40625 \nL 33.796875 68.796875 \nL 43.015625 68.796875 \nL 43.015625 22.515625 \nL 52.6875 22.515625 \nL 52.6875 15.578125 \nz\nM 34.71875 58.890625 \nQ 34.625 58.640625 34.234375 57.9375 \nQ 33.84375 57.234375 33.34375 56.34375 \nQ 32.859375 55.46875 32.34375 54.5625 \nQ 31.84375 53.65625 31.453125 53.078125 \nL 13.8125 27.09375 \nQ 13.578125 26.703125 13.109375 26.0625 \nQ 12.640625 25.4375 12.15625 24.78125 \nQ 11.671875 24.125 11.171875 23.484375 \nQ 10.6875 22.859375 10.40625 22.515625 \nL 34.71875 22.515625 \nz\n\" id=\"LiberationSans-52\"/>\n      </defs>\n      <g style=\"fill:#262626;\" transform=\"translate(388.323114 320.426875)scale(0.1 -0.1)\">\n       <use xlink:href=\"#LiberationSans-52\"/>\n       <use x=\"55.615234\" xlink:href=\"#LiberationSans-48\"/>\n      </g>\n     </g>\n    </g>\n    <g id=\"xtick_6\">\n     <g id=\"line2d_11\">\n      <path clip-path=\"url(#pb4df5e9632)\" d=\"M 476.677593 306.18 \nL 476.677593 7.2 \n\" style=\"fill:none;stroke:#ffffff;stroke-linecap:round;\"/>\n     </g>\n     <g id=\"line2d_12\"/>\n     <g id=\"text_6\">\n      <!-- 50 -->\n      <defs>\n       <path d=\"M 51.421875 22.40625 \nQ 51.421875 17.234375 49.859375 12.9375 \nQ 48.296875 8.640625 45.21875 5.53125 \nQ 42.140625 2.4375 37.578125 0.71875 \nQ 33.015625 -0.984375 27 -0.984375 \nQ 21.578125 -0.984375 17.546875 0.28125 \nQ 13.53125 1.5625 10.734375 3.78125 \nQ 7.953125 6 6.3125 8.984375 \nQ 4.6875 11.96875 4 15.375 \nL 12.890625 16.40625 \nQ 13.421875 14.453125 14.390625 12.625 \nQ 15.375 10.796875 17.0625 9.34375 \nQ 18.75 7.90625 21.21875 7.046875 \nQ 23.6875 6.203125 27.203125 6.203125 \nQ 30.609375 6.203125 33.390625 7.25 \nQ 36.1875 8.296875 38.15625 10.34375 \nQ 40.140625 12.40625 41.203125 15.375 \nQ 42.28125 18.359375 42.28125 22.21875 \nQ 42.28125 25.390625 41.25 28.046875 \nQ 40.234375 30.71875 38.328125 32.640625 \nQ 36.421875 34.578125 33.65625 35.640625 \nQ 30.90625 36.71875 27.390625 36.71875 \nQ 25.203125 36.71875 23.34375 36.328125 \nQ 21.484375 35.9375 19.890625 35.25 \nQ 18.3125 34.578125 17.015625 33.671875 \nQ 15.71875 32.765625 14.59375 31.78125 \nL 6 31.78125 \nL 8.296875 68.796875 \nL 47.40625 68.796875 \nL 47.40625 61.328125 \nL 16.3125 61.328125 \nL 14.984375 39.5 \nQ 17.328125 41.3125 20.84375 42.59375 \nQ 24.359375 43.890625 29.203125 43.890625 \nQ 34.328125 43.890625 38.421875 42.328125 \nQ 42.53125 40.765625 45.40625 37.90625 \nQ 48.296875 35.0625 49.859375 31.109375 \nQ 51.421875 27.15625 51.421875 22.40625 \nz\n\" id=\"LiberationSans-53\"/>\n      </defs>\n      <g style=\"fill:#262626;\" transform=\"translate(471.116656 320.426875)scale(0.1 -0.1)\">\n       <use xlink:href=\"#LiberationSans-53\"/>\n       <use x=\"55.615234\" xlink:href=\"#LiberationSans-48\"/>\n      </g>\n     </g>\n    </g>\n    <g id=\"text_7\">\n     <!-- Epochs -->\n     <defs>\n      <path d=\"M 8.203125 0 \nL 8.203125 68.796875 \nL 60.40625 68.796875 \nL 60.40625 61.1875 \nL 17.53125 61.1875 \nL 17.53125 39.109375 \nL 57.46875 39.109375 \nL 57.46875 31.59375 \nL 17.53125 31.59375 \nL 17.53125 7.625 \nL 62.40625 7.625 \nL 62.40625 0 \nz\n\" id=\"LiberationSans-69\"/>\n      <path d=\"M 51.421875 26.65625 \nQ 51.421875 20.65625 50.4375 15.578125 \nQ 49.46875 10.5 47.1875 6.828125 \nQ 44.921875 3.171875 41.1875 1.09375 \nQ 37.453125 -0.984375 31.984375 -0.984375 \nQ 26.3125 -0.984375 22.0625 1.171875 \nQ 17.828125 3.328125 15.578125 8.203125 \nL 15.328125 8.203125 \nQ 15.375 8.109375 15.40625 7.328125 \nQ 15.4375 6.546875 15.453125 5.375 \nQ 15.484375 4.203125 15.5 2.75 \nQ 15.53125 1.3125 15.53125 -0.09375 \nL 15.53125 -20.75 \nL 6.734375 -20.75 \nL 6.734375 42.046875 \nQ 6.734375 43.953125 6.703125 45.703125 \nQ 6.6875 47.46875 6.640625 48.90625 \nQ 6.59375 50.34375 6.546875 51.359375 \nQ 6.5 52.390625 6.453125 52.828125 \nL 14.9375 52.828125 \nQ 14.984375 52.6875 15.0625 51.796875 \nQ 15.140625 50.921875 15.203125 49.671875 \nQ 15.28125 48.4375 15.359375 47.015625 \nQ 15.4375 45.609375 15.4375 44.34375 \nL 15.625 44.34375 \nQ 16.84375 46.875 18.40625 48.65625 \nQ 19.96875 50.4375 21.96875 51.578125 \nQ 23.96875 52.734375 26.4375 53.25 \nQ 28.90625 53.765625 31.984375 53.765625 \nQ 37.453125 53.765625 41.1875 51.8125 \nQ 44.921875 49.859375 47.1875 46.3125 \nQ 49.46875 42.78125 50.4375 37.765625 \nQ 51.421875 32.765625 51.421875 26.65625 \nz\nM 42.1875 26.46875 \nQ 42.1875 31.34375 41.59375 35.15625 \nQ 41.015625 38.96875 39.578125 41.59375 \nQ 38.140625 44.234375 35.734375 45.59375 \nQ 33.34375 46.96875 29.734375 46.96875 \nQ 26.8125 46.96875 24.21875 46.140625 \nQ 21.625 45.3125 19.703125 42.96875 \nQ 17.78125 40.625 16.65625 36.5 \nQ 15.53125 32.375 15.53125 25.78125 \nQ 15.53125 20.171875 16.453125 16.28125 \nQ 17.390625 12.40625 19.171875 10.015625 \nQ 20.953125 7.625 23.578125 6.5625 \nQ 26.21875 5.515625 29.640625 5.515625 \nQ 33.296875 5.515625 35.71875 6.921875 \nQ 38.140625 8.34375 39.578125 11.03125 \nQ 41.015625 13.71875 41.59375 17.59375 \nQ 42.1875 21.484375 42.1875 26.46875 \nz\n\" id=\"LiberationSans-112\"/>\n      <path d=\"M 51.421875 26.46875 \nQ 51.421875 12.59375 45.3125 5.796875 \nQ 39.203125 -0.984375 27.59375 -0.984375 \nQ 22.078125 -0.984375 17.71875 0.671875 \nQ 13.375 2.34375 10.375 5.765625 \nQ 7.375 9.1875 5.78125 14.328125 \nQ 4.203125 19.484375 4.203125 26.46875 \nQ 4.203125 53.8125 27.875 53.8125 \nQ 34.03125 53.8125 38.5 52.09375 \nQ 42.96875 50.390625 45.828125 46.96875 \nQ 48.6875 43.5625 50.046875 38.421875 \nQ 51.421875 33.296875 51.421875 26.46875 \nz\nM 42.1875 26.46875 \nQ 42.1875 32.625 41.234375 36.625 \nQ 40.28125 40.625 38.453125 43.015625 \nQ 36.625 45.40625 33.984375 46.359375 \nQ 31.34375 47.3125 28.03125 47.3125 \nQ 24.65625 47.3125 21.9375 46.3125 \nQ 19.234375 45.3125 17.328125 42.890625 \nQ 15.4375 40.484375 14.421875 36.46875 \nQ 13.421875 32.46875 13.421875 26.46875 \nQ 13.421875 20.3125 14.5 16.28125 \nQ 15.578125 12.25 17.453125 9.859375 \nQ 19.34375 7.46875 21.90625 6.484375 \nQ 24.46875 5.515625 27.484375 5.515625 \nQ 30.859375 5.515625 33.59375 6.46875 \nQ 36.328125 7.421875 38.234375 9.8125 \nQ 40.140625 12.203125 41.15625 16.25 \nQ 42.1875 20.3125 42.1875 26.46875 \nz\n\" id=\"LiberationSans-111\"/>\n      <path d=\"M 13.421875 26.65625 \nQ 13.421875 22.125 14.078125 18.3125 \nQ 14.75 14.5 16.3125 11.734375 \nQ 17.875 8.984375 20.4375 7.46875 \nQ 23 5.953125 26.765625 5.953125 \nQ 31.453125 5.953125 34.59375 8.484375 \nQ 37.75 11.03125 38.484375 16.3125 \nL 47.359375 15.71875 \nQ 46.921875 12.453125 45.453125 9.421875 \nQ 44 6.390625 41.484375 4.09375 \nQ 38.96875 1.8125 35.34375 0.40625 \nQ 31.734375 -0.984375 27 -0.984375 \nQ 20.796875 -0.984375 16.453125 1.109375 \nQ 12.109375 3.21875 9.390625 6.90625 \nQ 6.6875 10.59375 5.46875 15.59375 \nQ 4.25 20.609375 4.25 26.46875 \nQ 4.25 31.78125 5.125 35.859375 \nQ 6 39.9375 7.59375 42.984375 \nQ 9.1875 46.046875 11.328125 48.125 \nQ 13.484375 50.203125 15.984375 51.4375 \nQ 18.5 52.6875 21.28125 53.25 \nQ 24.078125 53.8125 26.90625 53.8125 \nQ 31.34375 53.8125 34.8125 52.59375 \nQ 38.28125 51.375 40.796875 49.25 \nQ 43.3125 47.125 44.875 44.234375 \nQ 46.4375 41.359375 47.078125 38.03125 \nL 38.03125 37.359375 \nQ 37.359375 41.75 34.5625 44.328125 \nQ 31.78125 46.921875 26.65625 46.921875 \nQ 22.90625 46.921875 20.390625 45.671875 \nQ 17.875 44.4375 16.3125 41.921875 \nQ 14.75 39.40625 14.078125 35.59375 \nQ 13.421875 31.78125 13.421875 26.65625 \nz\n\" id=\"LiberationSans-99\"/>\n      <path d=\"M 15.484375 43.796875 \nQ 16.9375 46.484375 18.640625 48.359375 \nQ 20.359375 50.25 22.40625 51.46875 \nQ 24.46875 52.6875 26.90625 53.25 \nQ 29.34375 53.8125 32.375 53.8125 \nQ 37.453125 53.8125 40.703125 52.4375 \nQ 43.953125 51.078125 45.828125 48.609375 \nQ 47.703125 46.140625 48.40625 42.71875 \nQ 49.125 39.3125 49.125 35.203125 \nL 49.125 0 \nL 40.28125 0 \nL 40.28125 33.5 \nQ 40.28125 36.859375 39.859375 39.390625 \nQ 39.453125 41.9375 38.28125 43.625 \nQ 37.109375 45.3125 34.953125 46.15625 \nQ 32.8125 47.015625 29.390625 47.015625 \nQ 26.265625 47.015625 23.75 45.890625 \nQ 21.234375 44.78125 19.453125 42.71875 \nQ 17.671875 40.671875 16.6875 37.734375 \nQ 15.71875 34.8125 15.71875 31.15625 \nL 15.71875 0 \nL 6.9375 0 \nL 6.9375 72.46875 \nL 15.71875 72.46875 \nL 15.71875 53.609375 \nQ 15.71875 52 15.671875 50.390625 \nQ 15.625 48.78125 15.546875 47.40625 \nQ 15.484375 46.046875 15.421875 45.09375 \nQ 15.375 44.140625 15.328125 43.796875 \nz\n\" id=\"LiberationSans-104\"/>\n      <path d=\"M 46.390625 14.59375 \nQ 46.390625 10.890625 44.9375 7.984375 \nQ 43.5 5.078125 40.765625 3.09375 \nQ 38.03125 1.125 34.046875 0.0625 \nQ 30.078125 -0.984375 24.953125 -0.984375 \nQ 20.359375 -0.984375 16.671875 -0.265625 \nQ 12.984375 0.4375 10.203125 2 \nQ 7.421875 3.5625 5.53125 6.125 \nQ 3.65625 8.6875 2.78125 12.40625 \nL 10.546875 13.921875 \nQ 11.671875 9.671875 15.1875 7.6875 \nQ 18.703125 5.71875 24.953125 5.71875 \nQ 27.78125 5.71875 30.140625 6.109375 \nQ 32.515625 6.5 34.21875 7.453125 \nQ 35.9375 8.40625 36.890625 9.984375 \nQ 37.84375 11.578125 37.84375 13.921875 \nQ 37.84375 16.3125 36.71875 17.84375 \nQ 35.59375 19.390625 33.59375 20.40625 \nQ 31.59375 21.4375 28.734375 22.1875 \nQ 25.875 22.953125 22.46875 23.875 \nQ 19.28125 24.703125 16.15625 25.734375 \nQ 13.03125 26.765625 10.515625 28.4375 \nQ 8.015625 30.125 6.453125 32.609375 \nQ 4.890625 35.109375 4.890625 38.875 \nQ 4.890625 46.09375 10.03125 49.875 \nQ 15.1875 53.65625 25.046875 53.65625 \nQ 33.796875 53.65625 38.9375 50.578125 \nQ 44.09375 47.515625 45.453125 40.71875 \nL 37.546875 39.75 \nQ 37.109375 41.796875 35.9375 43.1875 \nQ 34.765625 44.578125 33.109375 45.4375 \nQ 31.453125 46.296875 29.375 46.65625 \nQ 27.296875 47.015625 25.046875 47.015625 \nQ 19.09375 47.015625 16.25 45.203125 \nQ 13.421875 43.40625 13.421875 39.75 \nQ 13.421875 37.59375 14.46875 36.203125 \nQ 15.53125 34.8125 17.40625 33.859375 \nQ 19.28125 32.90625 21.921875 32.203125 \nQ 24.5625 31.5 27.734375 30.71875 \nQ 29.828125 30.171875 32.03125 29.5625 \nQ 34.234375 28.953125 36.296875 28.09375 \nQ 38.375 27.25 40.203125 26.09375 \nQ 42.046875 24.953125 43.40625 23.34375 \nQ 44.78125 21.734375 45.578125 19.578125 \nQ 46.390625 17.4375 46.390625 14.59375 \nz\n\" id=\"LiberationSans-115\"/>\n     </defs>\n     <g style=\"fill:#262626;\" transform=\"translate(247.209844 334.473437)scale(0.11 -0.11)\">\n      <use xlink:href=\"#LiberationSans-69\"/>\n      <use x=\"66.699219\" xlink:href=\"#LiberationSans-112\"/>\n      <use x=\"122.314453\" xlink:href=\"#LiberationSans-111\"/>\n      <use x=\"177.929688\" xlink:href=\"#LiberationSans-99\"/>\n      <use x=\"227.929688\" xlink:href=\"#LiberationSans-104\"/>\n      <use x=\"283.544922\" xlink:href=\"#LiberationSans-115\"/>\n     </g>\n    </g>\n   </g>\n   <g id=\"matplotlib.axis_2\">\n    <g id=\"ytick_1\">\n     <g id=\"line2d_13\">\n      <path clip-path=\"url(#pb4df5e9632)\" d=\"M 42.354063 266.282309 \nL 488.754062 266.282309 \n\" style=\"fill:none;stroke:#ffffff;stroke-linecap:round;\"/>\n     </g>\n     <g id=\"line2d_14\"/>\n     <g id=\"text_8\">\n      <!-- 1.4 -->\n      <defs>\n       <path d=\"M 9.125 0 \nL 9.125 10.6875 \nL 18.65625 10.6875 \nL 18.65625 0 \nz\n\" id=\"LiberationSans-46\"/>\n      </defs>\n      <g style=\"fill:#262626;\" transform=\"translate(21.454063 269.905746)scale(0.1 -0.1)\">\n       <use xlink:href=\"#LiberationSans-49\"/>\n       <use x=\"55.615234\" xlink:href=\"#LiberationSans-46\"/>\n       <use x=\"83.398438\" xlink:href=\"#LiberationSans-52\"/>\n      </g>\n     </g>\n    </g>\n    <g id=\"ytick_2\">\n     <g id=\"line2d_15\">\n      <path clip-path=\"url(#pb4df5e9632)\" d=\"M 42.354063 224.265007 \nL 488.754062 224.265007 \n\" style=\"fill:none;stroke:#ffffff;stroke-linecap:round;\"/>\n     </g>\n     <g id=\"line2d_16\"/>\n     <g id=\"text_9\">\n      <!-- 1.6 -->\n      <defs>\n       <path d=\"M 51.21875 22.515625 \nQ 51.21875 17.328125 49.78125 13 \nQ 48.34375 8.6875 45.53125 5.578125 \nQ 42.71875 2.484375 38.5625 0.75 \nQ 34.421875 -0.984375 29 -0.984375 \nQ 23 -0.984375 18.5 1.3125 \nQ 14.015625 3.609375 11.03125 7.921875 \nQ 8.0625 12.25 6.5625 18.53125 \nQ 5.078125 24.8125 5.078125 32.8125 \nQ 5.078125 42 6.765625 48.921875 \nQ 8.453125 55.859375 11.625 60.5 \nQ 14.796875 65.140625 19.359375 67.484375 \nQ 23.921875 69.828125 29.6875 69.828125 \nQ 33.203125 69.828125 36.28125 69.09375 \nQ 39.359375 68.359375 41.875 66.71875 \nQ 44.390625 65.09375 46.28125 62.40625 \nQ 48.1875 59.71875 49.3125 55.8125 \nL 40.921875 54.296875 \nQ 39.546875 58.734375 36.546875 60.71875 \nQ 33.546875 62.703125 29.59375 62.703125 \nQ 25.984375 62.703125 23.046875 60.984375 \nQ 20.125 59.28125 18.0625 55.875 \nQ 16.015625 52.484375 14.90625 47.359375 \nQ 13.8125 42.234375 13.8125 35.40625 \nQ 16.21875 39.84375 20.5625 42.15625 \nQ 24.90625 44.484375 30.515625 44.484375 \nQ 35.203125 44.484375 39.015625 42.96875 \nQ 42.828125 41.453125 45.53125 38.59375 \nQ 48.25 35.75 49.734375 31.671875 \nQ 51.21875 27.59375 51.21875 22.515625 \nz\nM 42.28125 22.125 \nQ 42.28125 25.6875 41.40625 28.5625 \nQ 40.53125 31.453125 38.765625 33.46875 \nQ 37.015625 35.5 34.421875 36.59375 \nQ 31.84375 37.703125 28.421875 37.703125 \nQ 26.03125 37.703125 23.578125 36.984375 \nQ 21.140625 36.28125 19.15625 34.6875 \nQ 17.1875 33.109375 15.9375 30.515625 \nQ 14.703125 27.9375 14.703125 24.21875 \nQ 14.703125 20.40625 15.671875 17.109375 \nQ 16.65625 13.8125 18.484375 11.375 \nQ 20.3125 8.9375 22.890625 7.515625 \nQ 25.484375 6.109375 28.71875 6.109375 \nQ 31.890625 6.109375 34.40625 7.203125 \nQ 36.921875 8.296875 38.671875 10.375 \nQ 40.4375 12.453125 41.359375 15.421875 \nQ 42.28125 18.40625 42.28125 22.125 \nz\n\" id=\"LiberationSans-54\"/>\n      </defs>\n      <g style=\"fill:#262626;\" transform=\"translate(21.454063 227.888445)scale(0.1 -0.1)\">\n       <use xlink:href=\"#LiberationSans-49\"/>\n       <use x=\"55.615234\" xlink:href=\"#LiberationSans-46\"/>\n       <use x=\"83.398438\" xlink:href=\"#LiberationSans-54\"/>\n      </g>\n     </g>\n    </g>\n    <g id=\"ytick_3\">\n     <g id=\"line2d_17\">\n      <path clip-path=\"url(#pb4df5e9632)\" d=\"M 42.354063 182.247705 \nL 488.754062 182.247705 \n\" style=\"fill:none;stroke:#ffffff;stroke-linecap:round;\"/>\n     </g>\n     <g id=\"line2d_18\"/>\n     <g id=\"text_10\">\n      <!-- 1.8 -->\n      <defs>\n       <path d=\"M 51.265625 19.1875 \nQ 51.265625 14.796875 49.875 11.109375 \nQ 48.484375 7.421875 45.625 4.734375 \nQ 42.78125 2.046875 38.328125 0.53125 \nQ 33.890625 -0.984375 27.828125 -0.984375 \nQ 21.78125 -0.984375 17.359375 0.53125 \nQ 12.9375 2.046875 10.03125 4.703125 \nQ 7.125 7.375 5.734375 11.0625 \nQ 4.34375 14.75 4.34375 19.09375 \nQ 4.34375 22.859375 5.484375 25.78125 \nQ 6.640625 28.71875 8.5625 30.828125 \nQ 10.5 32.953125 12.96875 34.25 \nQ 15.4375 35.546875 18.0625 35.984375 \nL 18.0625 36.1875 \nQ 15.1875 36.859375 12.90625 38.375 \nQ 10.640625 39.890625 9.09375 42.015625 \nQ 7.5625 44.140625 6.75 46.71875 \nQ 5.953125 49.3125 5.953125 52.203125 \nQ 5.953125 55.8125 7.34375 59 \nQ 8.734375 62.203125 11.46875 64.625 \nQ 14.203125 67.046875 18.25 68.4375 \nQ 22.3125 69.828125 27.640625 69.828125 \nQ 33.25 69.828125 37.375 68.40625 \nQ 41.5 67 44.203125 64.578125 \nQ 46.921875 62.15625 48.234375 58.9375 \nQ 49.5625 55.71875 49.5625 52.09375 \nQ 49.5625 49.265625 48.75 46.671875 \nQ 47.953125 44.09375 46.40625 41.96875 \nQ 44.875 39.84375 42.59375 38.34375 \nQ 40.328125 36.859375 37.359375 36.28125 \nL 37.359375 36.078125 \nQ 40.328125 35.59375 42.859375 34.296875 \nQ 45.40625 33.015625 47.265625 30.890625 \nQ 49.125 28.765625 50.1875 25.828125 \nQ 51.265625 22.90625 51.265625 19.1875 \nz\nM 40.4375 51.609375 \nQ 40.4375 54.203125 39.765625 56.34375 \nQ 39.109375 58.5 37.59375 60.03125 \nQ 36.078125 61.578125 33.640625 62.421875 \nQ 31.203125 63.28125 27.640625 63.28125 \nQ 24.171875 63.28125 21.78125 62.421875 \nQ 19.390625 61.578125 17.84375 60.03125 \nQ 16.3125 58.5 15.625 56.34375 \nQ 14.9375 54.203125 14.9375 51.609375 \nQ 14.9375 49.5625 15.46875 47.40625 \nQ 16.015625 45.265625 17.421875 43.5 \nQ 18.84375 41.75 21.328125 40.625 \nQ 23.828125 39.5 27.734375 39.5 \nQ 31.890625 39.5 34.40625 40.625 \nQ 36.921875 41.75 38.25 43.5 \nQ 39.59375 45.265625 40.015625 47.40625 \nQ 40.4375 49.5625 40.4375 51.609375 \nz\nM 42.140625 20.015625 \nQ 42.140625 22.515625 41.453125 24.828125 \nQ 40.765625 27.15625 39.109375 28.9375 \nQ 37.453125 30.71875 34.640625 31.8125 \nQ 31.84375 32.90625 27.640625 32.90625 \nQ 23.78125 32.90625 21.0625 31.8125 \nQ 18.359375 30.71875 16.671875 28.90625 \nQ 14.984375 27.09375 14.203125 24.71875 \nQ 13.421875 22.359375 13.421875 19.828125 \nQ 13.421875 16.65625 14.203125 14.03125 \nQ 14.984375 11.421875 16.6875 9.546875 \nQ 18.40625 7.671875 21.1875 6.640625 \nQ 23.96875 5.609375 27.9375 5.609375 \nQ 31.9375 5.609375 34.671875 6.640625 \nQ 37.40625 7.671875 39.0625 9.546875 \nQ 40.71875 11.421875 41.421875 14.078125 \nQ 42.140625 16.75 42.140625 20.015625 \nz\n\" id=\"LiberationSans-56\"/>\n      </defs>\n      <g style=\"fill:#262626;\" transform=\"translate(21.454063 185.871143)scale(0.1 -0.1)\">\n       <use xlink:href=\"#LiberationSans-49\"/>\n       <use x=\"55.615234\" xlink:href=\"#LiberationSans-46\"/>\n       <use x=\"83.398438\" xlink:href=\"#LiberationSans-56\"/>\n      </g>\n     </g>\n    </g>\n    <g id=\"ytick_4\">\n     <g id=\"line2d_19\">\n      <path clip-path=\"url(#pb4df5e9632)\" d=\"M 42.354063 140.230404 \nL 488.754062 140.230404 \n\" style=\"fill:none;stroke:#ffffff;stroke-linecap:round;\"/>\n     </g>\n     <g id=\"line2d_20\"/>\n     <g id=\"text_11\">\n      <!-- 2.0 -->\n      <g style=\"fill:#262626;\" transform=\"translate(21.454063 143.853841)scale(0.1 -0.1)\">\n       <use xlink:href=\"#LiberationSans-50\"/>\n       <use x=\"55.615234\" xlink:href=\"#LiberationSans-46\"/>\n       <use x=\"83.398438\" xlink:href=\"#LiberationSans-48\"/>\n      </g>\n     </g>\n    </g>\n    <g id=\"ytick_5\">\n     <g id=\"line2d_21\">\n      <path clip-path=\"url(#pb4df5e9632)\" d=\"M 42.354063 98.213102 \nL 488.754062 98.213102 \n\" style=\"fill:none;stroke:#ffffff;stroke-linecap:round;\"/>\n     </g>\n     <g id=\"line2d_22\"/>\n     <g id=\"text_12\">\n      <!-- 2.2 -->\n      <g style=\"fill:#262626;\" transform=\"translate(21.454063 101.83654)scale(0.1 -0.1)\">\n       <use xlink:href=\"#LiberationSans-50\"/>\n       <use x=\"55.615234\" xlink:href=\"#LiberationSans-46\"/>\n       <use x=\"83.398438\" xlink:href=\"#LiberationSans-50\"/>\n      </g>\n     </g>\n    </g>\n    <g id=\"ytick_6\">\n     <g id=\"line2d_23\">\n      <path clip-path=\"url(#pb4df5e9632)\" d=\"M 42.354063 56.1958 \nL 488.754062 56.1958 \n\" style=\"fill:none;stroke:#ffffff;stroke-linecap:round;\"/>\n     </g>\n     <g id=\"line2d_24\"/>\n     <g id=\"text_13\">\n      <!-- 2.4 -->\n      <g style=\"fill:#262626;\" transform=\"translate(21.454063 59.819238)scale(0.1 -0.1)\">\n       <use xlink:href=\"#LiberationSans-50\"/>\n       <use x=\"55.615234\" xlink:href=\"#LiberationSans-46\"/>\n       <use x=\"83.398438\" xlink:href=\"#LiberationSans-52\"/>\n      </g>\n     </g>\n    </g>\n    <g id=\"ytick_7\">\n     <g id=\"line2d_25\">\n      <path clip-path=\"url(#pb4df5e9632)\" d=\"M 42.354063 14.178499 \nL 488.754062 14.178499 \n\" style=\"fill:none;stroke:#ffffff;stroke-linecap:round;\"/>\n     </g>\n     <g id=\"line2d_26\"/>\n     <g id=\"text_14\">\n      <!-- 2.6 -->\n      <g style=\"fill:#262626;\" transform=\"translate(21.454063 17.801936)scale(0.1 -0.1)\">\n       <use xlink:href=\"#LiberationSans-50\"/>\n       <use x=\"55.615234\" xlink:href=\"#LiberationSans-46\"/>\n       <use x=\"83.398438\" xlink:href=\"#LiberationSans-54\"/>\n      </g>\n     </g>\n    </g>\n    <g id=\"text_15\">\n     <!-- Cross Entropy Loss -->\n     <defs>\n      <path d=\"M 38.671875 62.203125 \nQ 32.8125 62.203125 28.296875 60.25 \nQ 23.78125 58.296875 20.71875 54.6875 \nQ 17.671875 51.078125 16.109375 46 \nQ 14.546875 40.921875 14.546875 34.71875 \nQ 14.546875 28.515625 16.234375 23.359375 \nQ 17.921875 18.21875 21.0625 14.5 \nQ 24.21875 10.796875 28.78125 8.734375 \nQ 33.34375 6.6875 39.0625 6.6875 \nQ 43.0625 6.6875 46.359375 7.734375 \nQ 49.65625 8.796875 52.3125 10.6875 \nQ 54.984375 12.59375 57.078125 15.203125 \nQ 59.1875 17.828125 60.796875 21 \nL 68.40625 17.1875 \nQ 66.546875 13.328125 63.8125 10 \nQ 61.078125 6.6875 57.390625 4.25 \nQ 53.71875 1.8125 49.046875 0.40625 \nQ 44.390625 -0.984375 38.625 -0.984375 \nQ 30.28125 -0.984375 24 1.671875 \nQ 17.71875 4.34375 13.5 9.109375 \nQ 9.28125 13.875 7.171875 20.40625 \nQ 5.078125 26.953125 5.078125 34.71875 \nQ 5.078125 42.78125 7.296875 49.265625 \nQ 9.515625 55.765625 13.78125 60.328125 \nQ 18.0625 64.890625 24.3125 67.359375 \nQ 30.5625 69.828125 38.578125 69.828125 \nQ 49.5625 69.828125 56.9375 65.53125 \nQ 64.3125 61.234375 67.78125 52.78125 \nL 58.9375 49.859375 \nQ 57.953125 52.296875 56.296875 54.515625 \nQ 54.640625 56.734375 52.140625 58.4375 \nQ 49.65625 60.15625 46.3125 61.171875 \nQ 42.96875 62.203125 38.671875 62.203125 \nz\n\" id=\"LiberationSans-67\"/>\n      <path d=\"M 6.9375 0 \nL 6.9375 40.53125 \nQ 6.9375 42.1875 6.90625 43.921875 \nQ 6.890625 45.65625 6.828125 47.265625 \nQ 6.78125 48.875 6.734375 50.28125 \nQ 6.6875 51.703125 6.640625 52.828125 \nL 14.9375 52.828125 \nQ 14.984375 51.703125 15.0625 50.265625 \nQ 15.140625 48.828125 15.203125 47.3125 \nQ 15.28125 45.796875 15.296875 44.40625 \nQ 15.328125 43.015625 15.328125 42.046875 \nL 15.53125 42.046875 \nQ 16.453125 45.0625 17.5 47.28125 \nQ 18.5625 49.515625 19.96875 50.953125 \nQ 21.390625 52.390625 23.34375 53.09375 \nQ 25.296875 53.8125 28.078125 53.8125 \nQ 29.15625 53.8125 30.125 53.640625 \nQ 31.109375 53.46875 31.640625 53.328125 \nL 31.640625 45.265625 \nQ 30.765625 45.515625 29.59375 45.625 \nQ 28.421875 45.75 26.953125 45.75 \nQ 23.921875 45.75 21.796875 44.375 \nQ 19.671875 43.015625 18.328125 40.59375 \nQ 17 38.1875 16.359375 34.84375 \nQ 15.71875 31.5 15.71875 27.546875 \nL 15.71875 0 \nz\n\" id=\"LiberationSans-114\"/>\n      <path id=\"LiberationSans-32\"/>\n      <path d=\"M 40.28125 0 \nL 40.28125 33.5 \nQ 40.28125 37.359375 39.71875 39.9375 \nQ 39.15625 42.53125 37.890625 44.109375 \nQ 36.625 45.703125 34.546875 46.359375 \nQ 32.46875 47.015625 29.390625 47.015625 \nQ 26.265625 47.015625 23.75 45.921875 \nQ 21.234375 44.828125 19.453125 42.75 \nQ 17.671875 40.671875 16.6875 37.625 \nQ 15.71875 34.578125 15.71875 30.609375 \nL 15.71875 0 \nL 6.9375 0 \nL 6.9375 41.546875 \nQ 6.9375 43.21875 6.90625 45.046875 \nQ 6.890625 46.875 6.828125 48.5 \nQ 6.78125 50.140625 6.734375 51.3125 \nQ 6.6875 52.484375 6.640625 52.828125 \nL 14.9375 52.828125 \nQ 14.984375 52.59375 15.03125 51.515625 \nQ 15.09375 50.4375 15.15625 49.046875 \nQ 15.234375 47.65625 15.28125 46.21875 \nQ 15.328125 44.78125 15.328125 43.796875 \nL 15.484375 43.796875 \nQ 16.75 46.09375 18.265625 47.953125 \nQ 19.78125 49.8125 21.78125 51.09375 \nQ 23.78125 52.390625 26.359375 53.09375 \nQ 28.953125 53.8125 32.375 53.8125 \nQ 36.765625 53.8125 39.9375 52.734375 \nQ 43.109375 51.65625 45.15625 49.40625 \nQ 47.21875 47.171875 48.171875 43.625 \nQ 49.125 40.09375 49.125 35.203125 \nL 49.125 0 \nz\n\" id=\"LiberationSans-110\"/>\n      <path d=\"M 27.046875 0.390625 \nQ 25.046875 -0.140625 22.96875 -0.453125 \nQ 20.90625 -0.78125 18.171875 -0.78125 \nQ 7.625 -0.78125 7.625 11.1875 \nL 7.625 46.4375 \nL 1.515625 46.4375 \nL 1.515625 52.828125 \nL 7.953125 52.828125 \nL 10.546875 64.65625 \nL 16.40625 64.65625 \nL 16.40625 52.828125 \nL 26.171875 52.828125 \nL 26.171875 46.4375 \nL 16.40625 46.4375 \nL 16.40625 13.09375 \nQ 16.40625 9.28125 17.640625 7.734375 \nQ 18.890625 6.203125 21.96875 6.203125 \nQ 23.25 6.203125 24.4375 6.390625 \nQ 25.640625 6.59375 27.046875 6.890625 \nz\n\" id=\"LiberationSans-116\"/>\n      <path d=\"M 29.5 0 \nQ 27.640625 -4.78125 25.703125 -8.609375 \nQ 23.78125 -12.453125 21.390625 -15.15625 \nQ 19 -17.875 16.0625 -19.3125 \nQ 13.140625 -20.75 9.328125 -20.75 \nQ 7.671875 -20.75 6.25 -20.65625 \nQ 4.828125 -20.5625 3.265625 -20.21875 \nL 3.265625 -13.625 \nQ 4.203125 -13.765625 5.375 -13.84375 \nQ 6.546875 -13.921875 7.375 -13.921875 \nQ 11.234375 -13.921875 14.546875 -11.03125 \nQ 17.875 -8.15625 20.359375 -1.859375 \nL 21.1875 0.25 \nL 0.25 52.828125 \nL 9.625 52.828125 \nL 20.75 23.640625 \nQ 21.234375 22.3125 21.984375 20.109375 \nQ 22.75 17.921875 23.5 15.71875 \nQ 24.265625 13.53125 24.84375 11.765625 \nQ 25.4375 10.015625 25.53125 9.578125 \nQ 25.6875 10.109375 26.25 11.6875 \nQ 26.8125 13.28125 27.515625 15.234375 \nQ 28.21875 17.1875 28.953125 19.1875 \nQ 29.6875 21.1875 30.171875 22.65625 \nL 40.53125 52.828125 \nL 49.8125 52.828125 \nz\n\" id=\"LiberationSans-121\"/>\n      <path d=\"M 8.203125 0 \nL 8.203125 68.796875 \nL 17.53125 68.796875 \nL 17.53125 7.625 \nL 52.296875 7.625 \nL 52.296875 0 \nz\n\" id=\"LiberationSans-76\"/>\n     </defs>\n     <g style=\"fill:#262626;\" transform=\"translate(15.171563 204.678359)rotate(-90)scale(0.11 -0.11)\">\n      <use xlink:href=\"#LiberationSans-67\"/>\n      <use x=\"72.216797\" xlink:href=\"#LiberationSans-114\"/>\n      <use x=\"105.517578\" xlink:href=\"#LiberationSans-111\"/>\n      <use x=\"161.132812\" xlink:href=\"#LiberationSans-115\"/>\n      <use x=\"211.132812\" xlink:href=\"#LiberationSans-115\"/>\n      <use x=\"261.132812\" xlink:href=\"#LiberationSans-32\"/>\n      <use x=\"288.916016\" xlink:href=\"#LiberationSans-69\"/>\n      <use x=\"355.615234\" xlink:href=\"#LiberationSans-110\"/>\n      <use x=\"411.230469\" xlink:href=\"#LiberationSans-116\"/>\n      <use x=\"439.013672\" xlink:href=\"#LiberationSans-114\"/>\n      <use x=\"472.314453\" xlink:href=\"#LiberationSans-111\"/>\n      <use x=\"527.929688\" xlink:href=\"#LiberationSans-112\"/>\n      <use x=\"583.544922\" xlink:href=\"#LiberationSans-121\"/>\n      <use x=\"633.544922\" xlink:href=\"#LiberationSans-32\"/>\n      <use x=\"661.328125\" xlink:href=\"#LiberationSans-76\"/>\n      <use x=\"716.943359\" xlink:href=\"#LiberationSans-111\"/>\n      <use x=\"772.558594\" xlink:href=\"#LiberationSans-115\"/>\n      <use x=\"822.558594\" xlink:href=\"#LiberationSans-115\"/>\n     </g>\n    </g>\n   </g>\n   <g id=\"PathCollection_1\">\n    <defs>\n     <path d=\"M 0 3.5 \nC 0.928211 3.5 1.81853 3.131218 2.474874 2.474874 \nC 3.131218 1.81853 3.5 0.928211 3.5 0 \nC 3.5 -0.928211 3.131218 -1.81853 2.474874 -2.474874 \nC 1.81853 -3.131218 0.928211 -3.5 0 -3.5 \nC -0.928211 -3.5 -1.81853 -3.131218 -2.474874 -2.474874 \nC -3.131218 -1.81853 -3.5 -0.928211 -3.5 0 \nC -3.5 0.928211 -3.131218 1.81853 -2.474874 2.474874 \nC -1.81853 3.131218 -0.928211 3.5 0 3.5 \nz\n\" id=\"mc29d7d3633\" style=\"stroke:#87ceeb;stroke-width:0.3;\"/>\n    </defs>\n    <g clip-path=\"url(#pb4df5e9632)\">\n     <use style=\"fill:#87ceeb;stroke:#87ceeb;stroke-width:0.3;\" x=\"62.709886\" xlink:href=\"#mc29d7d3633\" y=\"23.249371\"/>\n     <use style=\"fill:#87ceeb;stroke:#87ceeb;stroke-width:0.3;\" x=\"70.98924\" xlink:href=\"#mc29d7d3633\" y=\"105.436249\"/>\n     <use style=\"fill:#87ceeb;stroke:#87ceeb;stroke-width:0.3;\" x=\"79.268594\" xlink:href=\"#mc29d7d3633\" y=\"135.453156\"/>\n     <use style=\"fill:#87ceeb;stroke:#87ceeb;stroke-width:0.3;\" x=\"87.547948\" xlink:href=\"#mc29d7d3633\" y=\"155.408835\"/>\n     <use style=\"fill:#87ceeb;stroke:#87ceeb;stroke-width:0.3;\" x=\"95.827302\" xlink:href=\"#mc29d7d3633\" y=\"169.929148\"/>\n     <use style=\"fill:#87ceeb;stroke:#87ceeb;stroke-width:0.3;\" x=\"104.106657\" xlink:href=\"#mc29d7d3633\" y=\"181.56875\"/>\n     <use style=\"fill:#87ceeb;stroke:#87ceeb;stroke-width:0.3;\" x=\"112.386011\" xlink:href=\"#mc29d7d3633\" y=\"191.030226\"/>\n     <use style=\"fill:#87ceeb;stroke:#87ceeb;stroke-width:0.3;\" x=\"120.665365\" xlink:href=\"#mc29d7d3633\" y=\"199.109463\"/>\n     <use style=\"fill:#87ceeb;stroke:#87ceeb;stroke-width:0.3;\" x=\"128.944719\" xlink:href=\"#mc29d7d3633\" y=\"206.076105\"/>\n     <use style=\"fill:#87ceeb;stroke:#87ceeb;stroke-width:0.3;\" x=\"137.224073\" xlink:href=\"#mc29d7d3633\" y=\"212.1389\"/>\n     <use style=\"fill:#87ceeb;stroke:#87ceeb;stroke-width:0.3;\" x=\"145.503427\" xlink:href=\"#mc29d7d3633\" y=\"217.712987\"/>\n     <use style=\"fill:#87ceeb;stroke:#87ceeb;stroke-width:0.3;\" x=\"153.782782\" xlink:href=\"#mc29d7d3633\" y=\"222.701638\"/>\n     <use style=\"fill:#87ceeb;stroke:#87ceeb;stroke-width:0.3;\" x=\"162.062136\" xlink:href=\"#mc29d7d3633\" y=\"227.159571\"/>\n     <use style=\"fill:#87ceeb;stroke:#87ceeb;stroke-width:0.3;\" x=\"170.34149\" xlink:href=\"#mc29d7d3633\" y=\"231.237508\"/>\n     <use style=\"fill:#87ceeb;stroke:#87ceeb;stroke-width:0.3;\" x=\"178.620844\" xlink:href=\"#mc29d7d3633\" y=\"234.938325\"/>\n     <use style=\"fill:#87ceeb;stroke:#87ceeb;stroke-width:0.3;\" x=\"186.900198\" xlink:href=\"#mc29d7d3633\" y=\"238.275353\"/>\n     <use style=\"fill:#87ceeb;stroke:#87ceeb;stroke-width:0.3;\" x=\"195.179552\" xlink:href=\"#mc29d7d3633\" y=\"241.442329\"/>\n     <use style=\"fill:#87ceeb;stroke:#87ceeb;stroke-width:0.3;\" x=\"203.458906\" xlink:href=\"#mc29d7d3633\" y=\"244.198734\"/>\n     <use style=\"fill:#87ceeb;stroke:#87ceeb;stroke-width:0.3;\" x=\"211.738261\" xlink:href=\"#mc29d7d3633\" y=\"246.918474\"/>\n     <use style=\"fill:#87ceeb;stroke:#87ceeb;stroke-width:0.3;\" x=\"220.017615\" xlink:href=\"#mc29d7d3633\" y=\"249.452335\"/>\n     <use style=\"fill:#87ceeb;stroke:#87ceeb;stroke-width:0.3;\" x=\"228.296969\" xlink:href=\"#mc29d7d3633\" y=\"251.825405\"/>\n     <use style=\"fill:#87ceeb;stroke:#87ceeb;stroke-width:0.3;\" x=\"236.576323\" xlink:href=\"#mc29d7d3633\" y=\"254.06009\"/>\n     <use style=\"fill:#87ceeb;stroke:#87ceeb;stroke-width:0.3;\" x=\"244.855677\" xlink:href=\"#mc29d7d3633\" y=\"256.020174\"/>\n     <use style=\"fill:#87ceeb;stroke:#87ceeb;stroke-width:0.3;\" x=\"253.135031\" xlink:href=\"#mc29d7d3633\" y=\"258.163655\"/>\n     <use style=\"fill:#87ceeb;stroke:#87ceeb;stroke-width:0.3;\" x=\"261.414385\" xlink:href=\"#mc29d7d3633\" y=\"259.864787\"/>\n     <use style=\"fill:#87ceeb;stroke:#87ceeb;stroke-width:0.3;\" x=\"269.69374\" xlink:href=\"#mc29d7d3633\" y=\"261.652845\"/>\n     <use style=\"fill:#87ceeb;stroke:#87ceeb;stroke-width:0.3;\" x=\"277.973094\" xlink:href=\"#mc29d7d3633\" y=\"263.393869\"/>\n     <use style=\"fill:#87ceeb;stroke:#87ceeb;stroke-width:0.3;\" x=\"286.252448\" xlink:href=\"#mc29d7d3633\" y=\"265.01763\"/>\n     <use style=\"fill:#87ceeb;stroke:#87ceeb;stroke-width:0.3;\" x=\"294.531802\" xlink:href=\"#mc29d7d3633\" y=\"266.523491\"/>\n     <use style=\"fill:#87ceeb;stroke:#87ceeb;stroke-width:0.3;\" x=\"302.811156\" xlink:href=\"#mc29d7d3633\" y=\"268.164273\"/>\n     <use style=\"fill:#87ceeb;stroke:#87ceeb;stroke-width:0.3;\" x=\"311.09051\" xlink:href=\"#mc29d7d3633\" y=\"269.517481\"/>\n     <use style=\"fill:#87ceeb;stroke:#87ceeb;stroke-width:0.3;\" x=\"319.369864\" xlink:href=\"#mc29d7d3633\" y=\"270.968765\"/>\n     <use style=\"fill:#87ceeb;stroke:#87ceeb;stroke-width:0.3;\" x=\"327.649219\" xlink:href=\"#mc29d7d3633\" y=\"272.164015\"/>\n     <use style=\"fill:#87ceeb;stroke:#87ceeb;stroke-width:0.3;\" x=\"335.928573\" xlink:href=\"#mc29d7d3633\" y=\"273.649905\"/>\n     <use style=\"fill:#87ceeb;stroke:#87ceeb;stroke-width:0.3;\" x=\"344.207927\" xlink:href=\"#mc29d7d3633\" y=\"274.702099\"/>\n     <use style=\"fill:#87ceeb;stroke:#87ceeb;stroke-width:0.3;\" x=\"352.487281\" xlink:href=\"#mc29d7d3633\" y=\"275.98658\"/>\n     <use style=\"fill:#87ceeb;stroke:#87ceeb;stroke-width:0.3;\" x=\"360.766635\" xlink:href=\"#mc29d7d3633\" y=\"277.166797\"/>\n     <use style=\"fill:#87ceeb;stroke:#87ceeb;stroke-width:0.3;\" x=\"369.045989\" xlink:href=\"#mc29d7d3633\" y=\"278.407657\"/>\n     <use style=\"fill:#87ceeb;stroke:#87ceeb;stroke-width:0.3;\" x=\"377.325343\" xlink:href=\"#mc29d7d3633\" y=\"279.496952\"/>\n     <use style=\"fill:#87ceeb;stroke:#87ceeb;stroke-width:0.3;\" x=\"385.604698\" xlink:href=\"#mc29d7d3633\" y=\"280.597745\"/>\n     <use style=\"fill:#87ceeb;stroke:#87ceeb;stroke-width:0.3;\" x=\"393.884052\" xlink:href=\"#mc29d7d3633\" y=\"281.657233\"/>\n     <use style=\"fill:#87ceeb;stroke:#87ceeb;stroke-width:0.3;\" x=\"402.163406\" xlink:href=\"#mc29d7d3633\" y=\"282.606858\"/>\n     <use style=\"fill:#87ceeb;stroke:#87ceeb;stroke-width:0.3;\" x=\"410.44276\" xlink:href=\"#mc29d7d3633\" y=\"283.704678\"/>\n     <use style=\"fill:#87ceeb;stroke:#87ceeb;stroke-width:0.3;\" x=\"418.722114\" xlink:href=\"#mc29d7d3633\" y=\"284.619447\"/>\n     <use style=\"fill:#87ceeb;stroke:#87ceeb;stroke-width:0.3;\" x=\"427.001468\" xlink:href=\"#mc29d7d3633\" y=\"285.600508\"/>\n     <use style=\"fill:#87ceeb;stroke:#87ceeb;stroke-width:0.3;\" x=\"435.280823\" xlink:href=\"#mc29d7d3633\" y=\"286.574634\"/>\n     <use style=\"fill:#87ceeb;stroke:#87ceeb;stroke-width:0.3;\" x=\"443.560177\" xlink:href=\"#mc29d7d3633\" y=\"287.55982\"/>\n     <use style=\"fill:#87ceeb;stroke:#87ceeb;stroke-width:0.3;\" x=\"451.839531\" xlink:href=\"#mc29d7d3633\" y=\"288.234396\"/>\n     <use style=\"fill:#87ceeb;stroke:#87ceeb;stroke-width:0.3;\" x=\"460.118885\" xlink:href=\"#mc29d7d3633\" y=\"289.290934\"/>\n     <use style=\"fill:#87ceeb;stroke:#87ceeb;stroke-width:0.3;\" x=\"468.398239\" xlink:href=\"#mc29d7d3633\" y=\"290.130629\"/>\n    </g>\n   </g>\n   <g id=\"patch_3\">\n    <path d=\"M 42.354063 306.18 \nL 42.354063 7.2 \n\" style=\"fill:none;\"/>\n   </g>\n   <g id=\"patch_4\">\n    <path d=\"M 488.754062 306.18 \nL 488.754062 7.2 \n\" style=\"fill:none;\"/>\n   </g>\n   <g id=\"patch_5\">\n    <path d=\"M 42.354062 306.18 \nL 488.754062 306.18 \n\" style=\"fill:none;\"/>\n   </g>\n   <g id=\"patch_6\">\n    <path d=\"M 42.354062 7.2 \nL 488.754062 7.2 \n\" style=\"fill:none;\"/>\n   </g>\n  </g>\n </g>\n <defs>\n  <clipPath id=\"pb4df5e9632\">\n   <rect height=\"298.98\" width=\"446.4\" x=\"42.354063\" y=\"7.2\"/>\n  </clipPath>\n </defs>\n</svg>\n"
          },
          "metadata": {
            "tags": []
          }
        }
      ]
    },
    {
      "cell_type": "code",
      "metadata": {
        "id": "ngdzIV2btQlq",
        "colab_type": "code",
        "colab": {}
      },
      "source": [
        "def random_predict(prediction, temperature):\n",
        "  prediction = np.asarray(prediction).astype('float64')\n",
        "  log_pred = np.log(prediction) / temperature\n",
        "  exp_pred = np.exp(log_pred)\n",
        "  final_pred = exp_pred / np.sum(exp_pred)\n",
        "  random_pred = np.random.multinomial(1, final_pred)\n",
        "  return random_pred"
      ],
      "execution_count": 0,
      "outputs": []
    },
    {
      "cell_type": "code",
      "metadata": {
        "id": "PiIf02NMQDMO",
        "colab_type": "code",
        "colab": {}
      },
      "source": [
        "def generate_text(model, data, iter_num, seed, char_dict, temperature=1, max_len=60):\n",
        "  entire_text = list(data[seed])\n",
        "  for i in range(iter_num):\n",
        "    prediction = random_predict(model.predict([[entire_text[i: i + max_len]]])[0], temperature)\n",
        "    entire_text.append(prediction)\n",
        "  reverse_char_dict = {value: key for key, value in char_dict.items()}\n",
        "  generated_text = ''\n",
        "  for char_vec in entire_text:\n",
        "    index = np.argmax(char_vec)\n",
        "    generated_text += reverse_char_dict[index]\n",
        "  return generated_text"
      ],
      "execution_count": 0,
      "outputs": []
    },
    {
      "cell_type": "code",
      "metadata": {
        "id": "WdrWLLm8gqf0",
        "colab_type": "code",
        "colab": {}
      },
      "source": [
        "def vary_temperature(temp_lst, model, data, iter_num, seed, char_dict):\n",
        "  for temperature in temp_lst:\n",
        "    print(\"Generated text at temperature {0}:\\n{1}\\n\\n\".format(temperature, generate_text(model, data, iter_num, seed, char_dict, temperature)))"
      ],
      "execution_count": 0,
      "outputs": []
    },
    {
      "cell_type": "code",
      "metadata": {
        "id": "x4by7-E8dvnd",
        "colab_type": "code",
        "outputId": "8fa7f2f2-3482-4665-9425-89f0781860bb",
        "colab": {
          "base_uri": "https://localhost:8080/",
          "height": 955
        }
      },
      "source": [
        "vary_temperature([0.3, 0.6, 0.9, 1.2], model, X, 1000, 10, char_dict)"
      ],
      "execution_count": 44,
      "outputs": [
        {
          "output_type": "stream",
          "text": [
            "Generated text at temperature 0.3:\n",
            " is a woman--what then? is there not ground\n",
            "for suspecting that the experience and present strange of the soul is also as the stand of the most profound that the present the art and possible to the present spore as a man and the morality and present self instinct, and the subject that the presence of the surcessize, and also it is an action which the philosophers and the spirit has the consider the action to the philosopher and possess and the spirit is not be who can something the predicess of the constinate the same and self-interpatence, the disconsises what is not to be more profound, as if it is a man as a distance of the same art and ther strict to the presing to the result the problem of the present the spirit what is the consequences and the development of the same art of philosophers and security and spirit and for the subjective in the disturce, as in the contrary and present stronger and present could not be an inclination and desires of the same and distinguished that is the discoverty in such a person itself influence and ethers as\n",
            "\n",
            "\n",
            "Generated text at temperature 0.6:\n",
            " is a woman--what then? is there not ground\n",
            "for suspecting to and the world will had to a such that the basis of the incussions of the spirit as the does not because actian free spirits of intellect of the commstical purtious expression of men are so much he is not unnor experiences of self-conturity, and\n",
            "as anifegently religious in the man would not consciously, his action is not be actian at in accombs life for the such all procees of great and the heart of this conduct the spirity of the man can provate for in any\n",
            "once in any of the suriticular conduct that which own needs, when they are therefore, as\n",
            "such action and some difficulty that the strength, it, himself which has to its fine term of pricismans the exacte in its self-recuphing and every strength and man to wist the action something man as the worst, that the was of a longent that the whole not be all the very subjectical proves the stronger extent he is necessary to metaphysical figure of the faith in the bolity in the pure belief--as \"the such a successes of the values--that is he \n",
            "\n",
            "\n",
            "Generated text at temperature 0.9:\n",
            " is a woman--what then? is there not ground\n",
            "for suspecting that they grasutes, and so farmeduition of the does not only with this\n",
            "constrbicapity have honour--and who distical seclles are denie'n, is one samiles are no luttrainess,\n",
            "and ethic and matficulty, concudes of morality to\n",
            "rost were presence of lighters caseful has prescally here at last not and servicatity, leads falled for child real appreparetess of worths--the\n",
            "resticians when one to persans as a what a mean of that is as to the same heart tending noble stimptically and particious, we pach yought for that mankind, that the same take frights a contrady has howevers of a surplurating or in fact a sort, without present superite fimatical matterm of our being interlunally\n",
            "men who cal\n",
            "scornce. the shrinking's\n",
            "proglish, and\n",
            "traints he way to demitable pure explised and place can\n",
            "deterely by the compulse in whom is phypociative cinceous, and the higher and will bounthen--in itsiluariant upon find the \"first the whore we man will simple condection and some than us--a valuasly refiges who feel\n",
            "\n",
            "\n",
            "Generated text at temperature 1.2:\n",
            " is a woman--what then? is there not ground\n",
            "for suspecting that he therefore when shre, mun, a schopenhehtor abold gevert.\n",
            "\n",
            "\n",
            "120\n",
            "\n",
            "=as in\n",
            "find that is _know believinally bad,[\n",
            "euser of view.--bithic\n",
            "iftel canly\n",
            "in any\n",
            "knowitumentially. the charm surpose again, in\n",
            "swret feathryst, form of kinne of the world bejud--age--implaasoun ever? but that the is any\n",
            "appearance has clenge: the? a plexable gen preducl=s than condugebleines and aligh to advirenta-nasure;\n",
            "findiminal it as, not take. the ideved towards upavanizing, would be\n",
            "thenion, in all pespres: it is of\n",
            "a concidenary, which, well founly con-utbacte udwerlly upon mansing--frauble of \"arrey been can the pritarnated from their\n",
            "christian often--think prestation of mocives.\" legt, lenge:--this deps\n",
            "telows, plenhance of decessaticrances). hyrk an interlusally\" tone--under good haggy,\"\n",
            "is have we leamness of conschous should it, of\n",
            "sicking ummenfeckinal zerturm erienweron of noble of\n",
            "himself-clonizing there is conctumendable prefersy\n",
            "exaitunia states,\" whether\n",
            "they deve oves any of hispyssesss. int\n",
            "\n",
            "\n"
          ],
          "name": "stdout"
        }
      ]
    }
  ]
}