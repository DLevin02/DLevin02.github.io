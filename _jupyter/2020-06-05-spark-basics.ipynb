{
 "cells": [
  {
   "cell_type": "markdown",
   "metadata": {},
   "source": [
    "I've stumbled across the word \"Apache Spark\" on the internet so many times, yet I never had the chance to really get to know what it was. For one thing, it seemed rather intimidating, full of buzzwords like \"cloud computing\", \"data streaming,\" or \"scalability,\" just to name a few among many others. However, a few days ago, I decided to give it a shot and try to at least get a glimpse of what it was all about. So here I report my findings after binge watching online tutorials on Apache Spark. \n",
    "\n",
    "# Apache\n",
    "\n",
    "If you're into data science or even just software development, you might have heard some other Apache variants like Apache Kafka, Apache Cassandra, and many more. When I first heard about these, I began wondering: is Apache some sort of umbrella software, with Spark, Kafka, and other variants being different spinoffs from this parent entity? I was slightly more confused because the Apache I had heard of, at least as far as I recalled, had to do with web servers and hosting. \n",
    "\n",
    "Turns out that there is an organization called the Apache Software Foundation, which is the world's largest open source foundation. This foundation, of course, has to do with the Apache HTTP server project, which was the web server side of things that I had ever so faintly heard about. Then what is Apache Spark? Spark was originally developed at UC Berkeley at the AMP Lab. Later, its code base was open sourced and eventually donated to the Apache Software Foundation; hence its current name, Apache Spark. \n",
    "\n",
    "# Setup\n",
    "\n",
    "For this tutorial, we will be loading Apache Spark on Jupypter notebook. There are many tutorials on how to install Apache Spark, and they are easy to follow along. However, I'll also share a quick synopsis of my own just for reference.\n",
    "\n",
    "## Installation\n",
    "\n",
    "Installing Apache Spark is pretty straight forward if you are comfortable dealing with `.bash_profile` on macOS or `.bashrc` on Linux. The executive summary is that you need to add Apache Spark binaries to the `PATH` variable of your system. \n",
    "\n",
    "What is a `PATH`? Basically, the `PATH` variable is where all your little UNIX programs live. For example, when we run simple commands like `ls` or `mkdir`, we are essentially invoking built-in mini-programs in our POSIX system. The `PATH` variable tells the computer where these mini-programs reside in, namely `/usr/bin`, which is by default part of the `PATH` variable. \n",
    "\n",
    "Can the `PATH` variable be modified? The answer is a huge yes. Say we have our own little mini-program, and we want to be able to run it from the command line prompt. Then, we would simply modify `PATH` so that the computer knows where our custom mini-program is located and know what to do whenever we type some command in the terminal. \n",
    "\n",
    "This is why we enter the Python shell in interactive mode when we type `python` on the terminal. Here is the little setup I have on my own `.bash_profile`:\n",
    "\n",
    "```bash\n",
    "export PYTHON_HOME=\"/Library/Frameworks/Python.framework/Versions/3.7\"\n",
    "export SPARK_HOME=\"/Users/jaketae/opt/apache-spark/spark-2.4.5-bin-hadoop2.7\"\n",
    "export JAVA_HOME=\"/Library/Java/JavaVirtualMachines/adoptopenjdk-8.jdk/Contents/Home\"\n",
    "export PATH=\"${PYTHON_HOME}/bin:${PATH}:${SPARK_HOME}/bin\"\n",
    "```\n",
    "\n",
    "Here, I prepended `PYTHON_HOME` to the default `PATH` then appended `SPARK_HOME` at the end. Appending and prepending result in different behaviors: by default, the computer searches for commands in the `PATH` variable in order. In other words, in the current setup, the computer will first search the `PYTHON_HOME` directory, then search the default `PATH` directory, and look at `SPARK_HOME` the very last, at least in my current setup. \n",
    "\n",
    "Note that Spark has specific Java requirements that may or may not align with the default Java installation on your workstation. In my case, I had to install a different version of Java and apply certain configurations. The `JAVA_HOME` path variable is a result of this minor modification.\n",
    "\n",
    "The contents in the `SPARK_HOME` directory simply contains the result of unzipping the `.tar` file available for download on the Apache Spark website. \n",
    "\n",
    "Once the `PATH` variable has been configured, run `source ~/.bash_profile`, and you should be ready to run Apache Spark on your local workstation! To see if the installation and `PATH` configuration has been done correctly, type `pyspark` on the terminal:\n",
    "\n",
    "```\n",
    "Welcome to\n",
    "      ____              __\n",
    "     / __/__  ___ _____/ /__\n",
    "    _\\ \\/ _ \\/ _ `/ __/  '_/\n",
    "   /__ / .__/\\_,_/_/ /_/\\_\\   version 2.4.5\n",
    "      /_/\n",
    "\n",
    "Using Python version 3.7.5 (default, Oct 25 2019 10:52:18)\n",
    "SparkSession available as 'spark'.\n",
    ">>> \n",
    "```\n",
    "\n",
    "## Jupyter Notebook\n",
    "\n",
    "To use Jupyter with Spark, we need to do a little more work. There are two ways to do this, but I will introduce the method that I found not only fairly simple, but also more applicable and generalizable. All we need is to install `findspark` package via `pip install findspark`. Then, on Jupyter, we can do:"
   ]
  },
  {
   "cell_type": "code",
   "execution_count": 1,
   "metadata": {},
   "outputs": [],
   "source": [
    "import findspark\n",
    "findspark.init()"
   ]
  },
  {
   "cell_type": "markdown",
   "metadata": {},
   "source": [
    "Then simply import Apache Spark via"
   ]
  },
  {
   "cell_type": "code",
   "execution_count": 2,
   "metadata": {},
   "outputs": [],
   "source": [
    "import pyspark\n",
    "from pyspark import SparkContext, SparkConf"
   ]
  },
  {
   "cell_type": "markdown",
   "metadata": {},
   "source": [
    "That is literally all we need! We can of course still use Apache Spark on the terminal simply by typing `pyspark` if we want, but it's always good to have more options on the table. "
   ]
  },
  {
   "cell_type": "markdown",
   "metadata": {},
   "source": [
    "# RDD Basics\n",
    "\n",
    "The RDD API is the most basic way of dealing with data in Spark. RDD stands for \"Resilident Distributed Dataset.\" Although more abstracted, higher-level APIs such as Spark SQL or Spark dataframes are becoming increasingly popular, thus challenging RDD's standing as a means of accessing and transforming data, it is a useful structure to learn nonetheless. One salient feature of RDDs is that computation in an RDD is parallelized across the cluster.\n",
    "\n",
    "## Spark Context\n",
    "\n",
    "To run Spark, we need to initialize a Spark context. A Spark context is the entry point to Spark that is needed to deal with RDDs. We can initialize one simply as follows: "
   ]
  },
  {
   "cell_type": "code",
   "execution_count": 3,
   "metadata": {},
   "outputs": [],
   "source": [
    "sc = SparkContext(conf=SparkConf().setMaster(\"local[*]\"))"
   ]
  },
  {
   "cell_type": "markdown",
   "metadata": {},
   "source": [
    "Strictly speaking, the more proper way to do this would be to follow the syntax guideline on the [official website](https://spark.apache.org/docs/latest/rdd-programming-guide.html).\n",
    "\n",
    "```python\n",
    "conf = SparkConf().setAppName(appName).setMaster(master)\n",
    "sc = SparkContext(conf=conf)\n",
    "```\n",
    "\n",
    "However, we use a more simplified approach without initializing different apps for each example, simply for convenience purposes."
   ]
  },
  {
   "cell_type": "markdown",
   "metadata": {},
   "source": [
    "## Collect\n",
    "\n",
    "Let's begin with a simple dummy example. Here, we turn a normal Python list into an RDD, then print out its contents after applying a squaring function. We use `.collect()` to turn the RDD into an iterable, specifically a list."
   ]
  },
  {
   "cell_type": "code",
   "execution_count": 22,
   "metadata": {},
   "outputs": [
    {
     "name": "stdout",
     "output_type": "stream",
     "text": [
      "1\n",
      "4\n",
      "9\n",
      "16\n"
     ]
    }
   ],
   "source": [
    "nums = sc.parallelize([1,2,3,4])\n",
    "squared = nums.map(lambda x: x**2)\n",
    "\n",
    "for num in squared.collect():\n",
    "    print(num)"
   ]
  },
  {
   "cell_type": "markdown",
   "metadata": {},
   "source": [
    "## Count\n",
    "\n",
    "Another useful function is `.count()` and `.countByValue()`. As you might have easily guessed, these functions are literally used to count the number of elements itself or their number of occurences. This is perhaps best demonstrated by an example."
   ]
  },
  {
   "cell_type": "code",
   "execution_count": 23,
   "metadata": {},
   "outputs": [
    {
     "data": {
      "text/plain": [
       "7"
      ]
     },
     "execution_count": 23,
     "metadata": {},
     "output_type": "execute_result"
    }
   ],
   "source": [
    "input_words = [\"spark\", \"hadoop\", \"spark\", \"hive\", \"pig\", \"cassandra\", \"hadoop\"]\n",
    "\n",
    "words = sc.parallelize(input_words)\n",
    "words.count()"
   ]
  },
  {
   "cell_type": "markdown",
   "metadata": {},
   "source": [
    "`.countByValue()` works in a similar fashion, but it creates a dictionary of key value pairs, where the key is an element and the value is the count of that element in the input list."
   ]
  },
  {
   "cell_type": "code",
   "execution_count": 24,
   "metadata": {},
   "outputs": [
    {
     "data": {
      "text/plain": [
       "defaultdict(int,\n",
       "            {'spark': 2, 'hadoop': 2, 'hive': 1, 'pig': 1, 'cassandra': 1})"
      ]
     },
     "execution_count": 24,
     "metadata": {},
     "output_type": "execute_result"
    }
   ],
   "source": [
    "words.countByValue()"
   ]
  },
  {
   "cell_type": "markdown",
   "metadata": {},
   "source": [
    "## Reduce\n",
    "\n",
    "As the name implies, `.reduce()` is a way of reducing a RDD into something like a single value. In the example below, we reduce an RDD created with a list of numbers into a product of all the numbers in that original input list."
   ]
  },
  {
   "cell_type": "code",
   "execution_count": 28,
   "metadata": {},
   "outputs": [
    {
     "name": "stdout",
     "output_type": "stream",
     "text": [
      "RDD: [1, 2, 3, 4]\n"
     ]
    },
    {
     "data": {
      "text/plain": [
       "24"
      ]
     },
     "execution_count": 28,
     "metadata": {},
     "output_type": "execute_result"
    }
   ],
   "source": [
    "print(f'RDD: {nums.collect()}')\n",
    "prod = nums.reduce(lambda x, y: x * y)\n",
    "prod"
   ]
  },
  {
   "cell_type": "markdown",
   "metadata": {},
   "source": [
    "## Filter\n",
    "\n",
    "This was a pretty simple example. Let's take a look at a marginally more realistic of an example, albeit still extremely simple. I'm using the files from [this Spark tutorial](https://github.com/jleetutorial/python-spark-tutorial) on GitHub. After cloning the repo, we establish a base file path and retrieve the `airports.text` file we will be using in this example."
   ]
  },
  {
   "cell_type": "code",
   "execution_count": 4,
   "metadata": {},
   "outputs": [],
   "source": [
    "BASE_PATH = '/Users/jaketae/documents/dev/python/spark-tutorial/in'\n",
    "\n",
    "airports = sc.textFile(f'{BASE_PATH}/airports.text')"
   ]
  },
  {
   "cell_type": "markdown",
   "metadata": {},
   "source": [
    "Let's see what this RDD looks like. We can do this via `.take()`, much like `.head()` in Pandas."
   ]
  },
  {
   "cell_type": "code",
   "execution_count": 5,
   "metadata": {},
   "outputs": [
    {
     "data": {
      "text/plain": [
       "['1,\"Goroka\",\"Goroka\",\"Papua New Guinea\",\"GKA\",\"AYGA\",-6.081689,145.391881,5282,10,\"U\",\"Pacific/Port_Moresby\"',\n",
       " '2,\"Madang\",\"Madang\",\"Papua New Guinea\",\"MAG\",\"AYMD\",-5.207083,145.7887,20,10,\"U\",\"Pacific/Port_Moresby\"',\n",
       " '3,\"Mount Hagen\",\"Mount Hagen\",\"Papua New Guinea\",\"HGU\",\"AYMH\",-5.826789,144.295861,5388,10,\"U\",\"Pacific/Port_Moresby\"',\n",
       " '4,\"Nadzab\",\"Nadzab\",\"Papua New Guinea\",\"LAE\",\"AYNZ\",-6.569828,146.726242,239,10,\"U\",\"Pacific/Port_Moresby\"',\n",
       " '5,\"Port Moresby Jacksons Intl\",\"Port Moresby\",\"Papua New Guinea\",\"POM\",\"AYPY\",-9.443383,147.22005,146,10,\"U\",\"Pacific/Port_Moresby\"']"
      ]
     },
     "execution_count": 5,
     "metadata": {},
     "output_type": "execute_result"
    }
   ],
   "source": [
    "airports.take(5)"
   ]
  },
  {
   "cell_type": "markdown",
   "metadata": {},
   "source": [
    "If you look carefully, you will realize that each element is a long string, not multiple elements separated by a comma as we would like. Let's define a helper function to split up each elements as we would like."
   ]
  },
  {
   "cell_type": "code",
   "execution_count": 6,
   "metadata": {},
   "outputs": [],
   "source": [
    "def split_comma(line):\n",
    "    words = line.split(',')\n",
    "    for i, word in enumerate(words):\n",
    "        if '\"' in word:\n",
    "            words[i] = word[1:-1]\n",
    "    return words"
   ]
  },
  {
   "cell_type": "markdown",
   "metadata": {},
   "source": [
    "Let's test out this function with the first element in the RDD."
   ]
  },
  {
   "cell_type": "code",
   "execution_count": 7,
   "metadata": {},
   "outputs": [
    {
     "data": {
      "text/plain": [
       "['1',\n",
       " 'Goroka',\n",
       " 'Goroka',\n",
       " 'Papua New Guinea',\n",
       " 'GKA',\n",
       " 'AYGA',\n",
       " '-6.081689',\n",
       " '145.391881',\n",
       " '5282',\n",
       " '10',\n",
       " 'U',\n",
       " 'Pacific/Port_Moresby']"
      ]
     },
     "execution_count": 7,
     "metadata": {},
     "output_type": "execute_result"
    }
   ],
   "source": [
    "test = airports.take(1)[0]\n",
    "split_comma(test)"
   ]
  },
  {
   "cell_type": "markdown",
   "metadata": {},
   "source": [
    "Great! It worked as expected. Now let's say that we want to retrieve only those rows whose entries deal with airports in the United States. Specifically, we want the city and the name of the airport. How would we go about this task? Well, one simple idea would be to filter the data for airports in the United States, then only displaying the relevant information, namely the name of the airport and the city in which it is located.\n",
    "\n",
    "Let's begin by defining the `airport_city` function."
   ]
  },
  {
   "cell_type": "code",
   "execution_count": 12,
   "metadata": {},
   "outputs": [],
   "source": [
    "def airport_city(line):\n",
    "    words = split_comma(line)\n",
    "    return f'{words[1]}, {words[2]}'"
   ]
  },
  {
   "cell_type": "markdown",
   "metadata": {},
   "source": [
    "And we test it on the first element to verify that it works as expected:"
   ]
  },
  {
   "cell_type": "code",
   "execution_count": 13,
   "metadata": {},
   "outputs": [
    {
     "data": {
      "text/plain": [
       "'Goroka, Goroka'"
      ]
     },
     "execution_count": 13,
     "metadata": {},
     "output_type": "execute_result"
    }
   ],
   "source": [
    "airport_city(test)"
   ]
  },
  {
   "cell_type": "markdown",
   "metadata": {},
   "source": [
    "As stated earlier, we first filter the data set so that we only have entries that pertain to airports in the United States."
   ]
  },
  {
   "cell_type": "code",
   "execution_count": 14,
   "metadata": {},
   "outputs": [],
   "source": [
    "us_airports = airports.filter(lambda line: split_comma(line)[3] == 'United States')"
   ]
  },
  {
   "cell_type": "markdown",
   "metadata": {},
   "source": [
    "Then, we `map` the RDD using the `airport_city` function we defined above. This will transform all elements into the form we want: the name of the airport and the city. We actually used `.map()` above when we were dealing with square numbers. It's pretty similar to how map works in Python or other functional programming languages."
   ]
  },
  {
   "cell_type": "code",
   "execution_count": 15,
   "metadata": {},
   "outputs": [
    {
     "data": {
      "text/plain": [
       "['Putnam County Airport, Greencastle',\n",
       " 'Dowagiac Municipal Airport, Dowagiac',\n",
       " 'Cambridge Municipal Airport, Cambridge',\n",
       " 'Door County Cherryland Airport, Sturgeon Bay',\n",
       " 'Shoestring Aviation Airfield, Stewartstown']"
      ]
     },
     "execution_count": 15,
     "metadata": {},
     "output_type": "execute_result"
    }
   ],
   "source": [
    "us_airport_cities = us_airports.map(airport_city)\n",
    "us_airport_cities.take(5)"
   ]
  },
  {
   "cell_type": "markdown",
   "metadata": {},
   "source": [
    "## Flat Map\n",
    "\n",
    "Now let's take a look at another commonly used operation: `flatMap()`. For this example, we load a text file containing prime numbers and create a RDD."
   ]
  },
  {
   "cell_type": "code",
   "execution_count": 29,
   "metadata": {},
   "outputs": [
    {
     "data": {
      "text/plain": [
       "['  2\\t  3\\t  5\\t  7\\t 11\\t 13\\t 17\\t 19\\t 23\\t 29',\n",
       " ' 31\\t 37\\t 41\\t 43\\t 47\\t 53\\t 59\\t 61\\t 67\\t 71',\n",
       " ' 73\\t 79\\t 83\\t 89\\t 97\\t101\\t103\\t107\\t109\\t113',\n",
       " '127\\t131\\t137\\t139\\t149\\t151\\t157\\t163\\t167\\t173',\n",
       " '179\\t181\\t191\\t193\\t197\\t199\\t211\\t223\\t227\\t229']"
      ]
     },
     "execution_count": 29,
     "metadata": {},
     "output_type": "execute_result"
    }
   ],
   "source": [
    "prime_nums = sc.textFile(f'{BASE_PATH}/prime_nums.text')\n",
    "prime_nums.take(5)"
   ]
  },
  {
   "cell_type": "markdown",
   "metadata": {},
   "source": [
    "`flatMap()`, as the name implies, maps a certain operation over the elements of a RDD. The difference between `map()` and `flatMap()` is that the latter flattens the output. In this case, we split the numbers along `\\t`. Normally, this would create a separate list for each line. However, since we also flatten that output, there is no distinction between one line and another."
   ]
  },
  {
   "cell_type": "code",
   "execution_count": 109,
   "metadata": {},
   "outputs": [
    {
     "data": {
      "text/plain": [
       "[2, 3, 5, 7, 11, 13, 17, 19, 23, 29, 31, 37, 41, 43, 47, 53, 59, 61, 67, 71]"
      ]
     },
     "execution_count": 109,
     "metadata": {},
     "output_type": "execute_result"
    }
   ],
   "source": [
    "parsed_prime_nums = prime_nums.flatMap(lambda line: line.split('\\t')).map(int)\n",
    "parsed_prime_nums.take(20)"
   ]
  },
  {
   "cell_type": "markdown",
   "metadata": {},
   "source": [
    "Just for a simple recap, let's try adding all the numbers in that RDD using `reduce()`."
   ]
  },
  {
   "cell_type": "code",
   "execution_count": 36,
   "metadata": {},
   "outputs": [
    {
     "data": {
      "text/plain": [
       "24133"
      ]
     },
     "execution_count": 36,
     "metadata": {},
     "output_type": "execute_result"
    }
   ],
   "source": [
    "parsed_prime_nums.reduce(lambda x, y: x + y)"
   ]
  },
  {
   "cell_type": "markdown",
   "metadata": {},
   "source": [
    "## Intersection\n",
    "\n",
    "We can also consider RDDs to be likes sets, in the Pythonic or the mathematical sense, whichever you conceptually prefer. The idea is that we can use set operators, such as intersection or unions, to extract data we want from the RDD to create a new RDD. Below is an example using NASA records, each from July and August of 1995."
   ]
  },
  {
   "cell_type": "code",
   "execution_count": 38,
   "metadata": {},
   "outputs": [
    {
     "data": {
      "text/plain": [
       "['host\\tlogname\\ttime\\tmethod\\turl\\tresponse\\tbytes',\n",
       " '199.72.81.55\\t-\\t804571201\\tGET\\t/history/apollo/\\t200\\t6245\\t\\t',\n",
       " 'unicomp6.unicomp.net\\t-\\t804571206\\tGET\\t/shuttle/countdown/\\t200\\t3985\\t\\t',\n",
       " '199.120.110.21\\t-\\t804571209\\tGET\\t/shuttle/missions/sts-73/mission-sts-73.html\\t200\\t4085\\t\\t',\n",
       " 'burger.letters.com\\t-\\t804571211\\tGET\\t/shuttle/countdown/liftoff.html\\t304\\t0\\t\\t']"
      ]
     },
     "execution_count": 38,
     "metadata": {},
     "output_type": "execute_result"
    }
   ],
   "source": [
    "july_logs = sc.textFile(f'{BASE_PATH}/nasa_19950701.tsv')\n",
    "august_logs = sc.textFile(f'{BASE_PATH}/nasa_19950801.tsv')\n",
    "\n",
    "july_logs.take(5)"
   ]
  },
  {
   "cell_type": "markdown",
   "metadata": {},
   "source": [
    "The task is to obtain hosts that are both in the July and August logs. We might want to break this task up into several discrete components. The first step would be to extract the host information from the original logs. We can do this simply by splitting and obtaining the first element of each resulting list. "
   ]
  },
  {
   "cell_type": "code",
   "execution_count": 40,
   "metadata": {},
   "outputs": [
    {
     "data": {
      "text/plain": [
       "['host',\n",
       " 'in24.inetnebr.com',\n",
       " 'uplherc.upl.com',\n",
       " 'uplherc.upl.com',\n",
       " 'uplherc.upl.com']"
      ]
     },
     "execution_count": 40,
     "metadata": {},
     "output_type": "execute_result"
    }
   ],
   "source": [
    "july_hosts = july_logs.map(lambda line: line.split('\\t')[0])\n",
    "august_hosts = august_logs.map(lambda line: line.split('\\t')[0])\n",
    "\n",
    "august_hosts.take(5)"
   ]
  },
  {
   "cell_type": "markdown",
   "metadata": {},
   "source": [
    "Then, all we have to do is to apply the intersection operation, then filter out the first column header (i.e. `'host'`). "
   ]
  },
  {
   "cell_type": "code",
   "execution_count": 42,
   "metadata": {},
   "outputs": [
    {
     "data": {
      "text/plain": [
       "['www-a1.proxy.aol.com',\n",
       " 'www-d3.proxy.aol.com',\n",
       " 'piweba1y.prodigy.com',\n",
       " 'www-d4.proxy.aol.com',\n",
       " 'piweba2y.prodigy.com']"
      ]
     },
     "execution_count": 42,
     "metadata": {},
     "output_type": "execute_result"
    }
   ],
   "source": [
    "common_hosts = july_hosts.intersection(august_hosts)\n",
    "common_hosts = common_hosts.filter(lambda line: line != 'host')\n",
    "common_hosts.take(5)"
   ]
  },
  {
   "cell_type": "markdown",
   "metadata": {},
   "source": [
    "Lastly, if we wanted to save the RDD to some output file, we would use the `saveAsTextFile()` function. Note that the output file would be split up into multiple files, since computation is distributed in Spark. Also, it is generally considered standard good practice to split up huge datasets into separate files, rather than coalescing all of them into a single one."
   ]
  },
  {
   "cell_type": "code",
   "execution_count": null,
   "metadata": {},
   "outputs": [],
   "source": [
    "common_hosts.saveAsTextFile(\"path_to_folder/file_title.csv\")"
   ]
  },
  {
   "cell_type": "markdown",
   "metadata": {},
   "source": [
    "# Pair RDD\n",
    "\n",
    "So far, we have looked at RDDs. Now, let's turn our attention to another type of widely used RDDs: pair RDDs. Pair RDDs are widely used because they are, in a way, like dictionaries with key-value pairs. This key-value structure is very useful, since we can imagine there being a lot of operations where, for instance, a value is reduced according to their keys, or some elements are grouped by their keys, and et cetera. Let's take a look at what we can do with pair RDDs."
   ]
  },
  {
   "cell_type": "markdown",
   "metadata": {},
   "source": [
    "## Filter\n",
    "\n",
    "Both `map` and `filter` operations work the same way as you would expect with normal RDDs. Let's first create a toy example using the `airports` RDD we looked at earlier. To remind ourselves of what this data looked like, we list the first five elements in the RDD."
   ]
  },
  {
   "cell_type": "code",
   "execution_count": 43,
   "metadata": {},
   "outputs": [
    {
     "data": {
      "text/plain": [
       "['1,\"Goroka\",\"Goroka\",\"Papua New Guinea\",\"GKA\",\"AYGA\",-6.081689,145.391881,5282,10,\"U\",\"Pacific/Port_Moresby\"',\n",
       " '2,\"Madang\",\"Madang\",\"Papua New Guinea\",\"MAG\",\"AYMD\",-5.207083,145.7887,20,10,\"U\",\"Pacific/Port_Moresby\"',\n",
       " '3,\"Mount Hagen\",\"Mount Hagen\",\"Papua New Guinea\",\"HGU\",\"AYMH\",-5.826789,144.295861,5388,10,\"U\",\"Pacific/Port_Moresby\"',\n",
       " '4,\"Nadzab\",\"Nadzab\",\"Papua New Guinea\",\"LAE\",\"AYNZ\",-6.569828,146.726242,239,10,\"U\",\"Pacific/Port_Moresby\"',\n",
       " '5,\"Port Moresby Jacksons Intl\",\"Port Moresby\",\"Papua New Guinea\",\"POM\",\"AYPY\",-9.443383,147.22005,146,10,\"U\",\"Pacific/Port_Moresby\"']"
      ]
     },
     "execution_count": 43,
     "metadata": {},
     "output_type": "execute_result"
    }
   ],
   "source": [
    "airports.take(5)"
   ]
  },
  {
   "cell_type": "markdown",
   "metadata": {},
   "source": [
    "Next, we define a function with which we will map the RDD. The biggest difference between this function and the ones we have defined previously is that this tuple returns a tuple instead of a single value. Therefore, this tuple functionally takes the structure of a `(key, value)` pair. In this case, we have the name of the airport and the country in which it is located in. "
   ]
  },
  {
   "cell_type": "code",
   "execution_count": 49,
   "metadata": {},
   "outputs": [],
   "source": [
    "def tuple_airport_city(line):\n",
    "    words = split_comma(line)\n",
    "    return (words[1], words[3])"
   ]
  },
  {
   "cell_type": "markdown",
   "metadata": {},
   "source": [
    "For demonstration and sanity check purporses, let's apply the function to an example:"
   ]
  },
  {
   "cell_type": "code",
   "execution_count": 50,
   "metadata": {},
   "outputs": [
    {
     "data": {
      "text/plain": [
       "('Goroka', 'Papua New Guinea')"
      ]
     },
     "execution_count": 50,
     "metadata": {},
     "output_type": "execute_result"
    }
   ],
   "source": [
    "tuple_airport_city(test)"
   ]
  },
  {
   "cell_type": "markdown",
   "metadata": {},
   "source": [
    "Works as expected! If we map the entire RDD with `tuples_airport_city()`, then we would end up with an RDD containing tuples as each of its elements. In a nutshell, this is what a pair RDD looks like."
   ]
  },
  {
   "cell_type": "code",
   "execution_count": 51,
   "metadata": {},
   "outputs": [
    {
     "data": {
      "text/plain": [
       "[('Goroka', 'Papua New Guinea'),\n",
       " ('Madang', 'Papua New Guinea'),\n",
       " ('Mount Hagen', 'Papua New Guinea'),\n",
       " ('Nadzab', 'Papua New Guinea'),\n",
       " ('Port Moresby Jacksons Intl', 'Papua New Guinea')]"
      ]
     },
     "execution_count": 51,
     "metadata": {},
     "output_type": "execute_result"
    }
   ],
   "source": [
    "pair_airports = airports.map(tuple_airport_city)\n",
    "pair_airports.take(5)"
   ]
  },
  {
   "cell_type": "markdown",
   "metadata": {},
   "source": [
    "If we want to use filter, we can simply access keys or values as appropriate using list indexing with brackets. For example, if we want to obtain a list of airports in the United States, we might execute the following `filter()` statement."
   ]
  },
  {
   "cell_type": "code",
   "execution_count": 56,
   "metadata": {},
   "outputs": [
    {
     "data": {
      "text/plain": [
       "[('Putnam County Airport', 'United States'),\n",
       " ('Dowagiac Municipal Airport', 'United States'),\n",
       " ('Cambridge Municipal Airport', 'United States'),\n",
       " ('Door County Cherryland Airport', 'United States'),\n",
       " ('Shoestring Aviation Airfield', 'United States')]"
      ]
     },
     "execution_count": 56,
     "metadata": {},
     "output_type": "execute_result"
    }
   ],
   "source": [
    "pair_us_airports = pair_airports.filter(lambda line: line[1] == 'United States')\n",
    "pair_us_airports.take(5)"
   ]
  },
  {
   "cell_type": "markdown",
   "metadata": {},
   "source": [
    "## Map Values\n",
    "\n",
    "As stated earlier, one of the advantages of using pair RDDs is the ability to perform key or value-specific operations. For example, we might want to apply some map function on the values of the RDD while leaving the keys unchanged. Let;s say we want to change country names to uppercase. This might be achieved as follows:"
   ]
  },
  {
   "cell_type": "code",
   "execution_count": 113,
   "metadata": {},
   "outputs": [
    {
     "data": {
      "text/plain": [
       "[('Putnam County Airport', 'UNITED STATES'),\n",
       " ('Dowagiac Municipal Airport', 'UNITED STATES'),\n",
       " ('Cambridge Municipal Airport', 'UNITED STATES'),\n",
       " ('Door County Cherryland Airport', 'UNITED STATES'),\n",
       " ('Shoestring Aviation Airfield', 'UNITED STATES')]"
      ]
     },
     "execution_count": 113,
     "metadata": {},
     "output_type": "execute_result"
    }
   ],
   "source": [
    "upper_case_boring = pair_us_airports.map(lambda line: (line[0], line[1].upper()))\n",
    "upper_case_boring.take(5)"
   ]
  },
  {
   "cell_type": "markdown",
   "metadata": {},
   "source": [
    "However, this statement is rather verbose, since it requires us to specify that we want to leave the key unchanged by declaring the tuple as `(line[0], line[1].upper())`. Instead, we can use `mapValues()` to achieve the same result with much less boilerplate. "
   ]
  },
  {
   "cell_type": "code",
   "execution_count": 54,
   "metadata": {},
   "outputs": [
    {
     "data": {
      "text/plain": [
       "[('Goroka', 'PAPUA NEW GUINEA'),\n",
       " ('Madang', 'PAPUA NEW GUINEA'),\n",
       " ('Mount Hagen', 'PAPUA NEW GUINEA'),\n",
       " ('Nadzab', 'PAPUA NEW GUINEA'),\n",
       " ('Port Moresby Jacksons Intl', 'PAPUA NEW GUINEA')]"
      ]
     },
     "execution_count": 54,
     "metadata": {},
     "output_type": "execute_result"
    }
   ],
   "source": [
    "upper_case = pair_us_airports.mapValues(lambda value: value.upper())\n",
    "upper_case.take(5)"
   ]
  },
  {
   "cell_type": "markdown",
   "metadata": {},
   "source": [
    "Note that we didn't have to tell Spark what to do with the keys: it already knew that the keys should be left unchanged, and that mapping should only be applied to the values of each pair element in the RDD."
   ]
  },
  {
   "cell_type": "markdown",
   "metadata": {},
   "source": [
    "## Reduce by Key\n",
    "\n",
    "Earlier, we took a look at the `reduce()` operation, which was used to calculate things like sums or products. The equivalent for pair RDDs is `reduceByKey()`. Let's take a look at an example of a simple word frequency counting using a dummy text file."
   ]
  },
  {
   "cell_type": "code",
   "execution_count": 59,
   "metadata": {},
   "outputs": [
    {
     "data": {
      "text/plain": [
       "[\"The history of New York begins around 10,000 BC, when the first Native Americans arrived. By 1100 AD, New York's main native cultures, the Iroquoian and Algonquian, had developed. European discovery of New York was led by the French in 1524 and the first land claim came in 1609 by the Dutch. As part of New Netherland, the colony was important in the fur trade and eventually became an agricultural resource thanks to the patroon system. In 1626 the Dutch bought the island of Manhattan from Native Americans.[1] In 1664, England renamed the colony New York, after the Duke of York (later James II & VII.) New York City gained prominence in the 18th century as a major trading port in the Thirteen Colonies.\",\n",
       " '']"
      ]
     },
     "execution_count": 59,
     "metadata": {},
     "output_type": "execute_result"
    }
   ],
   "source": [
    "words = sc.textFile(f'{BASE_PATH}/word_count.text')\n",
    "words.take(2)"
   ]
  },
  {
   "cell_type": "markdown",
   "metadata": {},
   "source": [
    "To count the occurrences of words, we first need to split the strings into words. Note that we want to use `flatMap()` since we don't want to establish a distinction between different sentences; instead, we want to flatten the output. "
   ]
  },
  {
   "cell_type": "code",
   "execution_count": 60,
   "metadata": {},
   "outputs": [
    {
     "data": {
      "text/plain": [
       "['The', 'history', 'of', 'New', 'York']"
      ]
     },
     "execution_count": 60,
     "metadata": {},
     "output_type": "execute_result"
    }
   ],
   "source": [
    "split_words = words.flatMap(lambda line: line.split(' '))\n",
    "split_words.take(5)"
   ]
  },
  {
   "cell_type": "markdown",
   "metadata": {},
   "source": [
    "A hacky way to go about this task is to first transform the RDD into a pair RDD where each key is a word and the value is 1. Then, we can add up the values according to each key. Let's accomplish this step-by-step."
   ]
  },
  {
   "cell_type": "code",
   "execution_count": 63,
   "metadata": {},
   "outputs": [
    {
     "data": {
      "text/plain": [
       "[('The', 1), ('history', 1), ('of', 1), ('New', 1), ('York', 1)]"
      ]
     },
     "execution_count": 63,
     "metadata": {},
     "output_type": "execute_result"
    }
   ],
   "source": [
    "raw_pair_words = split_words.map(lambda word: (word, 1))\n",
    "raw_pair_words.take(5)"
   ]
  },
  {
   "cell_type": "markdown",
   "metadata": {},
   "source": [
    "As you might have guessed, this is where `reduceByKey()` comes into play. Applying the simple addition lambda function with `reduceByKey()` produces a pair RDD that contains the total count for each word. "
   ]
  },
  {
   "cell_type": "code",
   "execution_count": 64,
   "metadata": {},
   "outputs": [
    {
     "data": {
      "text/plain": [
       "[('The', 10), ('of', 33), ('New', 20), ('begins', 1), ('around', 4)]"
      ]
     },
     "execution_count": 64,
     "metadata": {},
     "output_type": "execute_result"
    }
   ],
   "source": [
    "pair_words = raw_pair_words.reduceByKey(lambda x, y: x + y)\n",
    "pair_words.take(5)"
   ]
  },
  {
   "cell_type": "markdown",
   "metadata": {},
   "source": [
    "## Sort\n",
    "\n",
    "One natural extension we might want to go from the word counting example is sorting. One can easily imagine situations where we might want to sort a pair RDD in some ascending or descending order according to value. This can bve achieved via the `sortBy()` function. Here, we set `ascending=False` so that the most frequent words would come at the top."
   ]
  },
  {
   "cell_type": "code",
   "execution_count": 68,
   "metadata": {},
   "outputs": [
    {
     "data": {
      "text/plain": [
       "[('the', 71), ('of', 33), ('in', 21), ('and', 21), ('New', 20)]"
      ]
     },
     "execution_count": 68,
     "metadata": {},
     "output_type": "execute_result"
    }
   ],
   "source": [
    "sorted_words = pair_words.sortBy(lambda x: x[1], ascending=False)\n",
    "sorted_words.take(5)"
   ]
  },
  {
   "cell_type": "markdown",
   "metadata": {},
   "source": [
    "## Group by Key\n",
    "\n",
    "Another common operation with pair RDDs is `groupByKey()`. However, before we get into the details, it should be noted that this method is strongly discouraged for performance reasons, especially on large datasets. For more information, I highly recommend that you take a look at this [notebook](https://databricks.gitbooks.io/databricks-spark-knowledge-base/content/best_practices/prefer_reducebykey_over_groupbykey.html) by Databricks---although it is written in Scala, you will understand most of what is going on based on your knowledge of PySpark. \n",
    "\n",
    "With this caveat out of the way, let's take a look at what we can do with `groupByKey()`. We first use the `airport` RDD we've used before in other examples."
   ]
  },
  {
   "cell_type": "code",
   "execution_count": 69,
   "metadata": {},
   "outputs": [
    {
     "data": {
      "text/plain": [
       "['1,\"Goroka\",\"Goroka\",\"Papua New Guinea\",\"GKA\",\"AYGA\",-6.081689,145.391881,5282,10,\"U\",\"Pacific/Port_Moresby\"',\n",
       " '2,\"Madang\",\"Madang\",\"Papua New Guinea\",\"MAG\",\"AYMD\",-5.207083,145.7887,20,10,\"U\",\"Pacific/Port_Moresby\"',\n",
       " '3,\"Mount Hagen\",\"Mount Hagen\",\"Papua New Guinea\",\"HGU\",\"AYMH\",-5.826789,144.295861,5388,10,\"U\",\"Pacific/Port_Moresby\"',\n",
       " '4,\"Nadzab\",\"Nadzab\",\"Papua New Guinea\",\"LAE\",\"AYNZ\",-6.569828,146.726242,239,10,\"U\",\"Pacific/Port_Moresby\"',\n",
       " '5,\"Port Moresby Jacksons Intl\",\"Port Moresby\",\"Papua New Guinea\",\"POM\",\"AYPY\",-9.443383,147.22005,146,10,\"U\",\"Pacific/Port_Moresby\"']"
      ]
     },
     "execution_count": 69,
     "metadata": {},
     "output_type": "execute_result"
    }
   ],
   "source": [
    "airports.take(5)"
   ]
  },
  {
   "cell_type": "markdown",
   "metadata": {},
   "source": [
    "This time, we use a mapping function that returns a key-value pair in the form of `({country}, {airport})`. As you may have guessed, we want to group by country keys to build a new pair RDD."
   ]
  },
  {
   "cell_type": "code",
   "execution_count": 70,
   "metadata": {},
   "outputs": [],
   "source": [
    "def tuple_airport_country(line):\n",
    "    words = split_comma(line)\n",
    "    return (words[3], words[1])"
   ]
  },
  {
   "cell_type": "markdown",
   "metadata": {},
   "source": [
    "First, we check that the function works as expected, thus producing a pair RDD of country-airport pair elements."
   ]
  },
  {
   "cell_type": "code",
   "execution_count": 73,
   "metadata": {},
   "outputs": [
    {
     "data": {
      "text/plain": [
       "[('Papua New Guinea', 'Goroka'),\n",
       " ('Papua New Guinea', 'Madang'),\n",
       " ('Papua New Guinea', 'Mount Hagen'),\n",
       " ('Papua New Guinea', 'Nadzab'),\n",
       " ('Papua New Guinea', 'Port Moresby Jacksons Intl')]"
      ]
     },
     "execution_count": 73,
     "metadata": {},
     "output_type": "execute_result"
    }
   ],
   "source": [
    "airports_country = airports.map(tuple_airport_country)\n",
    "airports_country.take(5)"
   ]
  },
  {
   "cell_type": "markdown",
   "metadata": {},
   "source": [
    "If we apply `groupByKey()` to this RDD, we get a pair RDD whose values are `ResultIterable` objects in PySpark speak. This is somewhat like a list but offered through the Spark interface and arguably less tractable than normal Python lists in that they can't simply be indexed with brackets. "
   ]
  },
  {
   "cell_type": "code",
   "execution_count": 74,
   "metadata": {},
   "outputs": [
    {
     "data": {
      "text/plain": [
       "[('Iceland', <pyspark.resultiterable.ResultIterable at 0x11af06510>),\n",
       " ('Algeria', <pyspark.resultiterable.ResultIterable at 0x11af06410>),\n",
       " ('Ghana', <pyspark.resultiterable.ResultIterable at 0x120e0b9d0>),\n",
       " (\"Cote d'Ivoire\", <pyspark.resultiterable.ResultIterable at 0x120e148d0>),\n",
       " ('Nigeria', <pyspark.resultiterable.ResultIterable at 0x120fcd6d0>)]"
      ]
     },
     "execution_count": 74,
     "metadata": {},
     "output_type": "execute_result"
    }
   ],
   "source": [
    "airports_by_country = airports_country.groupByKey()\n",
    "airports_by_country.take(5)"
   ]
  },
  {
   "cell_type": "markdown",
   "metadata": {},
   "source": [
    "To get a sneak peak into what `ReslutIterable` objects look like, we can convert them into a list. Note that we normally wouldn't enforce list conversion on large datasets."
   ]
  },
  {
   "cell_type": "code",
   "execution_count": 150,
   "metadata": {},
   "outputs": [
    {
     "name": "stdout",
     "output_type": "stream",
     "text": [
      "Iceland ['Akureyri', 'Egilsstadir', 'Hornafjordur', 'Husavik', 'Isafjordur', 'Keflavik International Airport', 'Patreksfjordur', 'Reykjavik', 'Siglufjordur', 'Vestmannaeyjar', 'Reykjahlid Airport', 'Bakki Airport', 'Vopnafjörður Airport', 'Thorshofn Airport', 'Grímsey Airport', 'Bildudalur Airport', 'Gjogur Airport', 'Saudarkrokur', 'Selfoss Airport', 'Reykjahlid', 'Seydisfjordur', 'Nordfjordur Airport']\n"
     ]
    }
   ],
   "source": [
    "country, airports = airports_by_country.take(1)[0]\n",
    "print(country, list(airports))"
   ]
  },
  {
   "cell_type": "markdown",
   "metadata": {},
   "source": [
    "## Join\n",
    "\n",
    "Join, which comes from relational algebra, is a very common operation that comes from relational algebra. It is commonly used in SQL to bring two or more tables into the same picture. For a quick visual representation of what joins are, here is an image that might be of help."
   ]
  },
  {
   "cell_type": "markdown",
   "metadata": {},
   "source": [
    "<img src='https://commons.wikimedia.org/wiki/File:SQL_Joins.svg' />"
   ]
  },
  {
   "cell_type": "markdown",
   "metadata": {},
   "source": [
    "We can perfor joins on pair RDDs as well. We can consider pair RDDs to be somewhat like SQL tables with just a primary key and a single column to go with it. Let's quickly create a toy dataset to illustrate the join operators in PySpark. Here, we have a list of names, ages, and their countries of origin. To best demonstrate the join operation, we intentionally create a mismatch of keys in the `ages_rdd` and `countries_rdd`. "
   ]
  },
  {
   "cell_type": "code",
   "execution_count": 94,
   "metadata": {},
   "outputs": [],
   "source": [
    "import random\n",
    "\n",
    "names = ['Sarah', 'John', 'Tom', 'Clara', 'Ellie', 'Jake', 'Demir']\n",
    "ages = [random.randint(15, 45) for _ in range(len(names))]\n",
    "countries = ['USA', 'ROK', 'UK', 'FR', 'PRC', 'CAN', 'BEL']\n",
    "\n",
    "ages_rdd = sc.parallelize(list(zip(names[:4], ages[:4])))\n",
    "countries_rdd = sc.parallelize(list(zip(names[2:], countries[2:])))"
   ]
  },
  {
   "cell_type": "markdown",
   "metadata": {},
   "source": [
    "Here is a little helper function to help us take a look at what the keys and values are in a pair RDD."
   ]
  },
  {
   "cell_type": "code",
   "execution_count": 101,
   "metadata": {},
   "outputs": [],
   "source": [
    "def show_rdd(rdd):\n",
    "    for key, value in rdd.collect():\n",
    "        print(f'Key: {key}, Value: {value}')"
   ]
  },
  {
   "cell_type": "code",
   "execution_count": 102,
   "metadata": {},
   "outputs": [
    {
     "name": "stdout",
     "output_type": "stream",
     "text": [
      "Key: Sarah, Value: 16\n",
      "Key: John, Value: 20\n",
      "Key: Tom, Value: 16\n",
      "Key: Clara, Value: 15\n"
     ]
    }
   ],
   "source": [
    "show_rdd(ages_rdd)"
   ]
  },
  {
   "cell_type": "code",
   "execution_count": 103,
   "metadata": {},
   "outputs": [
    {
     "name": "stdout",
     "output_type": "stream",
     "text": [
      "Key: Tom, Value: UK\n",
      "Key: Clara, Value: FR\n",
      "Key: Ellie, Value: PRC\n",
      "Key: Jake, Value: CAN\n",
      "Key: Demir, Value: BEL\n"
     ]
    }
   ],
   "source": [
    "show_rdd(countries_rdd)"
   ]
  },
  {
   "cell_type": "markdown",
   "metadata": {},
   "source": [
    "As we can see, the `ages_rdd` and `countries_rdd` each have some overlapping keys, but not all keys are in both RDDs. For instance, Tom and Clara are in both RDDs, but John is only in the `ages_rdd`. This intentional mismatch is going to be useful later when we discuss the difference between left and right joins.\n",
    "\n",
    "First, let's take a look at `join()`, which in PySpark refers to an inner join. Since this an inner join, we only get results pertaining to keys that are present in both RDDs, namely Clara and Tom."
   ]
  },
  {
   "cell_type": "code",
   "execution_count": 104,
   "metadata": {},
   "outputs": [
    {
     "name": "stdout",
     "output_type": "stream",
     "text": [
      "Key: Clara, Value: (15, 'FR')\n",
      "Key: Tom, Value: (16, 'UK')\n"
     ]
    }
   ],
   "source": [
    "show_rdd(ages_rdd.join(countries_rdd))"
   ]
  },
  {
   "cell_type": "markdown",
   "metadata": {},
   "source": [
    "Note that if we flip the order of joins, the order of elements in the values of each key-value pairs also changes."
   ]
  },
  {
   "cell_type": "code",
   "execution_count": 105,
   "metadata": {},
   "outputs": [
    {
     "name": "stdout",
     "output_type": "stream",
     "text": [
      "Key: Clara, Value: ('FR', 15)\n",
      "Key: Tom, Value: ('UK', 16)\n"
     ]
    }
   ],
   "source": [
    "show_rdd(countries_rdd.join(ages_rdd))"
   ]
  },
  {
   "cell_type": "markdown",
   "metadata": {},
   "source": [
    "Things get slightly more interesting with other joins like `leftOuterJoin()`. I personally find it intuitive to image two van diagrams, with the left one being completely filled in the case of a left join. In other words, we keep all the keys of the left table while joining with the table on the right. In this case, since there exists a key mismatch, only those keys that are present in both tables will end up with a full joined tuple; others are `None`s in their joined values."
   ]
  },
  {
   "cell_type": "code",
   "execution_count": 106,
   "metadata": {},
   "outputs": [
    {
     "name": "stdout",
     "output_type": "stream",
     "text": [
      "Key: John, Value: (20, None)\n",
      "Key: Clara, Value: (15, 'FR')\n",
      "Key: Tom, Value: (16, 'UK')\n",
      "Key: Sarah, Value: (16, None)\n"
     ]
    }
   ],
   "source": [
    "show_rdd(ages_rdd.leftOuterJoin(countries_rdd))"
   ]
  },
  {
   "cell_type": "markdown",
   "metadata": {},
   "source": [
    "The same happens with `rightOuterJoin()`. This is exactly identical to what the left join is, except with the very obvious caveat that the right diagram is filled, not the left."
   ]
  },
  {
   "cell_type": "code",
   "execution_count": 107,
   "metadata": {},
   "outputs": [
    {
     "name": "stdout",
     "output_type": "stream",
     "text": [
      "Key: Ellie, Value: (None, 'PRC')\n",
      "Key: Clara, Value: (15, 'FR')\n",
      "Key: Tom, Value: (16, 'UK')\n",
      "Key: Jake, Value: (None, 'CAN')\n",
      "Key: Demir, Value: (None, 'BEL')\n"
     ]
    }
   ],
   "source": [
    "show_rdd(ages_rdd.rightOuterJoin(countries_rdd))"
   ]
  },
  {
   "cell_type": "markdown",
   "metadata": {},
   "source": [
    "Lastly, let's take a look at `fullOuterJoin()`. This is a combination of the left and right join---we fill up the entire van diagram, both left and right. Notice that this is exactly what happens when we add the results from `leftOuterJoin()` and `rightOuterJoin()`, with duplicates removed. "
   ]
  },
  {
   "cell_type": "code",
   "execution_count": 108,
   "metadata": {},
   "outputs": [
    {
     "name": "stdout",
     "output_type": "stream",
     "text": [
      "Key: John, Value: (20, None)\n",
      "Key: Ellie, Value: (None, 'PRC')\n",
      "Key: Clara, Value: (15, 'FR')\n",
      "Key: Tom, Value: (16, 'UK')\n",
      "Key: Jake, Value: (None, 'CAN')\n",
      "Key: Sarah, Value: (16, None)\n",
      "Key: Demir, Value: (None, 'BEL')\n"
     ]
    }
   ],
   "source": [
    "show_rdd(ages_rdd.fullOuterJoin(countries_rdd))"
   ]
  },
  {
   "cell_type": "markdown",
   "metadata": {},
   "source": [
    "# Conclusion\n",
    "\n",
    "In this post, we explored the various aspects of Apache Spark: what it is, how to set it up, and what we can do with it via the RDD API. There is a lot more to Spark that we haven't discussed, such as Spark SQL or MLLib. I will most definitely be writing a post on these as I become more familiar with the various APIs and functionalities that Spark has to offer. \n",
    "\n",
    "I doubt I'll be using Spark for any personal project, since Spark is used for processing large datasets across different clusters, not on a single computer as we have done here. However, it was an interesting journey and one that was definitely worth the time and effot, since I feel like I've at least gained some glimpse of what all the hype behind the Spark keyword is. \n",
    "\n",
    "I hope you've enjoyed reading this post. See you in the next one!"
   ]
  }
 ],
 "metadata": {
  "kernelspec": {
   "display_name": "Basic",
   "language": "python",
   "name": "basic"
  },
  "language_info": {
   "codemirror_mode": {
    "name": "ipython",
    "version": 3
   },
   "file_extension": ".py",
   "mimetype": "text/x-python",
   "name": "python",
   "nbconvert_exporter": "python",
   "pygments_lexer": "ipython3",
   "version": "3.7.5"
  }
 },
 "nbformat": 4,
 "nbformat_minor": 4
}
