{
 "cells": [
  {
   "cell_type": "markdown",
   "metadata": {},
   "source": [
    "Recently, I ran into an interesting video on YouTube on numerical methods (at this pont, I can't help but wonder if YouTube can read my mind, but now I digress). It was a channel called [numericalmethodsguy](https://www.youtube.com/channel/UCtXs16H04R0SSeRI8UEXMxw), run by a professor of mechanical engineering at the University of Florida. While the videos themselves were recorded a while back in 2009 at just 240p, I found the contents of the video to be very intriguing and easily digestable. His videos did not seem to assume much mathematical knowledge beyond basic high school calculus. After watching a few of his videos, I decided to implement some numerical methods algorithms in Python. Specifically, this post will deal with mainly two methods of solving non-linear equations: the Newton-Raphson method and the secant method. Let's dive right into it."
   ]
  },
  {
   "cell_type": "markdown",
   "metadata": {},
   "source": [
    "# Equation Representation\n",
    "\n",
    "Before we move on, it's first necessary to come up with a way of representing equations in Python. For the sake of simplicity, let's first just consider polynomials. \n",
    "\n",
    "The most obvious, simplest way of representing polynomials in Python is to simply use functions. For example, we can express $f(x) = x^3 - 20$ as"
   ]
  },
  {
   "cell_type": "code",
   "execution_count": 108,
   "metadata": {},
   "outputs": [],
   "source": [
    "def f(x):\n",
    "    return x ** 3 - 20"
   ]
  },
  {
   "cell_type": "markdown",
   "metadata": {},
   "source": [
    "However, a downside of this approach is the fact that it's difficult to directly derive this equation despite the fact that it is nothing more than just a simple polynomial. \n",
    "\n",
    "## List Representation\n",
    "\n",
    "So instead, we will use a list index-based representation. Namely, the  $i$th element of a list represents the coefficient of the $i$th power in a polynomial equation. In other words, $f(x) = x^2 - 20$ would translate into `[-20, 0, 0, 1]`. The `make_function()` is a function that returns a Python function given a list that conforms to this list index representation."
   ]
  },
  {
   "cell_type": "code",
   "execution_count": 39,
   "metadata": {},
   "outputs": [],
   "source": [
    "def make_function(f_array):\n",
    "    return lambda x: sum(\n",
    "        coef * x ** power for power, coef in enumerate(f_array)\n",
    "    )"
   ]
  },
  {
   "cell_type": "markdown",
   "metadata": {},
   "source": [
    "Let's see if this works as expected. "
   ]
  },
  {
   "cell_type": "code",
   "execution_count": 40,
   "metadata": {},
   "outputs": [
    {
     "data": {
      "text/plain": [
       "7"
      ]
     },
     "execution_count": 40,
     "metadata": {},
     "output_type": "execute_result"
    }
   ],
   "source": [
    "f_array = [-20, 0, 0, 1]\n",
    "f = make_function(f_array)\n",
    "f(3)"
   ]
  },
  {
   "cell_type": "markdown",
   "metadata": {},
   "source": [
    "$3^3 - 20 = 7$, so the function passes our quick sanity test. \n",
    "\n",
    "## Parser\n",
    "\n",
    "One useful helper function that I also implemented for the sake of convenience is a array-to-equation parser that translates a list representation into a mathematical expression in Python. This is best demonstrated than explained, so I'll defer myself to an exampe."
   ]
  },
  {
   "cell_type": "code",
   "execution_count": 47,
   "metadata": {},
   "outputs": [
    {
     "data": {
      "text/plain": [
       "'1 * x ** 3 - 20'"
      ]
     },
     "execution_count": 47,
     "metadata": {},
     "output_type": "execute_result"
    }
   ],
   "source": [
    "parsed_string = parse(f_array)\n",
    "parsed_string"
   ]
  },
  {
   "cell_type": "markdown",
   "metadata": {},
   "source": [
    "Below is the full definition of the `parse()` function. "
   ]
  },
  {
   "cell_type": "code",
   "execution_count": 46,
   "metadata": {},
   "outputs": [],
   "source": [
    "def parse(f_array):\n",
    "    if len(f_array) == 0:\n",
    "        raise ValueError(\"`f_array` should contain at least one term.\")\n",
    "    res = \"\"\n",
    "    for power, coef in zip(range(len(f_array) - 1, -1, -1), reversed(f_array)):\n",
    "        if coef == 0:\n",
    "            continue\n",
    "        if power == 0:\n",
    "            res += f\" + {coef}\" if coef > 0 else f\" - {abs(coef)}\"\n",
    "        else:\n",
    "            res += (\n",
    "                f\" + {coef} * x ** {power}\"\n",
    "                if coef > 0\n",
    "                else f\" - {abs(coef)} * x ** {power}\"\n",
    "            )\n",
    "    if f_array[-1] > 0:\n",
    "        return res[3:]\n",
    "    return res[1:]"
   ]
  },
  {
   "cell_type": "markdown",
   "metadata": {},
   "source": [
    "## Evaluate\n",
    "\n",
    "At this point, I also thought that it would be useful and interesting to compose a function that translates the string output of `parse()` into a proper Python function we can use to calculate values. Below is the `evaluate()` function that receives as input some parsed output string and returns a corresponding Python function."
   ]
  },
  {
   "cell_type": "code",
   "execution_count": 37,
   "metadata": {},
   "outputs": [],
   "source": [
    "def evaluate(string, x):\n",
    "    return eval(string.replace(\"x\", str(x)))"
   ]
  },
  {
   "cell_type": "markdown",
   "metadata": {},
   "source": [
    "Now, we can do something like this:"
   ]
  },
  {
   "cell_type": "code",
   "execution_count": 111,
   "metadata": {},
   "outputs": [
    {
     "name": "stdout",
     "output_type": "stream",
     "text": [
      "f(x) = 1 * x ** 3 - 20\n",
      "f(5) = 105\n"
     ]
    }
   ],
   "source": [
    "print(f\"f(x) = {parsed_string}\")\n",
    "print(f\"f(5) = {evaluate(parsed_string, 5)}\")"
   ]
  },
  {
   "cell_type": "markdown",
   "metadata": {},
   "source": [
    "# Calculus and Approximations\n",
    "\n",
    "Now that we have more than enough tools we can use relating to the list index representation we decided to use to represent polynomials, it's time to exploit the convenience that this representation affords us to calculate derivatives. \n",
    "\n",
    "## Direct Approach\n",
    "\n",
    "Calculating derivatives using the list index representation is extremely easy and convenient: in fact, it can be achieved in just a single line. "
   ]
  },
  {
   "cell_type": "code",
   "execution_count": 41,
   "metadata": {},
   "outputs": [],
   "source": [
    "def derive(f_array):\n",
    "    '''\n",
    "    Input: list index representation of a function\n",
    "    Output: derivative in list index representation\n",
    "    '''\n",
    "    return [power * coef for power, coef in enumerate(f_array)][1:]"
   ]
  },
  {
   "cell_type": "markdown",
   "metadata": {},
   "source": [
    "Let's test this function with the `f_array` example we have been using previously. Let's also use the `parse()` function to make the final result for human-readable."
   ]
  },
  {
   "cell_type": "code",
   "execution_count": 113,
   "metadata": {},
   "outputs": [
    {
     "name": "stdout",
     "output_type": "stream",
     "text": [
      "f(x) = 1 * x ** 3 - 20\n",
      "f'(x) = 3 * x ** 2\n"
     ]
    }
   ],
   "source": [
    "print(f\"f(x) = {parse(f_array)}\")\n",
    "print(f\"f'(x) = {parse(derive(f_array))}\")"
   ]
  },
  {
   "cell_type": "markdown",
   "metadata": {},
   "source": [
    "Seems like the derivative calculation works as expected. \n",
    "\n",
    "In the process, I got a little bit extra and also wrote a function that integrates a function in list index representation format. "
   ]
  },
  {
   "cell_type": "code",
   "execution_count": 43,
   "metadata": {},
   "outputs": [
    {
     "data": {
      "text/plain": [
       "27"
      ]
     },
     "execution_count": 43,
     "metadata": {},
     "output_type": "execute_result"
    }
   ],
   "source": [
    "f_prime = make_function(f_prime_array)\n",
    "f_prime(3)"
   ]
  },
  {
   "cell_type": "code",
   "execution_count": 44,
   "metadata": {},
   "outputs": [],
   "source": [
    "def integrate(f_array):\n",
    "    res = [0]\n",
    "    for power, coef in enumerate(f_array):\n",
    "        res.append(coef / (power + 1))\n",
    "    return res"
   ]
  },
  {
   "cell_type": "markdown",
   "metadata": {},
   "source": [
    "If we integrate $f(x) = x^3 - 20$, we end up with $F(x) = \\frac14 x^4 - 20 x + C$, where $C$ is the integration constant. Excluding the integration constant, we get a result that is consistent with the `integrate()` function."
   ]
  },
  {
   "cell_type": "code",
   "execution_count": 115,
   "metadata": {},
   "outputs": [
    {
     "name": "stdout",
     "output_type": "stream",
     "text": [
      "F(x) = 0.25 * x ** 4 - 20.0 * x ** 1\n"
     ]
    }
   ],
   "source": [
    "print(f\"F(x) = {parse(integrate(f_array))}\")"
   ]
  },
  {
   "cell_type": "markdown",
   "metadata": {},
   "source": [
    "While it's great that we can calcuate derivatives and integrals, one very obvious drawback of this direct approach is that we cannot deal with non-polynomial functions, such as exponentials or logarithms. Moreover, the list index representation is unable to represent polynomials that include terms whose powers are not positive integers. For these reasons, we will need some other methods of calculating derivatives as well. Hence the motivation for approximation methods, outlined in the section below."
   ]
  },
  {
   "cell_type": "markdown",
   "metadata": {},
   "source": [
    "## Approximation\n",
    "\n",
    "If you probe the deepest depths of your memory, somewhere you will recall the following equation, which I'm sure all of us saw in some high school calculus class:\n",
    "\n",
    "$$\n",
    "f'(x) = \\lim_{h \\to 0} \\frac{f(x + h) - f(x)}{h} \\tag{1}\n",
    "$$\n",
    "\n",
    "This equation, commonly known as the definition of a derivative, is also known as the forward divided difference formula of calcuating derivatives. There is another variant, known as the backward divided difference formula:\n",
    "\n",
    "$$\n",
    "f'(x) = \\lim_{h \\to 0} \\frac{f(x) - f(x - h)}{h} \\tag{2}\n",
    "$$\n",
    "\n",
    "(1) and (2) are almost nearly identical, but the difference lies in which term is subtracted from who. In (1), we go an infinitesimal step forward---hence the $f(x + h)$---and subtract the value at the point of approximation, $f(x)$. In (2), we go backwards, which is why we get $f(x - h)$. As $h$ approaches 0, (1) and (2) asymptotically gives us identical results. \n",
    "\n",
    "Below is a Python variant of the backward divided difference formula. Some tweaks have been made to the formula for use in the section that follows, but at its core, it's clear that the function uses the approximation logic we've discussed so far."
   ]
  },
  {
   "cell_type": "code",
   "execution_count": 26,
   "metadata": {},
   "outputs": [],
   "source": [
    "def backward_divided_difference(f, x_current, x_prev):\n",
    "    return (f(x_current) - f(x_prev)) / (x_current - x_prev)"
   ]
  },
  {
   "cell_type": "markdown",
   "metadata": {},
   "source": [
    "Another variant of the forward and backward divided difference formula is the center divided difference. By now, you might have some intuition as to what this formula is---as the name implies, we somehow use the center point, instead of going forward or backwards from the point of approximation. Here is the formua:\n",
    "\n",
    "$$\n",
    "f'(x) = \\lim_{h \\to 0} \\frac{f(x + h) - f(x - h)}{2h} \\tag{3}\n",
    "$$\n",
    "\n",
    "Heuristically, this formula also makes sense. We can imagine going both a step forward and backward, then dividing the results by the total of two steps we've taken, one in each direction. \n",
    "\n",
    "Shown below is the Python implementation of the center divided difference formula. "
   ]
  },
  {
   "cell_type": "code",
   "execution_count": 67,
   "metadata": {},
   "outputs": [],
   "source": [
    "def center_divided_difference(f, x, epsilon=1e-5):\n",
    "    return (f(x + epsilon) - f(x - epsilon)) / (2 * epsilon)"
   ]
  },
  {
   "cell_type": "markdown",
   "metadata": {},
   "source": [
    "## Error Bounds\n",
    "\n",
    "According to conventional mathematical wisdom, the center divided method normally provides a more robust way of approximating first order derivatives. In this subsection, we discuss why this is the case. \n",
    "\n",
    "Using Taylor expansion, we can approximate the value of $f(a + h)$ as follows, given that $h$ goes to 0 under the limit.\n",
    "\n",
    "$$\n",
    "\\begin{align}\n",
    "f(a + h) \n",
    "&= f(a) + f'(a)h + \\frac{f^{(2)}(a)}{2!} h^2 + \\cdots \\\\\n",
    "&= \\sum_{k = 0}^\\infty \\frac{f^{(k)}(a)}{k!} h^k\n",
    "\\end{align} \\tag{4}\n",
    "$$\n",
    "\n",
    "Notice that we can manipulate (4) to derive the forward divided difference equation in (1). If we move the $f(a)$ term to the LHS, then divide both sides by $h$, we end up with\n",
    "\n",
    "$$\n",
    "\\begin{align}\n",
    "\\frac{f(a + h) - f(a)}{h} \n",
    "&= f'(a) + \\frac{f^{(2)}(a)}{2!} h + \\frac{f^{(3)}(a)}{3!} h^2 + \\cdots \\\\\n",
    "&= f'(a) + O(h)\n",
    "\\end{align} \\tag{5}\n",
    "$$"
   ]
  },
  {
   "cell_type": "markdown",
   "metadata": {},
   "source": [
    "Here, we used big-O notation to denote the order of magnitude of the trailing terms. The trailing terms are significant since they are directly related to the accuracy of our approximation. An error term of $O(h)$ means that, if we halve the step size, we will also halve the error. This is best understood as a linear relationship between error and the step size. \n",
    "\n",
    "We can conduct a similar mode of analysis with backward divided difference. By symmetry, we can express $f(a - h)$ as\n",
    "\n",
    "$$\n",
    "\\begin{align}\n",
    "f(a - h) \n",
    "&= f(a) + f'(a)(- h) + \\frac{f^{(2)}(a)}{2!} (- h)^2 + \\cdots \\\\\n",
    "&= \\sum_{k = 0}^\\infty (- 1)^k \\frac{f^{(k)}(a)}{k!} h^k\n",
    "\\end{align} \\tag{6}\n",
    "$$"
   ]
  },
  {
   "cell_type": "markdown",
   "metadata": {},
   "source": [
    "If we rearrange (6), we end up with (2).\n",
    "\n",
    "$$\n",
    "\\begin{align}\n",
    "\\frac{f(a) - f(a - h)}{h} \n",
    "&= f'(a) + \\frac{f^{(2)}(a)}{2!} h - \\frac{f^{(3)}(a)}{3!} h^2 + \\cdots \\\\\n",
    "&= f'(a) + O(h)\n",
    "\\end{align} \\tag{7}\n",
    "$$"
   ]
  },
  {
   "cell_type": "markdown",
   "metadata": {},
   "source": [
    "Again, we see that backward divided difference yields linear error, or a trailing term of $O(h)$. \n",
    "\n",
    "Here's where things get more interesting: in the case of center divided difference, the magnitude of the error term is $O(h^2)$, meaning that halving the step size decreases the error by four-folds. This is why center divided difference yields much more accurate approximations than forward or backward divided difference. \n",
    "\n",
    "To see this, we subtract (5) from (4), then move some terms, and divide both sides by $2h$. Notice that subtracting these two expression results in a lot of term cancellations."
   ]
  },
  {
   "cell_type": "markdown",
   "metadata": {},
   "source": [
    "$$\n",
    "f(a + h) - f(a - h) = 2 f'(a) h + 2 \\frac{f^{(3)}(a)}{3!} h^3 + \\cdots\n",
    "$$\n",
    "\n",
    "Dividing both sides by $2h$ yields\n",
    "\n",
    "$$\n",
    "\\begin{align}\n",
    "\\frac{f(a + h) - f(a - h)}{2h} \n",
    "&= f'(a) + \\frac{f^{(3)}(a)}{3!} h^2 + \\cdots \\\\\n",
    "&= f'(a) + O(h^2)\n",
    "\\end{align} \\tag{8}\n",
    "$$"
   ]
  },
  {
   "cell_type": "markdown",
   "metadata": {},
   "source": [
    "From this result, we now know why the central divided difference method provides more accurate approximations of the derivative than do forward and backward divided difference. This is somewhat related to what we will be doing in the next section, so it's a good intuition to have throughout when reading the rest of this article.\n",
    "\n",
    "Now that we have these tools for differential calculus, now comes the exciting part: solving non-linear equations. Specifically, we will be taking a look at two numerical methods: the Newton-Raphson method and the secant method."
   ]
  },
  {
   "cell_type": "markdown",
   "metadata": {},
   "source": [
    "# Numerical Methods\n",
    "\n",
    "It's time to put the methods we developed in the preceding sections to use for solving non-linear equations. Sepcifically, we'll begin by taking look at a classic algorithm, the Newton-Raphson method.\n",
    "\n",
    "## Newton-Raphson\n",
    "\n",
    "The Newton-Raphson method is one of the many ways of solving non-linear equations. The intuition behind the Newton-Raphson method is pretty straightforward: we can use tangent lines to approximate the x-intercept, which is effectively the root of the equation $f(x) = 0$. Specifically, we begin on some point on the graph, then obtain the tangent line on that point. Then, we obtain the $x$-intercept of that tangent line, and repeat the process we've just completed by starting on a point on the graph whose $x$-value is equal to that $x$-intercept. The following [image](https://upload.wikimedia.org/wikipedia/commons/e/e0/NewtonIteration_Ani.gif) from Wikipedia illustrates this process quite well. (A digression: It's interesting to see how \"function\" and \"tangent\" are written in German---in case you are wondering, I don't know a word of German.)\n",
    "\n",
    "<img src=\"https://upload.wikimedia.org/wikipedia/commons/e/e0/NewtonIteration_Ani.gif\">"
   ]
  },
  {
   "cell_type": "markdown",
   "metadata": {},
   "source": [
    "### Derivation\n",
    "\n",
    "Mathematically, the Newton-Raphson method can be expressed recursively as follows:\n",
    "\n",
    "$$\n",
    "x_{i + 1} = x_i - \\frac{f(x_i)}{f'(x_i)} \\tag{4}\n",
    "$$"
   ]
  },
  {
   "cell_type": "markdown",
   "metadata": {},
   "source": [
    "Deriving this formula is quite simple. Say we start at a point on the graph, $(x_i, f(x_i))$. The tangent line from that point will have a slope of $f'(x_i)$. Therefore, the equation of the tangent line can be expressed as \n",
    "\n",
    "$$\n",
    "\\begin{align}\n",
    "y \n",
    "&= f'(x_i)(x - x_i) + f(x_i) \\\\\n",
    "&= x f'(x_i) - x_i f'(x_i) + f(x_i)  \\tag{5}\n",
    "\\end{align}\n",
    "$$"
   ]
  },
  {
   "cell_type": "markdown",
   "metadata": {},
   "source": [
    "Then, the $x$-intercept can simpy be obtained by finding an $x$ value that which makes $y = 0$. Let $x^*$ denote that point. Then, we arrive at the following update rule.\n",
    "\n",
    "$$\n",
    "0 = x^* f'(x_i) - x_i f'(x_i) + f(x_i) \\\\\n",
    "\\implies x^* = x_i - \\frac{f(x_i)}{f'(x_i)}  \\tag{6}\n",
    "$$"
   ]
  },
  {
   "cell_type": "markdown",
   "metadata": {},
   "source": [
    "Since we will be using $x^*$ as the value for the next iteration, $x^* = x_{i + 1}$, and now we have the update rule as delineated in (4). \n",
    "\n",
    "### Python Implementation\n",
    "\n",
    "Below is an implementation of the Newton-Raphson method in Python. I've added some parameters to the function for functionality and customization. `epsilon` is simply some small value we use to decide when to stop the update; if the change in the value of the root is so small that it is not worth the extra compute, we should stop. `max_iter` determines how many iterations we want to continue. If the algorithm is unable to find the root within `max_iter` iterations, it likely means that the function provided does not have a root, or at the very least, the root is not discoverable via the algorithm. Lastly, `return_history` is a flag that determines whether we return the full update history or simply the last value in the iteration as a single valule. \n",
    "\n",
    "One peculiarity that deserves attention is the `TypeError` exception, which occurs in this case if the number of arguments passed into the function does not match. I added this `try` `except` block to take into account the fact that the `derive()` method and other approximate derivative calculation methods such as `center_divided_difference()` have differing numbers of parameters. "
   ]
  },
  {
   "cell_type": "code",
   "execution_count": 64,
   "metadata": {},
   "outputs": [],
   "source": [
    "def newton_raphson(\n",
    "    f, f_prime, x, epsilon=1e-5, return_history=False, max_iter=100\n",
    "):\n",
    "    history = [x]\n",
    "    for _ in range(max_iter):\n",
    "        x_prev = history[-1]\n",
    "        try:\n",
    "            x = x - f(x) / f_prime(x)\n",
    "        except TypeError:\n",
    "            x = x - f(x) / f_prime(f, x)\n",
    "        history.append(x)\n",
    "        if abs(x - x_prev) < epsilon:\n",
    "            return history if return_history else history[-1]\n",
    "    raise RuntimeError(\"Exceeded `max_iter`.\")"
   ]
  },
  {
   "cell_type": "markdown",
   "metadata": {},
   "source": [
    "Let's see if this actually works by using the example we've been reusing thus far, $f(x) = x^3 - 20$, or `f` and `f_prime`, both of which we have already defined and initialized above."
   ]
  },
  {
   "cell_type": "code",
   "execution_count": 65,
   "metadata": {},
   "outputs": [
    {
     "data": {
      "text/plain": [
       "2.7144176165949068"
      ]
     },
     "execution_count": 65,
     "metadata": {},
     "output_type": "execute_result"
    }
   ],
   "source": [
    "root_nr = newton_raphson(f, f_prime, 3)\n",
    "root_nr"
   ]
  },
  {
   "cell_type": "markdown",
   "metadata": {},
   "source": [
    "The root seems to be around 2.7. And indeed, if we cube it, we end up with a value extremely close to 20. In other words, we have successfully found the root to $y = x^3 - 20$. "
   ]
  },
  {
   "cell_type": "code",
   "execution_count": 66,
   "metadata": {},
   "outputs": [
    {
     "data": {
      "text/plain": [
       "20.000000000000004"
      ]
     },
     "execution_count": 66,
     "metadata": {},
     "output_type": "execute_result"
    }
   ],
   "source": [
    "root_nr ** 3"
   ]
  },
  {
   "cell_type": "markdown",
   "metadata": {},
   "source": [
    "Instead of the direct derivative, `f_prime`, we can also use approximation methods. In the example below, we show that using `center_divided_difference()` results in a very similar value (in fact, it is identical in this case, but we need to take into other factors such as numerical stability and overflow which might happen with such high-precision numbers)."
   ]
  },
  {
   "cell_type": "code",
   "execution_count": 69,
   "metadata": {},
   "outputs": [
    {
     "data": {
      "text/plain": [
       "2.7144176165949068"
      ]
     },
     "execution_count": 69,
     "metadata": {},
     "output_type": "execute_result"
    }
   ],
   "source": [
    "root_nr_cdd = newton_raphson(f, center_divided_difference, 3)\n",
    "root_nr_cdd"
   ]
  },
  {
   "cell_type": "markdown",
   "metadata": {},
   "source": [
    "This result aligns with the earlier observation that center divided difference provides very accurate approximations of the first derivative. \n",
    "\n",
    "Note that the advatage of using `center_divided_difference` is that we can now apply Newton-Raphson to non-polynomial equations that cannot be formulated in list index representation format. For instance, let's try something like `f(x) = e^x - 3`. "
   ]
  },
  {
   "cell_type": "code",
   "execution_count": 116,
   "metadata": {},
   "outputs": [
    {
     "data": {
      "text/plain": [
       "1.0986122886724257"
      ]
     },
     "execution_count": 116,
     "metadata": {},
     "output_type": "execute_result"
    }
   ],
   "source": [
    "import math\n",
    "\n",
    "f2 = lambda x: math.exp(x) - 3\n",
    "root_exp = newton_raphson(f2, center_divided_difference, 3)\n",
    "root_exp"
   ]
  },
  {
   "cell_type": "markdown",
   "metadata": {},
   "source": [
    "To verify that this is indeed correct, we can plug `root_exp` back into `f2`. Also, given that $e \\approx 2.7$, we can use some heuristics to realize that the answer must be only ever so slightly larger than 1. "
   ]
  },
  {
   "cell_type": "code",
   "execution_count": 117,
   "metadata": {},
   "outputs": [
    {
     "data": {
      "text/plain": [
       "1.2947865002388426e-11"
      ]
     },
     "execution_count": 117,
     "metadata": {},
     "output_type": "execute_result"
    }
   ],
   "source": [
    "f2(root_exp)"
   ]
  },
  {
   "cell_type": "markdown",
   "metadata": {},
   "source": [
    "Notice that the result is extremely close to zero, suggesting that we have found the correct root.\n",
    "\n",
    "Now that we have seen the robustness of the Newton-Raphson method, let's take a look at another similar numerical method that uses backward divided difference for derivative approximation."
   ]
  },
  {
   "cell_type": "markdown",
   "metadata": {},
   "source": [
    "## Secant Method\n",
    "\n",
    "In this section, we will look at the secant method, which is another method for identifying the roots of non-linear equations. Before we get into a description of how this method works, here's a quick graphic, again from [Wikipedia](https://upload.wikimedia.org/wikipedia/commons/9/92/Secant_method.svg), on how the secant method works. \n",
    "\n",
    "<img src=\"https://upload.wikimedia.org/wikipedia/commons/9/92/Secant_method.svg\">\n",
    "\n",
    "As the name implies, the secant function works by drawing secant lines that cross the function at each iteration. Then, much like the Newton-Raphson method, we find the $x$-intercept of that secant line, find a new point on the graph whose $x$-coordinate corresponds to that intercept, and use the point from the previous iteration to find a new secant line. This process is very intuitively outlined in [this video by numericalmethodsguy](https://www.youtube.com/watch?v=UhW67ziXLhg)."
   ]
  },
  {
   "cell_type": "markdown",
   "metadata": {},
   "source": [
    "### Derivation\n",
    "\n",
    "The update rule for the secant method can be expressed as \n",
    "\n",
    "$$\n",
    "x_{i + 1} = x_i - \\frac{f(x_i)(x_i - x_{i - 1})}{f(x_i) - f(x_{i - 1})} \\tag{7}\n",
    "$$"
   ]
  },
  {
   "cell_type": "markdown",
   "metadata": {},
   "source": [
    "We can derive (7) simply by slightly modifying the update rule we saw for Newton-Raphson. Recall that the Newton-Raphson update rule was written as \n",
    "\n",
    "$$\n",
    "x_{i + 1} = x_i - \\frac{f(x_i)}{f'(x_i)} \\tag{4}\n",
    "$$"
   ]
  },
  {
   "cell_type": "markdown",
   "metadata": {},
   "source": [
    "The only modification we need to make to this update rule is to replace $f'(x_i)$ with an approximation using the backward divided difference formula. \n",
    "\n",
    "$$\n",
    "f'(x) = \\lim_{h \\to 0} \\frac{f(x) - f(x - h)}{h} \\tag{2}\n",
    "$$"
   ]
  },
  {
   "cell_type": "markdown",
   "metadata": {},
   "source": [
    "Here, we make a slight modification to (2), specifically by using values from previous iterations.\n",
    "\n",
    "$$\n",
    "f'(x_i) = \\frac{f(x_i) - f(x_{i - 1})}{x_i - x_{i - 1}} \\tag{8}\n",
    "$$"
   ]
  },
  {
   "cell_type": "markdown",
   "metadata": {},
   "source": [
    "If we plug (8) back into (4), with some algebraic simplifications, we land on (7), the update rule for the secant method. This is left as an exercise for the reader."
   ]
  },
  {
   "cell_type": "markdown",
   "metadata": {},
   "source": [
    "### Python Implementation\n",
    "\n",
    "Now let's take a look at how we might be able to implement this numerical method in code. Presented below is the `secant()` method, which follows the same general structure as the `newton_raphson()` function we looked at earlier. The only part that differs is the part where we use backward divided difference, which requires that we look up not only the immediately previous root approximation, but the value prior to that as well. In other words, we need both $x_i$ and $x_{i - 1}$ to calculate $x_{i + 1}$ via an iterative update."
   ]
  },
  {
   "cell_type": "code",
   "execution_count": 57,
   "metadata": {},
   "outputs": [],
   "source": [
    "def secant(\n",
    "    f, x, epsilon=1e-5, init_step=0.5, return_history=False, max_iter=100\n",
    "):\n",
    "    if init_step < epsilon:\n",
    "        raise ValueError(\"`init_step` cannot be smaller than `epsilon`.\")\n",
    "    history = [x + init_step, x]\n",
    "    for _ in range(max_iter):\n",
    "        x_prev, x = history[-2], history[-1]\n",
    "        x_next = x - f(x) / backward_divided_difference(f, x, x_prev)\n",
    "        history.append(x_next)\n",
    "        if abs(x_next - x) < epsilon:\n",
    "            return history if return_history else history[-1]\n",
    "    raise RuntimeError(\"Exceeded `max_iter`.\")"
   ]
  },
  {
   "cell_type": "markdown",
   "metadata": {},
   "source": [
    "And here is an obligatory sanity check using our previous example. "
   ]
  },
  {
   "cell_type": "code",
   "execution_count": 58,
   "metadata": {},
   "outputs": [
    {
     "data": {
      "text/plain": [
       "2.714417616613744"
      ]
     },
     "execution_count": 58,
     "metadata": {},
     "output_type": "execute_result"
    }
   ],
   "source": [
    "root_secant = secant(f, 3)\n",
    "root_secant"
   ]
  },
  {
   "cell_type": "markdown",
   "metadata": {},
   "source": [
    "2.7 is a familar value, and indeed it is what was returned by the Newton-Raphson method as well. We confirm that this is indeed the root of the equation."
   ]
  },
  {
   "cell_type": "code",
   "execution_count": 59,
   "metadata": {},
   "outputs": [
    {
     "data": {
      "text/plain": [
       "20.00000000041639"
      ]
     },
     "execution_count": 59,
     "metadata": {},
     "output_type": "execute_result"
    }
   ],
   "source": [
    "root_secant ** 3"
   ]
  },
  {
   "cell_type": "markdown",
   "metadata": {},
   "source": [
    "## Comparison\n",
    "\n",
    "Now that we have looked at both methods, it's time to make a quick comparison. We will be comparing three different methods:\n",
    "\n",
    "* Newton-Raphson method with direct polynomial derivatives\n",
    "* Newton-Raphson method with center divided difference\n",
    "* Secand method with backward divided difference\n",
    "\n",
    "By setting `return_history` to be `True`, we can obtain a full list of root updates as the three methods begin their quest for the root of the function. We can then see which method converges the quickest. Let's see how this little experiment turns out.\n",
    "\n",
    "We first begin by importing some dependencies to plot the history of values. "
   ]
  },
  {
   "cell_type": "code",
   "execution_count": 86,
   "metadata": {},
   "outputs": [],
   "source": [
    "import matplotlib.pyplot as plt\n",
    "%matplotlib inline\n",
    "%config InlineBackend.figure_format = 'svg'\n",
    "plt.style.use(\"seaborn\")"
   ]
  },
  {
   "cell_type": "markdown",
   "metadata": {},
   "source": [
    "Then, we obtain the history for each of the three approaches and plot them as a scatter plot. The result is shown below."
   ]
  },
  {
   "cell_type": "code",
   "execution_count": 107,
   "metadata": {},
   "outputs": [
    {
     "data": {
      "image/svg+xml": [
       "<?xml version=\"1.0\" encoding=\"utf-8\" standalone=\"no\"?>\n",
       "<!DOCTYPE svg PUBLIC \"-//W3C//DTD SVG 1.1//EN\"\n",
       "  \"http://www.w3.org/Graphics/SVG/1.1/DTD/svg11.dtd\">\n",
       "<!-- Created with matplotlib (https://matplotlib.org/) -->\n",
       "<svg height=\"329.525312pt\" version=\"1.1\" viewBox=\"0 0 484.482812 329.525312\" width=\"484.482812pt\" xmlns=\"http://www.w3.org/2000/svg\" xmlns:xlink=\"http://www.w3.org/1999/xlink\">\n",
       " <defs>\n",
       "  <style type=\"text/css\">\n",
       "*{stroke-linecap:butt;stroke-linejoin:round;}\n",
       "  </style>\n",
       " </defs>\n",
       " <g id=\"figure_1\">\n",
       "  <g id=\"patch_1\">\n",
       "   <path d=\"M 0 329.525312 \n",
       "L 484.482812 329.525312 \n",
       "L 484.482812 0 \n",
       "L 0 0 \n",
       "z\n",
       "\" style=\"fill:#ffffff;\"/>\n",
       "  </g>\n",
       "  <g id=\"axes_1\">\n",
       "   <g id=\"patch_2\">\n",
       "    <path d=\"M 30.882812 306.18 \n",
       "L 477.282812 306.18 \n",
       "L 477.282812 7.2 \n",
       "L 30.882812 7.2 \n",
       "z\n",
       "\" style=\"fill:#eaeaf2;\"/>\n",
       "   </g>\n",
       "   <g id=\"matplotlib.axis_1\">\n",
       "    <g id=\"xtick_1\">\n",
       "     <g id=\"line2d_1\">\n",
       "      <path clip-path=\"url(#pe9be1cfd6d)\" d=\"M 51.173722 306.18 \n",
       "L 51.173722 7.2 \n",
       "\" style=\"fill:none;stroke:#ffffff;stroke-linecap:round;\"/>\n",
       "     </g>\n",
       "     <g id=\"line2d_2\"/>\n",
       "     <g id=\"text_1\">\n",
       "      <!-- 0 -->\n",
       "      <defs>\n",
       "       <path d=\"M 4.15625 35.296875 \n",
       "Q 4.15625 48 6.765625 55.734375 \n",
       "Q 9.375 63.484375 14.515625 67.671875 \n",
       "Q 19.671875 71.875 27.484375 71.875 \n",
       "Q 33.25 71.875 37.59375 69.546875 \n",
       "Q 41.9375 67.234375 44.765625 62.859375 \n",
       "Q 47.609375 58.5 49.21875 52.21875 \n",
       "Q 50.828125 45.953125 50.828125 35.296875 \n",
       "Q 50.828125 22.703125 48.234375 14.96875 \n",
       "Q 45.65625 7.234375 40.5 3 \n",
       "Q 35.359375 -1.21875 27.484375 -1.21875 \n",
       "Q 17.140625 -1.21875 11.234375 6.203125 \n",
       "Q 4.15625 15.140625 4.15625 35.296875 \n",
       "z\n",
       "M 13.1875 35.296875 \n",
       "Q 13.1875 17.671875 17.3125 11.828125 \n",
       "Q 21.4375 6 27.484375 6 \n",
       "Q 33.546875 6 37.671875 11.859375 \n",
       "Q 41.796875 17.71875 41.796875 35.296875 \n",
       "Q 41.796875 52.984375 37.671875 58.78125 \n",
       "Q 33.546875 64.59375 27.390625 64.59375 \n",
       "Q 21.34375 64.59375 17.71875 59.46875 \n",
       "Q 13.1875 52.9375 13.1875 35.296875 \n",
       "z\n",
       "\" id=\"ArialMT-48\"/>\n",
       "      </defs>\n",
       "      <g style=\"fill:#262626;\" transform=\"translate(48.393253 320.337812)scale(0.1 -0.1)\">\n",
       "       <use xlink:href=\"#ArialMT-48\"/>\n",
       "      </g>\n",
       "     </g>\n",
       "    </g>\n",
       "    <g id=\"xtick_2\">\n",
       "     <g id=\"line2d_3\">\n",
       "      <path clip-path=\"url(#pe9be1cfd6d)\" d=\"M 93.891425 306.18 \n",
       "L 93.891425 7.2 \n",
       "\" style=\"fill:none;stroke:#ffffff;stroke-linecap:round;\"/>\n",
       "     </g>\n",
       "     <g id=\"line2d_4\"/>\n",
       "     <g id=\"text_2\">\n",
       "      <!-- 2 -->\n",
       "      <defs>\n",
       "       <path d=\"M 50.34375 8.453125 \n",
       "L 50.34375 0 \n",
       "L 3.03125 0 \n",
       "Q 2.9375 3.171875 4.046875 6.109375 \n",
       "Q 5.859375 10.9375 9.828125 15.625 \n",
       "Q 13.8125 20.3125 21.34375 26.46875 \n",
       "Q 33.015625 36.03125 37.109375 41.625 \n",
       "Q 41.21875 47.21875 41.21875 52.203125 \n",
       "Q 41.21875 57.421875 37.46875 61 \n",
       "Q 33.734375 64.59375 27.734375 64.59375 \n",
       "Q 21.390625 64.59375 17.578125 60.78125 \n",
       "Q 13.765625 56.984375 13.71875 50.25 \n",
       "L 4.6875 51.171875 \n",
       "Q 5.609375 61.28125 11.65625 66.578125 \n",
       "Q 17.71875 71.875 27.9375 71.875 \n",
       "Q 38.234375 71.875 44.234375 66.15625 \n",
       "Q 50.25 60.453125 50.25 52 \n",
       "Q 50.25 47.703125 48.484375 43.546875 \n",
       "Q 46.734375 39.40625 42.65625 34.8125 \n",
       "Q 38.578125 30.21875 29.109375 22.21875 \n",
       "Q 21.1875 15.578125 18.9375 13.203125 \n",
       "Q 16.703125 10.84375 15.234375 8.453125 \n",
       "z\n",
       "\" id=\"ArialMT-50\"/>\n",
       "      </defs>\n",
       "      <g style=\"fill:#262626;\" transform=\"translate(91.110956 320.337812)scale(0.1 -0.1)\">\n",
       "       <use xlink:href=\"#ArialMT-50\"/>\n",
       "      </g>\n",
       "     </g>\n",
       "    </g>\n",
       "    <g id=\"xtick_3\">\n",
       "     <g id=\"line2d_5\">\n",
       "      <path clip-path=\"url(#pe9be1cfd6d)\" d=\"M 136.609128 306.18 \n",
       "L 136.609128 7.2 \n",
       "\" style=\"fill:none;stroke:#ffffff;stroke-linecap:round;\"/>\n",
       "     </g>\n",
       "     <g id=\"line2d_6\"/>\n",
       "     <g id=\"text_3\">\n",
       "      <!-- 4 -->\n",
       "      <defs>\n",
       "       <path d=\"M 32.328125 0 \n",
       "L 32.328125 17.140625 \n",
       "L 1.265625 17.140625 \n",
       "L 1.265625 25.203125 \n",
       "L 33.9375 71.578125 \n",
       "L 41.109375 71.578125 \n",
       "L 41.109375 25.203125 \n",
       "L 50.78125 25.203125 \n",
       "L 50.78125 17.140625 \n",
       "L 41.109375 17.140625 \n",
       "L 41.109375 0 \n",
       "z\n",
       "M 32.328125 25.203125 \n",
       "L 32.328125 57.46875 \n",
       "L 9.90625 25.203125 \n",
       "z\n",
       "\" id=\"ArialMT-52\"/>\n",
       "      </defs>\n",
       "      <g style=\"fill:#262626;\" transform=\"translate(133.82866 320.337812)scale(0.1 -0.1)\">\n",
       "       <use xlink:href=\"#ArialMT-52\"/>\n",
       "      </g>\n",
       "     </g>\n",
       "    </g>\n",
       "    <g id=\"xtick_4\">\n",
       "     <g id=\"line2d_7\">\n",
       "      <path clip-path=\"url(#pe9be1cfd6d)\" d=\"M 179.326832 306.18 \n",
       "L 179.326832 7.2 \n",
       "\" style=\"fill:none;stroke:#ffffff;stroke-linecap:round;\"/>\n",
       "     </g>\n",
       "     <g id=\"line2d_8\"/>\n",
       "     <g id=\"text_4\">\n",
       "      <!-- 6 -->\n",
       "      <defs>\n",
       "       <path d=\"M 49.75 54.046875 \n",
       "L 41.015625 53.375 \n",
       "Q 39.84375 58.546875 37.703125 60.890625 \n",
       "Q 34.125 64.65625 28.90625 64.65625 \n",
       "Q 24.703125 64.65625 21.53125 62.3125 \n",
       "Q 17.390625 59.28125 14.984375 53.46875 \n",
       "Q 12.59375 47.65625 12.5 36.921875 \n",
       "Q 15.671875 41.75 20.265625 44.09375 \n",
       "Q 24.859375 46.4375 29.890625 46.4375 \n",
       "Q 38.671875 46.4375 44.84375 39.96875 \n",
       "Q 51.03125 33.5 51.03125 23.25 \n",
       "Q 51.03125 16.5 48.125 10.71875 \n",
       "Q 45.21875 4.9375 40.140625 1.859375 \n",
       "Q 35.0625 -1.21875 28.609375 -1.21875 \n",
       "Q 17.625 -1.21875 10.6875 6.859375 \n",
       "Q 3.765625 14.9375 3.765625 33.5 \n",
       "Q 3.765625 54.25 11.421875 63.671875 \n",
       "Q 18.109375 71.875 29.4375 71.875 \n",
       "Q 37.890625 71.875 43.28125 67.140625 \n",
       "Q 48.6875 62.40625 49.75 54.046875 \n",
       "z\n",
       "M 13.875 23.1875 \n",
       "Q 13.875 18.65625 15.796875 14.5 \n",
       "Q 17.71875 10.359375 21.1875 8.171875 \n",
       "Q 24.65625 6 28.46875 6 \n",
       "Q 34.03125 6 38.03125 10.484375 \n",
       "Q 42.046875 14.984375 42.046875 22.703125 \n",
       "Q 42.046875 30.125 38.078125 34.390625 \n",
       "Q 34.125 38.671875 28.125 38.671875 \n",
       "Q 22.171875 38.671875 18.015625 34.390625 \n",
       "Q 13.875 30.125 13.875 23.1875 \n",
       "z\n",
       "\" id=\"ArialMT-54\"/>\n",
       "      </defs>\n",
       "      <g style=\"fill:#262626;\" transform=\"translate(176.546363 320.337812)scale(0.1 -0.1)\">\n",
       "       <use xlink:href=\"#ArialMT-54\"/>\n",
       "      </g>\n",
       "     </g>\n",
       "    </g>\n",
       "    <g id=\"xtick_5\">\n",
       "     <g id=\"line2d_9\">\n",
       "      <path clip-path=\"url(#pe9be1cfd6d)\" d=\"M 222.044535 306.18 \n",
       "L 222.044535 7.2 \n",
       "\" style=\"fill:none;stroke:#ffffff;stroke-linecap:round;\"/>\n",
       "     </g>\n",
       "     <g id=\"line2d_10\"/>\n",
       "     <g id=\"text_5\">\n",
       "      <!-- 8 -->\n",
       "      <defs>\n",
       "       <path d=\"M 17.671875 38.8125 \n",
       "Q 12.203125 40.828125 9.5625 44.53125 \n",
       "Q 6.9375 48.25 6.9375 53.421875 \n",
       "Q 6.9375 61.234375 12.546875 66.546875 \n",
       "Q 18.171875 71.875 27.484375 71.875 \n",
       "Q 36.859375 71.875 42.578125 66.421875 \n",
       "Q 48.296875 60.984375 48.296875 53.171875 \n",
       "Q 48.296875 48.1875 45.671875 44.5 \n",
       "Q 43.0625 40.828125 37.75 38.8125 \n",
       "Q 44.34375 36.671875 47.78125 31.875 \n",
       "Q 51.21875 27.09375 51.21875 20.453125 \n",
       "Q 51.21875 11.28125 44.71875 5.03125 \n",
       "Q 38.234375 -1.21875 27.640625 -1.21875 \n",
       "Q 17.046875 -1.21875 10.546875 5.046875 \n",
       "Q 4.046875 11.328125 4.046875 20.703125 \n",
       "Q 4.046875 27.6875 7.59375 32.390625 \n",
       "Q 11.140625 37.109375 17.671875 38.8125 \n",
       "z\n",
       "M 15.921875 53.71875 \n",
       "Q 15.921875 48.640625 19.1875 45.40625 \n",
       "Q 22.46875 42.1875 27.6875 42.1875 \n",
       "Q 32.765625 42.1875 36.015625 45.375 \n",
       "Q 39.265625 48.578125 39.265625 53.21875 \n",
       "Q 39.265625 58.0625 35.90625 61.359375 \n",
       "Q 32.5625 64.65625 27.59375 64.65625 \n",
       "Q 22.5625 64.65625 19.234375 61.421875 \n",
       "Q 15.921875 58.203125 15.921875 53.71875 \n",
       "z\n",
       "M 13.09375 20.65625 \n",
       "Q 13.09375 16.890625 14.875 13.375 \n",
       "Q 16.65625 9.859375 20.171875 7.921875 \n",
       "Q 23.6875 6 27.734375 6 \n",
       "Q 34.03125 6 38.125 10.046875 \n",
       "Q 42.234375 14.109375 42.234375 20.359375 \n",
       "Q 42.234375 26.703125 38.015625 30.859375 \n",
       "Q 33.796875 35.015625 27.4375 35.015625 \n",
       "Q 21.234375 35.015625 17.15625 30.90625 \n",
       "Q 13.09375 26.8125 13.09375 20.65625 \n",
       "z\n",
       "\" id=\"ArialMT-56\"/>\n",
       "      </defs>\n",
       "      <g style=\"fill:#262626;\" transform=\"translate(219.264066 320.337812)scale(0.1 -0.1)\">\n",
       "       <use xlink:href=\"#ArialMT-56\"/>\n",
       "      </g>\n",
       "     </g>\n",
       "    </g>\n",
       "    <g id=\"xtick_6\">\n",
       "     <g id=\"line2d_11\">\n",
       "      <path clip-path=\"url(#pe9be1cfd6d)\" d=\"M 264.762238 306.18 \n",
       "L 264.762238 7.2 \n",
       "\" style=\"fill:none;stroke:#ffffff;stroke-linecap:round;\"/>\n",
       "     </g>\n",
       "     <g id=\"line2d_12\"/>\n",
       "     <g id=\"text_6\">\n",
       "      <!-- 10 -->\n",
       "      <defs>\n",
       "       <path d=\"M 37.25 0 \n",
       "L 28.46875 0 \n",
       "L 28.46875 56 \n",
       "Q 25.296875 52.984375 20.140625 49.953125 \n",
       "Q 14.984375 46.921875 10.890625 45.40625 \n",
       "L 10.890625 53.90625 \n",
       "Q 18.265625 57.375 23.78125 62.296875 \n",
       "Q 29.296875 67.234375 31.59375 71.875 \n",
       "L 37.25 71.875 \n",
       "z\n",
       "\" id=\"ArialMT-49\"/>\n",
       "      </defs>\n",
       "      <g style=\"fill:#262626;\" transform=\"translate(259.201301 320.337812)scale(0.1 -0.1)\">\n",
       "       <use xlink:href=\"#ArialMT-49\"/>\n",
       "       <use x=\"55.615234\" xlink:href=\"#ArialMT-48\"/>\n",
       "      </g>\n",
       "     </g>\n",
       "    </g>\n",
       "    <g id=\"xtick_7\">\n",
       "     <g id=\"line2d_13\">\n",
       "      <path clip-path=\"url(#pe9be1cfd6d)\" d=\"M 307.479942 306.18 \n",
       "L 307.479942 7.2 \n",
       "\" style=\"fill:none;stroke:#ffffff;stroke-linecap:round;\"/>\n",
       "     </g>\n",
       "     <g id=\"line2d_14\"/>\n",
       "     <g id=\"text_7\">\n",
       "      <!-- 12 -->\n",
       "      <g style=\"fill:#262626;\" transform=\"translate(301.919004 320.337812)scale(0.1 -0.1)\">\n",
       "       <use xlink:href=\"#ArialMT-49\"/>\n",
       "       <use x=\"55.615234\" xlink:href=\"#ArialMT-50\"/>\n",
       "      </g>\n",
       "     </g>\n",
       "    </g>\n",
       "    <g id=\"xtick_8\">\n",
       "     <g id=\"line2d_15\">\n",
       "      <path clip-path=\"url(#pe9be1cfd6d)\" d=\"M 350.197645 306.18 \n",
       "L 350.197645 7.2 \n",
       "\" style=\"fill:none;stroke:#ffffff;stroke-linecap:round;\"/>\n",
       "     </g>\n",
       "     <g id=\"line2d_16\"/>\n",
       "     <g id=\"text_8\">\n",
       "      <!-- 14 -->\n",
       "      <g style=\"fill:#262626;\" transform=\"translate(344.636708 320.337812)scale(0.1 -0.1)\">\n",
       "       <use xlink:href=\"#ArialMT-49\"/>\n",
       "       <use x=\"55.615234\" xlink:href=\"#ArialMT-52\"/>\n",
       "      </g>\n",
       "     </g>\n",
       "    </g>\n",
       "    <g id=\"xtick_9\">\n",
       "     <g id=\"line2d_17\">\n",
       "      <path clip-path=\"url(#pe9be1cfd6d)\" d=\"M 392.915348 306.18 \n",
       "L 392.915348 7.2 \n",
       "\" style=\"fill:none;stroke:#ffffff;stroke-linecap:round;\"/>\n",
       "     </g>\n",
       "     <g id=\"line2d_18\"/>\n",
       "     <g id=\"text_9\">\n",
       "      <!-- 16 -->\n",
       "      <g style=\"fill:#262626;\" transform=\"translate(387.354411 320.337812)scale(0.1 -0.1)\">\n",
       "       <use xlink:href=\"#ArialMT-49\"/>\n",
       "       <use x=\"55.615234\" xlink:href=\"#ArialMT-54\"/>\n",
       "      </g>\n",
       "     </g>\n",
       "    </g>\n",
       "    <g id=\"xtick_10\">\n",
       "     <g id=\"line2d_19\">\n",
       "      <path clip-path=\"url(#pe9be1cfd6d)\" d=\"M 435.633052 306.18 \n",
       "L 435.633052 7.2 \n",
       "\" style=\"fill:none;stroke:#ffffff;stroke-linecap:round;\"/>\n",
       "     </g>\n",
       "     <g id=\"line2d_20\"/>\n",
       "     <g id=\"text_10\">\n",
       "      <!-- 18 -->\n",
       "      <g style=\"fill:#262626;\" transform=\"translate(430.072114 320.337812)scale(0.1 -0.1)\">\n",
       "       <use xlink:href=\"#ArialMT-49\"/>\n",
       "       <use x=\"55.615234\" xlink:href=\"#ArialMT-56\"/>\n",
       "      </g>\n",
       "     </g>\n",
       "    </g>\n",
       "   </g>\n",
       "   <g id=\"matplotlib.axis_2\">\n",
       "    <g id=\"ytick_1\">\n",
       "     <g id=\"line2d_21\">\n",
       "      <path clip-path=\"url(#pe9be1cfd6d)\" d=\"M 30.882812 300.134862 \n",
       "L 477.282812 300.134862 \n",
       "\" style=\"fill:none;stroke:#ffffff;stroke-linecap:round;\"/>\n",
       "     </g>\n",
       "     <g id=\"line2d_22\"/>\n",
       "     <g id=\"text_11\">\n",
       "      <!-- 0 -->\n",
       "      <g style=\"fill:#262626;\" transform=\"translate(18.321875 303.713768)scale(0.1 -0.1)\">\n",
       "       <use xlink:href=\"#ArialMT-48\"/>\n",
       "      </g>\n",
       "     </g>\n",
       "    </g>\n",
       "    <g id=\"ytick_2\">\n",
       "     <g id=\"line2d_23\">\n",
       "      <path clip-path=\"url(#pe9be1cfd6d)\" d=\"M 30.882812 244.543845 \n",
       "L 477.282812 244.543845 \n",
       "\" style=\"fill:none;stroke:#ffffff;stroke-linecap:round;\"/>\n",
       "     </g>\n",
       "     <g id=\"line2d_24\"/>\n",
       "     <g id=\"text_12\">\n",
       "      <!-- 20 -->\n",
       "      <g style=\"fill:#262626;\" transform=\"translate(12.760937 248.122751)scale(0.1 -0.1)\">\n",
       "       <use xlink:href=\"#ArialMT-50\"/>\n",
       "       <use x=\"55.615234\" xlink:href=\"#ArialMT-48\"/>\n",
       "      </g>\n",
       "     </g>\n",
       "    </g>\n",
       "    <g id=\"ytick_3\">\n",
       "     <g id=\"line2d_25\">\n",
       "      <path clip-path=\"url(#pe9be1cfd6d)\" d=\"M 30.882812 188.952827 \n",
       "L 477.282812 188.952827 \n",
       "\" style=\"fill:none;stroke:#ffffff;stroke-linecap:round;\"/>\n",
       "     </g>\n",
       "     <g id=\"line2d_26\"/>\n",
       "     <g id=\"text_13\">\n",
       "      <!-- 40 -->\n",
       "      <g style=\"fill:#262626;\" transform=\"translate(12.760937 192.531734)scale(0.1 -0.1)\">\n",
       "       <use xlink:href=\"#ArialMT-52\"/>\n",
       "       <use x=\"55.615234\" xlink:href=\"#ArialMT-48\"/>\n",
       "      </g>\n",
       "     </g>\n",
       "    </g>\n",
       "    <g id=\"ytick_4\">\n",
       "     <g id=\"line2d_27\">\n",
       "      <path clip-path=\"url(#pe9be1cfd6d)\" d=\"M 30.882812 133.36181 \n",
       "L 477.282812 133.36181 \n",
       "\" style=\"fill:none;stroke:#ffffff;stroke-linecap:round;\"/>\n",
       "     </g>\n",
       "     <g id=\"line2d_28\"/>\n",
       "     <g id=\"text_14\">\n",
       "      <!-- 60 -->\n",
       "      <g style=\"fill:#262626;\" transform=\"translate(12.760937 136.940716)scale(0.1 -0.1)\">\n",
       "       <use xlink:href=\"#ArialMT-54\"/>\n",
       "       <use x=\"55.615234\" xlink:href=\"#ArialMT-48\"/>\n",
       "      </g>\n",
       "     </g>\n",
       "    </g>\n",
       "    <g id=\"ytick_5\">\n",
       "     <g id=\"line2d_29\">\n",
       "      <path clip-path=\"url(#pe9be1cfd6d)\" d=\"M 30.882812 77.770793 \n",
       "L 477.282812 77.770793 \n",
       "\" style=\"fill:none;stroke:#ffffff;stroke-linecap:round;\"/>\n",
       "     </g>\n",
       "     <g id=\"line2d_30\"/>\n",
       "     <g id=\"text_15\">\n",
       "      <!-- 80 -->\n",
       "      <g style=\"fill:#262626;\" transform=\"translate(12.760937 81.349699)scale(0.1 -0.1)\">\n",
       "       <use xlink:href=\"#ArialMT-56\"/>\n",
       "       <use x=\"55.615234\" xlink:href=\"#ArialMT-48\"/>\n",
       "      </g>\n",
       "     </g>\n",
       "    </g>\n",
       "    <g id=\"ytick_6\">\n",
       "     <g id=\"line2d_31\">\n",
       "      <path clip-path=\"url(#pe9be1cfd6d)\" d=\"M 30.882812 22.179775 \n",
       "L 477.282812 22.179775 \n",
       "\" style=\"fill:none;stroke:#ffffff;stroke-linecap:round;\"/>\n",
       "     </g>\n",
       "     <g id=\"line2d_32\"/>\n",
       "     <g id=\"text_16\">\n",
       "      <!-- 100 -->\n",
       "      <g style=\"fill:#262626;\" transform=\"translate(7.2 25.758682)scale(0.1 -0.1)\">\n",
       "       <use xlink:href=\"#ArialMT-49\"/>\n",
       "       <use x=\"55.615234\" xlink:href=\"#ArialMT-48\"/>\n",
       "       <use x=\"111.230469\" xlink:href=\"#ArialMT-48\"/>\n",
       "      </g>\n",
       "     </g>\n",
       "    </g>\n",
       "   </g>\n",
       "   <g id=\"line2d_33\">\n",
       "    <path clip-path=\"url(#pe9be1cfd6d)\" d=\"M 51.173722 22.179775 \n",
       "L 72.532573 114.829618 \n",
       "L 93.891425 176.593863 \n",
       "L 115.250277 217.764816 \n",
       "L 136.609128 245.200397 \n",
       "L 157.96798 263.464446 \n",
       "L 179.326832 275.581454 \n",
       "L 200.685683 283.528453 \n",
       "L 222.044535 288.544787 \n",
       "L 243.403387 291.342383 \n",
       "L 264.762238 292.421342 \n",
       "L 286.12109 292.586339 \n",
       "L 307.479942 292.589998 \n",
       "L 328.838793 292.59 \n",
       "\" style=\"fill:none;stroke:#4c72b0;stroke-linecap:round;stroke-width:1.75;\"/>\n",
       "    <defs>\n",
       "     <path d=\"M 0 3.5 \n",
       "C 0.928211 3.5 1.81853 3.131218 2.474874 2.474874 \n",
       "C 3.131218 1.81853 3.5 0.928211 3.5 0 \n",
       "C 3.5 -0.928211 3.131218 -1.81853 2.474874 -2.474874 \n",
       "C 1.81853 -3.131218 0.928211 -3.5 0 -3.5 \n",
       "C -0.928211 -3.5 -1.81853 -3.131218 -2.474874 -2.474874 \n",
       "C -3.131218 -1.81853 -3.5 -0.928211 -3.5 0 \n",
       "C -3.5 0.928211 -3.131218 1.81853 -2.474874 2.474874 \n",
       "C -1.81853 3.131218 -0.928211 3.5 0 3.5 \n",
       "z\n",
       "\" id=\"mf2540c75e7\"/>\n",
       "    </defs>\n",
       "    <g clip-path=\"url(#pe9be1cfd6d)\">\n",
       "     <use style=\"fill:#4c72b0;\" x=\"51.173722\" xlink:href=\"#mf2540c75e7\" y=\"22.179775\"/>\n",
       "     <use style=\"fill:#4c72b0;\" x=\"72.532573\" xlink:href=\"#mf2540c75e7\" y=\"114.829618\"/>\n",
       "     <use style=\"fill:#4c72b0;\" x=\"93.891425\" xlink:href=\"#mf2540c75e7\" y=\"176.593863\"/>\n",
       "     <use style=\"fill:#4c72b0;\" x=\"115.250277\" xlink:href=\"#mf2540c75e7\" y=\"217.764816\"/>\n",
       "     <use style=\"fill:#4c72b0;\" x=\"136.609128\" xlink:href=\"#mf2540c75e7\" y=\"245.200397\"/>\n",
       "     <use style=\"fill:#4c72b0;\" x=\"157.96798\" xlink:href=\"#mf2540c75e7\" y=\"263.464446\"/>\n",
       "     <use style=\"fill:#4c72b0;\" x=\"179.326832\" xlink:href=\"#mf2540c75e7\" y=\"275.581454\"/>\n",
       "     <use style=\"fill:#4c72b0;\" x=\"200.685683\" xlink:href=\"#mf2540c75e7\" y=\"283.528453\"/>\n",
       "     <use style=\"fill:#4c72b0;\" x=\"222.044535\" xlink:href=\"#mf2540c75e7\" y=\"288.544787\"/>\n",
       "     <use style=\"fill:#4c72b0;\" x=\"243.403387\" xlink:href=\"#mf2540c75e7\" y=\"291.342383\"/>\n",
       "     <use style=\"fill:#4c72b0;\" x=\"264.762238\" xlink:href=\"#mf2540c75e7\" y=\"292.421342\"/>\n",
       "     <use style=\"fill:#4c72b0;\" x=\"286.12109\" xlink:href=\"#mf2540c75e7\" y=\"292.586339\"/>\n",
       "     <use style=\"fill:#4c72b0;\" x=\"307.479942\" xlink:href=\"#mf2540c75e7\" y=\"292.589998\"/>\n",
       "     <use style=\"fill:#4c72b0;\" x=\"328.838793\" xlink:href=\"#mf2540c75e7\" y=\"292.59\"/>\n",
       "    </g>\n",
       "   </g>\n",
       "   <g id=\"line2d_34\">\n",
       "    <path clip-path=\"url(#pe9be1cfd6d)\" d=\"M 51.173722 22.179775 \n",
       "L 72.532573 114.829618 \n",
       "L 93.891425 176.593863 \n",
       "L 115.250277 217.764816 \n",
       "L 136.609128 245.200397 \n",
       "L 157.96798 263.464446 \n",
       "L 179.326832 275.581454 \n",
       "L 200.685683 283.528453 \n",
       "L 222.044535 288.544787 \n",
       "L 243.403387 291.342383 \n",
       "L 264.762238 292.421342 \n",
       "L 286.12109 292.586339 \n",
       "L 307.479942 292.589998 \n",
       "L 328.838793 292.59 \n",
       "\" style=\"fill:none;stroke:#55a868;stroke-linecap:round;stroke-width:1.75;\"/>\n",
       "    <defs>\n",
       "     <path d=\"M -1.75 3.5 \n",
       "L 0 1.75 \n",
       "L 1.75 3.5 \n",
       "L 3.5 1.75 \n",
       "L 1.75 0 \n",
       "L 3.5 -1.75 \n",
       "L 1.75 -3.5 \n",
       "L 0 -1.75 \n",
       "L -1.75 -3.5 \n",
       "L -3.5 -1.75 \n",
       "L -1.75 0 \n",
       "L -3.5 1.75 \n",
       "z\n",
       "\" id=\"mc6294f9c40\"/>\n",
       "    </defs>\n",
       "    <g clip-path=\"url(#pe9be1cfd6d)\">\n",
       "     <use style=\"fill:#55a868;\" x=\"51.173722\" xlink:href=\"#mc6294f9c40\" y=\"22.179775\"/>\n",
       "     <use style=\"fill:#55a868;\" x=\"72.532573\" xlink:href=\"#mc6294f9c40\" y=\"114.829618\"/>\n",
       "     <use style=\"fill:#55a868;\" x=\"93.891425\" xlink:href=\"#mc6294f9c40\" y=\"176.593863\"/>\n",
       "     <use style=\"fill:#55a868;\" x=\"115.250277\" xlink:href=\"#mc6294f9c40\" y=\"217.764816\"/>\n",
       "     <use style=\"fill:#55a868;\" x=\"136.609128\" xlink:href=\"#mc6294f9c40\" y=\"245.200397\"/>\n",
       "     <use style=\"fill:#55a868;\" x=\"157.96798\" xlink:href=\"#mc6294f9c40\" y=\"263.464446\"/>\n",
       "     <use style=\"fill:#55a868;\" x=\"179.326832\" xlink:href=\"#mc6294f9c40\" y=\"275.581454\"/>\n",
       "     <use style=\"fill:#55a868;\" x=\"200.685683\" xlink:href=\"#mc6294f9c40\" y=\"283.528453\"/>\n",
       "     <use style=\"fill:#55a868;\" x=\"222.044535\" xlink:href=\"#mc6294f9c40\" y=\"288.544787\"/>\n",
       "     <use style=\"fill:#55a868;\" x=\"243.403387\" xlink:href=\"#mc6294f9c40\" y=\"291.342383\"/>\n",
       "     <use style=\"fill:#55a868;\" x=\"264.762238\" xlink:href=\"#mc6294f9c40\" y=\"292.421342\"/>\n",
       "     <use style=\"fill:#55a868;\" x=\"286.12109\" xlink:href=\"#mc6294f9c40\" y=\"292.586339\"/>\n",
       "     <use style=\"fill:#55a868;\" x=\"307.479942\" xlink:href=\"#mc6294f9c40\" y=\"292.589998\"/>\n",
       "     <use style=\"fill:#55a868;\" x=\"328.838793\" xlink:href=\"#mc6294f9c40\" y=\"292.59\"/>\n",
       "    </g>\n",
       "   </g>\n",
       "   <g id=\"line2d_35\">\n",
       "    <path clip-path=\"url(#pe9be1cfd6d)\" d=\"M 51.173722 20.79 \n",
       "L 72.532573 22.179775 \n",
       "L 93.891425 114.367909 \n",
       "L 115.250277 153.597661 \n",
       "L 136.609128 191.41045 \n",
       "L 157.96798 217.51034 \n",
       "L 179.326832 237.908815 \n",
       "L 200.685683 253.092552 \n",
       "L 222.044535 264.596159 \n",
       "L 243.403387 273.232054 \n",
       "L 264.762238 279.702552 \n",
       "L 286.12109 284.493165 \n",
       "L 307.479942 287.953812 \n",
       "L 328.838793 290.314971 \n",
       "L 350.197645 291.734863 \n",
       "L 371.556497 292.389083 \n",
       "L 392.915348 292.569193 \n",
       "L 414.2742 292.589457 \n",
       "L 435.633052 292.589999 \n",
       "L 456.991903 292.59 \n",
       "\" style=\"fill:none;stroke:#c44e52;stroke-linecap:round;stroke-width:1.75;\"/>\n",
       "    <defs>\n",
       "     <path d=\"M 0 3.5 \n",
       "C 0.928211 3.5 1.81853 3.131218 2.474874 2.474874 \n",
       "C 3.131218 1.81853 3.5 0.928211 3.5 0 \n",
       "C 3.5 -0.928211 3.131218 -1.81853 2.474874 -2.474874 \n",
       "C 1.81853 -3.131218 0.928211 -3.5 0 -3.5 \n",
       "C -0.928211 -3.5 -1.81853 -3.131218 -2.474874 -2.474874 \n",
       "C -3.131218 -1.81853 -3.5 -0.928211 -3.5 0 \n",
       "C -3.5 0.928211 -3.131218 1.81853 -2.474874 2.474874 \n",
       "C -1.81853 3.131218 -0.928211 3.5 0 3.5 \n",
       "z\n",
       "\" id=\"mbf9c753192\"/>\n",
       "    </defs>\n",
       "    <g clip-path=\"url(#pe9be1cfd6d)\">\n",
       "     <use style=\"fill:#c44e52;\" x=\"51.173722\" xlink:href=\"#mbf9c753192\" y=\"20.79\"/>\n",
       "     <use style=\"fill:#c44e52;\" x=\"72.532573\" xlink:href=\"#mbf9c753192\" y=\"22.179775\"/>\n",
       "     <use style=\"fill:#c44e52;\" x=\"93.891425\" xlink:href=\"#mbf9c753192\" y=\"114.367909\"/>\n",
       "     <use style=\"fill:#c44e52;\" x=\"115.250277\" xlink:href=\"#mbf9c753192\" y=\"153.597661\"/>\n",
       "     <use style=\"fill:#c44e52;\" x=\"136.609128\" xlink:href=\"#mbf9c753192\" y=\"191.41045\"/>\n",
       "     <use style=\"fill:#c44e52;\" x=\"157.96798\" xlink:href=\"#mbf9c753192\" y=\"217.51034\"/>\n",
       "     <use style=\"fill:#c44e52;\" x=\"179.326832\" xlink:href=\"#mbf9c753192\" y=\"237.908815\"/>\n",
       "     <use style=\"fill:#c44e52;\" x=\"200.685683\" xlink:href=\"#mbf9c753192\" y=\"253.092552\"/>\n",
       "     <use style=\"fill:#c44e52;\" x=\"222.044535\" xlink:href=\"#mbf9c753192\" y=\"264.596159\"/>\n",
       "     <use style=\"fill:#c44e52;\" x=\"243.403387\" xlink:href=\"#mbf9c753192\" y=\"273.232054\"/>\n",
       "     <use style=\"fill:#c44e52;\" x=\"264.762238\" xlink:href=\"#mbf9c753192\" y=\"279.702552\"/>\n",
       "     <use style=\"fill:#c44e52;\" x=\"286.12109\" xlink:href=\"#mbf9c753192\" y=\"284.493165\"/>\n",
       "     <use style=\"fill:#c44e52;\" x=\"307.479942\" xlink:href=\"#mbf9c753192\" y=\"287.953812\"/>\n",
       "     <use style=\"fill:#c44e52;\" x=\"328.838793\" xlink:href=\"#mbf9c753192\" y=\"290.314971\"/>\n",
       "     <use style=\"fill:#c44e52;\" x=\"350.197645\" xlink:href=\"#mbf9c753192\" y=\"291.734863\"/>\n",
       "     <use style=\"fill:#c44e52;\" x=\"371.556497\" xlink:href=\"#mbf9c753192\" y=\"292.389083\"/>\n",
       "     <use style=\"fill:#c44e52;\" x=\"392.915348\" xlink:href=\"#mbf9c753192\" y=\"292.569193\"/>\n",
       "     <use style=\"fill:#c44e52;\" x=\"414.2742\" xlink:href=\"#mbf9c753192\" y=\"292.589457\"/>\n",
       "     <use style=\"fill:#c44e52;\" x=\"435.633052\" xlink:href=\"#mbf9c753192\" y=\"292.589999\"/>\n",
       "     <use style=\"fill:#c44e52;\" x=\"456.991903\" xlink:href=\"#mbf9c753192\" y=\"292.59\"/>\n",
       "    </g>\n",
       "   </g>\n",
       "   <g id=\"patch_3\">\n",
       "    <path d=\"M 30.882812 306.18 \n",
       "L 30.882812 7.2 \n",
       "\" style=\"fill:none;\"/>\n",
       "   </g>\n",
       "   <g id=\"patch_4\">\n",
       "    <path d=\"M 477.282812 306.18 \n",
       "L 477.282812 7.2 \n",
       "\" style=\"fill:none;\"/>\n",
       "   </g>\n",
       "   <g id=\"patch_5\">\n",
       "    <path d=\"M 30.882812 306.18 \n",
       "L 477.282812 306.18 \n",
       "\" style=\"fill:none;\"/>\n",
       "   </g>\n",
       "   <g id=\"patch_6\">\n",
       "    <path d=\"M 30.882812 7.2 \n",
       "L 477.282812 7.2 \n",
       "\" style=\"fill:none;\"/>\n",
       "   </g>\n",
       "   <g id=\"legend_1\">\n",
       "    <g id=\"line2d_36\">\n",
       "     <path d=\"M 398.065625 19.857812 \n",
       "L 418.065625 19.857812 \n",
       "\" style=\"fill:none;stroke:#4c72b0;stroke-linecap:round;stroke-width:1.75;\"/>\n",
       "    </g>\n",
       "    <g id=\"line2d_37\">\n",
       "     <g>\n",
       "      <use style=\"fill:#4c72b0;\" x=\"408.065625\" xlink:href=\"#mf2540c75e7\" y=\"19.857812\"/>\n",
       "     </g>\n",
       "    </g>\n",
       "    <g id=\"text_17\">\n",
       "     <!-- N-R -->\n",
       "     <defs>\n",
       "      <path d=\"M 7.625 0 \n",
       "L 7.625 71.578125 \n",
       "L 17.328125 71.578125 \n",
       "L 54.9375 15.375 \n",
       "L 54.9375 71.578125 \n",
       "L 64.015625 71.578125 \n",
       "L 64.015625 0 \n",
       "L 54.296875 0 \n",
       "L 16.703125 56.25 \n",
       "L 16.703125 0 \n",
       "z\n",
       "\" id=\"ArialMT-78\"/>\n",
       "      <path d=\"M 3.171875 21.484375 \n",
       "L 3.171875 30.328125 \n",
       "L 30.171875 30.328125 \n",
       "L 30.171875 21.484375 \n",
       "z\n",
       "\" id=\"ArialMT-45\"/>\n",
       "      <path d=\"M 7.859375 0 \n",
       "L 7.859375 71.578125 \n",
       "L 39.59375 71.578125 \n",
       "Q 49.171875 71.578125 54.140625 69.640625 \n",
       "Q 59.125 67.71875 62.109375 62.828125 \n",
       "Q 65.09375 57.953125 65.09375 52.046875 \n",
       "Q 65.09375 44.4375 60.15625 39.203125 \n",
       "Q 55.21875 33.984375 44.921875 32.5625 \n",
       "Q 48.6875 30.765625 50.640625 29 \n",
       "Q 54.78125 25.203125 58.5 19.484375 \n",
       "L 70.953125 0 \n",
       "L 59.03125 0 \n",
       "L 49.5625 14.890625 \n",
       "Q 45.40625 21.34375 42.71875 24.75 \n",
       "Q 40.046875 28.171875 37.921875 29.53125 \n",
       "Q 35.796875 30.90625 33.59375 31.453125 \n",
       "Q 31.984375 31.78125 28.328125 31.78125 \n",
       "L 17.328125 31.78125 \n",
       "L 17.328125 0 \n",
       "z\n",
       "M 17.328125 39.984375 \n",
       "L 37.703125 39.984375 \n",
       "Q 44.1875 39.984375 47.84375 41.328125 \n",
       "Q 51.515625 42.671875 53.421875 45.625 \n",
       "Q 55.328125 48.578125 55.328125 52.046875 \n",
       "Q 55.328125 57.125 51.640625 60.390625 \n",
       "Q 47.953125 63.671875 39.984375 63.671875 \n",
       "L 17.328125 63.671875 \n",
       "z\n",
       "\" id=\"ArialMT-82\"/>\n",
       "     </defs>\n",
       "     <g style=\"fill:#262626;\" transform=\"translate(426.065625 23.357812)scale(0.1 -0.1)\">\n",
       "      <use xlink:href=\"#ArialMT-78\"/>\n",
       "      <use x=\"72.216797\" xlink:href=\"#ArialMT-45\"/>\n",
       "      <use x=\"105.517578\" xlink:href=\"#ArialMT-82\"/>\n",
       "     </g>\n",
       "    </g>\n",
       "    <g id=\"line2d_38\">\n",
       "     <path d=\"M 398.065625 34.003125 \n",
       "L 418.065625 34.003125 \n",
       "\" style=\"fill:none;stroke:#55a868;stroke-linecap:round;stroke-width:1.75;\"/>\n",
       "    </g>\n",
       "    <g id=\"line2d_39\">\n",
       "     <g>\n",
       "      <use style=\"fill:#55a868;\" x=\"408.065625\" xlink:href=\"#mc6294f9c40\" y=\"34.003125\"/>\n",
       "     </g>\n",
       "    </g>\n",
       "    <g id=\"text_18\">\n",
       "     <!-- N-R CDD -->\n",
       "     <defs>\n",
       "      <path id=\"ArialMT-32\"/>\n",
       "      <path d=\"M 58.796875 25.09375 \n",
       "L 68.265625 22.703125 \n",
       "Q 65.28125 11.03125 57.546875 4.90625 \n",
       "Q 49.8125 -1.21875 38.625 -1.21875 \n",
       "Q 27.046875 -1.21875 19.796875 3.484375 \n",
       "Q 12.546875 8.203125 8.765625 17.140625 \n",
       "Q 4.984375 26.078125 4.984375 36.328125 \n",
       "Q 4.984375 47.515625 9.25 55.828125 \n",
       "Q 13.53125 64.15625 21.40625 68.46875 \n",
       "Q 29.296875 72.796875 38.765625 72.796875 \n",
       "Q 49.515625 72.796875 56.828125 67.328125 \n",
       "Q 64.15625 61.859375 67.046875 51.953125 \n",
       "L 57.71875 49.75 \n",
       "Q 55.21875 57.5625 50.484375 61.125 \n",
       "Q 45.75 64.703125 38.578125 64.703125 \n",
       "Q 30.328125 64.703125 24.78125 60.734375 \n",
       "Q 19.234375 56.78125 16.984375 50.109375 \n",
       "Q 14.75 43.453125 14.75 36.375 \n",
       "Q 14.75 27.25 17.40625 20.4375 \n",
       "Q 20.0625 13.625 25.671875 10.25 \n",
       "Q 31.296875 6.890625 37.84375 6.890625 \n",
       "Q 45.796875 6.890625 51.3125 11.46875 \n",
       "Q 56.84375 16.0625 58.796875 25.09375 \n",
       "z\n",
       "\" id=\"ArialMT-67\"/>\n",
       "      <path d=\"M 7.71875 0 \n",
       "L 7.71875 71.578125 \n",
       "L 32.375 71.578125 \n",
       "Q 40.71875 71.578125 45.125 70.5625 \n",
       "Q 51.265625 69.140625 55.609375 65.4375 \n",
       "Q 61.28125 60.640625 64.078125 53.1875 \n",
       "Q 66.890625 45.75 66.890625 36.1875 \n",
       "Q 66.890625 28.03125 64.984375 21.734375 \n",
       "Q 63.09375 15.4375 60.109375 11.296875 \n",
       "Q 57.125 7.171875 53.578125 4.796875 \n",
       "Q 50.046875 2.4375 45.046875 1.21875 \n",
       "Q 40.046875 0 33.546875 0 \n",
       "z\n",
       "M 17.1875 8.453125 \n",
       "L 32.46875 8.453125 \n",
       "Q 39.546875 8.453125 43.578125 9.765625 \n",
       "Q 47.609375 11.078125 50 13.484375 \n",
       "Q 53.375 16.84375 55.25 22.53125 \n",
       "Q 57.125 28.21875 57.125 36.328125 \n",
       "Q 57.125 47.5625 53.4375 53.59375 \n",
       "Q 49.75 59.625 44.484375 61.671875 \n",
       "Q 40.671875 63.140625 32.234375 63.140625 \n",
       "L 17.1875 63.140625 \n",
       "z\n",
       "\" id=\"ArialMT-68\"/>\n",
       "     </defs>\n",
       "     <g style=\"fill:#262626;\" transform=\"translate(426.065625 37.503125)scale(0.1 -0.1)\">\n",
       "      <use xlink:href=\"#ArialMT-78\"/>\n",
       "      <use x=\"72.216797\" xlink:href=\"#ArialMT-45\"/>\n",
       "      <use x=\"105.517578\" xlink:href=\"#ArialMT-82\"/>\n",
       "      <use x=\"177.734375\" xlink:href=\"#ArialMT-32\"/>\n",
       "      <use x=\"205.517578\" xlink:href=\"#ArialMT-67\"/>\n",
       "      <use x=\"277.734375\" xlink:href=\"#ArialMT-68\"/>\n",
       "      <use x=\"349.951172\" xlink:href=\"#ArialMT-68\"/>\n",
       "     </g>\n",
       "    </g>\n",
       "    <g id=\"line2d_40\">\n",
       "     <path d=\"M 398.065625 48.148437 \n",
       "L 418.065625 48.148437 \n",
       "\" style=\"fill:none;stroke:#c44e52;stroke-linecap:round;stroke-width:1.75;\"/>\n",
       "    </g>\n",
       "    <g id=\"line2d_41\">\n",
       "     <g>\n",
       "      <use style=\"fill:#c44e52;\" x=\"408.065625\" xlink:href=\"#mbf9c753192\" y=\"48.148437\"/>\n",
       "     </g>\n",
       "    </g>\n",
       "    <g id=\"text_19\">\n",
       "     <!-- Secant -->\n",
       "     <defs>\n",
       "      <path d=\"M 4.5 23 \n",
       "L 13.421875 23.78125 \n",
       "Q 14.0625 18.40625 16.375 14.96875 \n",
       "Q 18.703125 11.53125 23.578125 9.40625 \n",
       "Q 28.46875 7.28125 34.578125 7.28125 \n",
       "Q 39.984375 7.28125 44.140625 8.890625 \n",
       "Q 48.296875 10.5 50.3125 13.296875 \n",
       "Q 52.34375 16.109375 52.34375 19.4375 \n",
       "Q 52.34375 22.796875 50.390625 25.3125 \n",
       "Q 48.4375 27.828125 43.953125 29.546875 \n",
       "Q 41.0625 30.671875 31.203125 33.03125 \n",
       "Q 21.34375 35.40625 17.390625 37.5 \n",
       "Q 12.25 40.1875 9.734375 44.15625 \n",
       "Q 7.234375 48.140625 7.234375 53.078125 \n",
       "Q 7.234375 58.5 10.296875 63.203125 \n",
       "Q 13.375 67.921875 19.28125 70.359375 \n",
       "Q 25.203125 72.796875 32.421875 72.796875 \n",
       "Q 40.375 72.796875 46.453125 70.234375 \n",
       "Q 52.546875 67.671875 55.8125 62.6875 \n",
       "Q 59.078125 57.71875 59.328125 51.421875 \n",
       "L 50.25 50.734375 \n",
       "Q 49.515625 57.515625 45.28125 60.984375 \n",
       "Q 41.0625 64.453125 32.8125 64.453125 \n",
       "Q 24.21875 64.453125 20.28125 61.296875 \n",
       "Q 16.359375 58.15625 16.359375 53.71875 \n",
       "Q 16.359375 49.859375 19.140625 47.359375 \n",
       "Q 21.875 44.875 33.421875 42.265625 \n",
       "Q 44.96875 39.65625 49.265625 37.703125 \n",
       "Q 55.515625 34.8125 58.484375 30.390625 \n",
       "Q 61.46875 25.984375 61.46875 20.21875 \n",
       "Q 61.46875 14.5 58.203125 9.4375 \n",
       "Q 54.9375 4.390625 48.796875 1.578125 \n",
       "Q 42.671875 -1.21875 35.015625 -1.21875 \n",
       "Q 25.296875 -1.21875 18.71875 1.609375 \n",
       "Q 12.15625 4.4375 8.421875 10.125 \n",
       "Q 4.6875 15.828125 4.5 23 \n",
       "z\n",
       "\" id=\"ArialMT-83\"/>\n",
       "      <path d=\"M 42.09375 16.703125 \n",
       "L 51.171875 15.578125 \n",
       "Q 49.03125 7.625 43.21875 3.21875 \n",
       "Q 37.40625 -1.171875 28.375 -1.171875 \n",
       "Q 17 -1.171875 10.328125 5.828125 \n",
       "Q 3.65625 12.84375 3.65625 25.484375 \n",
       "Q 3.65625 38.578125 10.390625 45.796875 \n",
       "Q 17.140625 53.03125 27.875 53.03125 \n",
       "Q 38.28125 53.03125 44.875 45.953125 \n",
       "Q 51.46875 38.875 51.46875 26.03125 \n",
       "Q 51.46875 25.25 51.421875 23.6875 \n",
       "L 12.75 23.6875 \n",
       "Q 13.234375 15.140625 17.578125 10.59375 \n",
       "Q 21.921875 6.0625 28.421875 6.0625 \n",
       "Q 33.25 6.0625 36.671875 8.59375 \n",
       "Q 40.09375 11.140625 42.09375 16.703125 \n",
       "z\n",
       "M 13.234375 30.90625 \n",
       "L 42.1875 30.90625 \n",
       "Q 41.609375 37.453125 38.875 40.71875 \n",
       "Q 34.671875 45.796875 27.984375 45.796875 \n",
       "Q 21.921875 45.796875 17.796875 41.75 \n",
       "Q 13.671875 37.703125 13.234375 30.90625 \n",
       "z\n",
       "\" id=\"ArialMT-101\"/>\n",
       "      <path d=\"M 40.4375 19 \n",
       "L 49.078125 17.875 \n",
       "Q 47.65625 8.9375 41.8125 3.875 \n",
       "Q 35.984375 -1.171875 27.484375 -1.171875 \n",
       "Q 16.84375 -1.171875 10.375 5.78125 \n",
       "Q 3.90625 12.75 3.90625 25.734375 \n",
       "Q 3.90625 34.125 6.6875 40.421875 \n",
       "Q 9.46875 46.734375 15.15625 49.875 \n",
       "Q 20.84375 53.03125 27.546875 53.03125 \n",
       "Q 35.984375 53.03125 41.359375 48.75 \n",
       "Q 46.734375 44.484375 48.25 36.625 \n",
       "L 39.703125 35.296875 \n",
       "Q 38.484375 40.53125 35.375 43.15625 \n",
       "Q 32.28125 45.796875 27.875 45.796875 \n",
       "Q 21.234375 45.796875 17.078125 41.03125 \n",
       "Q 12.9375 36.28125 12.9375 25.984375 \n",
       "Q 12.9375 15.53125 16.9375 10.796875 \n",
       "Q 20.953125 6.0625 27.390625 6.0625 \n",
       "Q 32.5625 6.0625 36.03125 9.234375 \n",
       "Q 39.5 12.40625 40.4375 19 \n",
       "z\n",
       "\" id=\"ArialMT-99\"/>\n",
       "      <path d=\"M 40.4375 6.390625 \n",
       "Q 35.546875 2.25 31.03125 0.53125 \n",
       "Q 26.515625 -1.171875 21.34375 -1.171875 \n",
       "Q 12.796875 -1.171875 8.203125 3 \n",
       "Q 3.609375 7.171875 3.609375 13.671875 \n",
       "Q 3.609375 17.484375 5.34375 20.625 \n",
       "Q 7.078125 23.78125 9.890625 25.6875 \n",
       "Q 12.703125 27.59375 16.21875 28.5625 \n",
       "Q 18.796875 29.25 24.03125 29.890625 \n",
       "Q 34.671875 31.15625 39.703125 32.90625 \n",
       "Q 39.75 34.71875 39.75 35.203125 \n",
       "Q 39.75 40.578125 37.25 42.78125 \n",
       "Q 33.890625 45.75 27.25 45.75 \n",
       "Q 21.046875 45.75 18.09375 43.578125 \n",
       "Q 15.140625 41.40625 13.71875 35.890625 \n",
       "L 5.125 37.0625 \n",
       "Q 6.296875 42.578125 8.984375 45.96875 \n",
       "Q 11.671875 49.359375 16.75 51.1875 \n",
       "Q 21.828125 53.03125 28.515625 53.03125 \n",
       "Q 35.15625 53.03125 39.296875 51.46875 \n",
       "Q 43.453125 49.90625 45.40625 47.53125 \n",
       "Q 47.359375 45.171875 48.140625 41.546875 \n",
       "Q 48.578125 39.3125 48.578125 33.453125 \n",
       "L 48.578125 21.734375 \n",
       "Q 48.578125 9.46875 49.140625 6.21875 \n",
       "Q 49.703125 2.984375 51.375 0 \n",
       "L 42.1875 0 \n",
       "Q 40.828125 2.734375 40.4375 6.390625 \n",
       "z\n",
       "M 39.703125 26.03125 \n",
       "Q 34.90625 24.078125 25.34375 22.703125 \n",
       "Q 19.921875 21.921875 17.671875 20.9375 \n",
       "Q 15.4375 19.96875 14.203125 18.09375 \n",
       "Q 12.984375 16.21875 12.984375 13.921875 \n",
       "Q 12.984375 10.40625 15.640625 8.0625 \n",
       "Q 18.3125 5.71875 23.4375 5.71875 \n",
       "Q 28.515625 5.71875 32.46875 7.9375 \n",
       "Q 36.421875 10.15625 38.28125 14.015625 \n",
       "Q 39.703125 17 39.703125 22.796875 \n",
       "z\n",
       "\" id=\"ArialMT-97\"/>\n",
       "      <path d=\"M 6.59375 0 \n",
       "L 6.59375 51.859375 \n",
       "L 14.5 51.859375 \n",
       "L 14.5 44.484375 \n",
       "Q 20.21875 53.03125 31 53.03125 \n",
       "Q 35.6875 53.03125 39.625 51.34375 \n",
       "Q 43.5625 49.65625 45.515625 46.921875 \n",
       "Q 47.46875 44.1875 48.25 40.4375 \n",
       "Q 48.734375 37.984375 48.734375 31.890625 \n",
       "L 48.734375 0 \n",
       "L 39.9375 0 \n",
       "L 39.9375 31.546875 \n",
       "Q 39.9375 36.921875 38.90625 39.578125 \n",
       "Q 37.890625 42.234375 35.28125 43.8125 \n",
       "Q 32.671875 45.40625 29.15625 45.40625 \n",
       "Q 23.53125 45.40625 19.453125 41.84375 \n",
       "Q 15.375 38.28125 15.375 28.328125 \n",
       "L 15.375 0 \n",
       "z\n",
       "\" id=\"ArialMT-110\"/>\n",
       "      <path d=\"M 25.78125 7.859375 \n",
       "L 27.046875 0.09375 \n",
       "Q 23.34375 -0.6875 20.40625 -0.6875 \n",
       "Q 15.625 -0.6875 12.984375 0.828125 \n",
       "Q 10.359375 2.34375 9.28125 4.8125 \n",
       "Q 8.203125 7.28125 8.203125 15.1875 \n",
       "L 8.203125 45.015625 \n",
       "L 1.765625 45.015625 \n",
       "L 1.765625 51.859375 \n",
       "L 8.203125 51.859375 \n",
       "L 8.203125 64.703125 \n",
       "L 16.9375 69.96875 \n",
       "L 16.9375 51.859375 \n",
       "L 25.78125 51.859375 \n",
       "L 25.78125 45.015625 \n",
       "L 16.9375 45.015625 \n",
       "L 16.9375 14.703125 \n",
       "Q 16.9375 10.9375 17.40625 9.859375 \n",
       "Q 17.875 8.796875 18.921875 8.15625 \n",
       "Q 19.96875 7.515625 21.921875 7.515625 \n",
       "Q 23.390625 7.515625 25.78125 7.859375 \n",
       "z\n",
       "\" id=\"ArialMT-116\"/>\n",
       "     </defs>\n",
       "     <g style=\"fill:#262626;\" transform=\"translate(426.065625 51.648437)scale(0.1 -0.1)\">\n",
       "      <use xlink:href=\"#ArialMT-83\"/>\n",
       "      <use x=\"66.699219\" xlink:href=\"#ArialMT-101\"/>\n",
       "      <use x=\"122.314453\" xlink:href=\"#ArialMT-99\"/>\n",
       "      <use x=\"172.314453\" xlink:href=\"#ArialMT-97\"/>\n",
       "      <use x=\"227.929688\" xlink:href=\"#ArialMT-110\"/>\n",
       "      <use x=\"283.544922\" xlink:href=\"#ArialMT-116\"/>\n",
       "     </g>\n",
       "    </g>\n",
       "   </g>\n",
       "  </g>\n",
       " </g>\n",
       " <defs>\n",
       "  <clipPath id=\"pe9be1cfd6d\">\n",
       "   <rect height=\"298.98\" width=\"446.4\" x=\"30.882812\" y=\"7.2\"/>\n",
       "  </clipPath>\n",
       " </defs>\n",
       "</svg>\n"
      ],
      "text/plain": [
       "<Figure size 576x396 with 1 Axes>"
      ]
     },
     "metadata": {},
     "output_type": "display_data"
    }
   ],
   "source": [
    "nr_history = newton_raphson(f, f_prime, 100, return_history=True)\n",
    "nr_history_cdd = newton_raphson(f, center_divided_difference, 100, return_history=True)\n",
    "secant_history = secant(f, 100, return_history=True)\n",
    "\n",
    "plt.plot(range(len(nr_history)), nr_history, marker=\"o\", label=\"N-R\")\n",
    "plt.plot(range(len(nr_history_cdd)), nr_history_cdd, marker=\"X\", label=\"N-R CDD\")\n",
    "plt.plot(range(len(secant_history)), secant_history, marker=\"o\", label=\"Secant\")\n",
    "plt.xticks(range(0, max(len(nr_history), len(nr_history_cdd), len(secant_history)), 2))\n",
    "plt.legend()\n",
    "plt.show()"
   ]
  },
  {
   "cell_type": "markdown",
   "metadata": {},
   "source": [
    "You might have to squint your eye to see that `N-R` (Netwon-Raphson with direct derivatives) and `N-R CDD` (Newton-Raphson with center divided difference) almost coincide exactly at the same points. I was honestly somewhat surprised by the result: althought we had verified the advantage of using center divided difference over forward or backward divided difference via some simple big-O analysis with trailing error terms, I did not expect the two to coincide with such exactitude. \n",
    "\n",
    "Another interesting observation is that the secant method seems to take slightly longer than the Newton-Raphson method. This is probably due to the fact that the secant method uses backward divided difference, and also the fact that it requires two previous at each iteration instead of one. The reason why the first update seems rather ineffective is that the two initial guesses that we fed into the model was probably not such a good starting point. "
   ]
  },
  {
   "cell_type": "markdown",
   "metadata": {},
   "source": [
    "# Conclusion\n",
    "\n",
    "The topic of today's post was somewhat different from what we had previously dealt with in this blog, but it was an interestig topic for me nonetheless. I had encountered the Newton-Raphson method previously when going down my typical Wikipedia rabbit holes, but it is only today that I feel like I've finally got a grasp of the concept. I condiser this post to be a start of many more posts on numerical methods to come. \n",
    "\n",
    "I hope you've enjoyed reading this post. See you in the next one."
   ]
  }
 ],
 "metadata": {
  "kernelspec": {
   "display_name": "Basic",
   "language": "python",
   "name": "basic"
  },
  "language_info": {
   "codemirror_mode": {
    "name": "ipython",
    "version": 3
   },
   "file_extension": ".py",
   "mimetype": "text/x-python",
   "name": "python",
   "nbconvert_exporter": "python",
   "pygments_lexer": "ipython3",
   "version": "3.7.5"
  }
 },
 "nbformat": 4,
 "nbformat_minor": 4
}
