{
 "cells": [
  {
   "cell_type": "markdown",
   "metadata": {
    "colab_type": "text",
    "id": "b4mUEAsuD2t1"
   },
   "source": [
    "In today's post, we will finally start modeling the auto-tagger model that I wanted to build for more blog. As you may have noticed, every blog post is classified into a few different tags, which are essentially topic keywords that I have been manually assigning thus far. I have been getting increasingly lazier these past few weeks, which is ironically what compelled me into experimenting and studying more about the basics of NLP. As mentioned in previous posts, this is why I've been posting things like tf-idf vectorization and word embeddings. \n",
    "\n",
    "While there are so many SOTA models out there, for the purposes of this mini-project, I decided to go slow. In what may or may not become a little series of its own, I aspire to achieve the following:\n",
    "\n",
    "* Design a basic parsing algorithm to clean blog posts in markdown\n",
    "* Vectorize the cleaned string data\n",
    "* Build a target vector corresponding to each blog post\n",
    "* Construct and train a document classifier\n",
    "* Develop a pipeline to generate and display the model's predictions\n",
    "\n",
    "This is by no means a short, easy project for me. This is also the first time that I'm dealing with real data---data created by no one other than myself---so there is an interesting element of meta-ness to it that I enjoy. After all, this very post that I'm writing will also be a valuable addition to the training set for the model. \n",
    "\n",
    "With that said, let's jump right into it."
   ]
  },
  {
   "cell_type": "markdown",
   "metadata": {
    "colab_type": "text",
    "id": "FKLM1gnJMrpO"
   },
   "source": [
    "# Parsing Text Data\n",
    "\n",
    "The first challenge is cleaning the textual data we have. By cleaning, I don't mean vectorizing; instead, we need to first retrieve the data, get rid of extraneous characters, code blocks, and MathJax expressions, and so on. After all, our simple model cannot be expected to understand code blocks or LaTeX expressions, as awesome as that sounds. \n",
    "\n",
    "There were two routes I could take with parsing. The first was web scraping; the second, using directly parsing raw markdown files. I'll detail each attempts I've made in the following sections, then explain why I chose one approach over the other.\n",
    "\n",
    "## First Approach: Web Scraping\n",
    "\n",
    "Because all my published posts are available on my blog website, I could crawl the blog and extract `<p>` tags to construct my training dataset. Here are some of the steps I took while experimenting with this approach. For demonstration purposes, I decided to use a recent post on Gaussian process regression, as it contains a nice blend of both code and MathJax expressions. "
   ]
  },
  {
   "cell_type": "code",
   "execution_count": null,
   "metadata": {
    "colab": {},
    "colab_type": "code",
    "id": "LJyE5kCVHxWq"
   },
   "outputs": [],
   "source": [
    "import bs4\n",
    "import requests\n",
    "\n",
    "url = \"https://jaketae.github.io/study/gaussian-process/\"\n",
    "html = requests.get(url).text\n",
    "soup = bs4.BeautifulSoup(html, \"html.parser\")\n",
    "p_tags = soup.find_all(\"p\", class_=\"\")"
   ]
  },
  {
   "cell_type": "markdown",
   "metadata": {
    "colab_type": "text",
    "id": "_qOkwilFNwae"
   },
   "source": [
    "Now we can take a look at the first `p` tag in the web scraped list. "
   ]
  },
  {
   "cell_type": "code",
   "execution_count": null,
   "metadata": {
    "colab": {
     "base_uri": "https://localhost:8080/",
     "height": 54
    },
    "colab_type": "code",
    "id": "clQONYOdz-gD",
    "outputId": "c6135f09-dcc2-4264-d147-b41aa4502ff4"
   },
   "outputs": [
    {
     "data": {
      "text/plain": [
       "<p>In this post, we will explore the Gaussian Process in the context of regression. This is a topic I meant to study for a long time, yet was never able to due to the seemingly intimidating mathematics involved. However, after consulting some extremely well-curated resources on this topic, such as <a href=\"https://www.cs.cornell.edu/courses/cs4780/2018fa/lectures/lecturenote15.html\">Kilian’s lecture notes</a> and <a href=\"https://www.youtube.com/watch?v=MfHKW5z-OOA&amp;list=PLE6Wd9FR--EdyJ5lbFl8UuGjecvVw66F6&amp;index=9\">UBC lecture videos by Nando de Freitas</a>, I think I’m finally starting to understand what GP is. I highly recommend that you check out these resources, as they are both very beginner friendly and build up each concept from the basics. With that out of the way, let’s get started.</p>"
      ]
     },
     "execution_count": 201,
     "metadata": {
      "tags": []
     },
     "output_type": "execute_result"
    }
   ],
   "source": [
    "p_tags[0]"
   ]
  },
  {
   "cell_type": "markdown",
   "metadata": {
    "colab_type": "text",
    "id": "8Jn2_qPrN2kl"
   },
   "source": [
    "This is not a bad starting point, but obviously there is so much more work that has to be done. For one thing, we need to remove `<code>` tags that are often wrapped around `<p>` tags. We also have to remove inline LaTex expressions, which as written as `$ ... $`. Below is a function that that I wrote to clean the data with the following considerations in mind."
   ]
  },
  {
   "cell_type": "code",
   "execution_count": null,
   "metadata": {
    "colab": {},
    "colab_type": "code",
    "id": "gB-M3XHt_9oO"
   },
   "outputs": [],
   "source": [
    "def get_words(url):\n",
    "    html = requests.get(url).text\n",
    "    soup = bs4.BeautifulSoup(html, \"html.parser\")\n",
    "    ps = soup.find_all(\"p\", class_=\"\")\n",
    "    result = []\n",
    "    for tag in ps:\n",
    "        tmp = \"\"\n",
    "        flag = True\n",
    "        for code in tag.find_all(\"code\"):\n",
    "            code.extract()\n",
    "        for char in tag.text:\n",
    "            if char == \"$\":\n",
    "                flag = not flag\n",
    "                continue\n",
    "            if flag:\n",
    "                tmp += char\n",
    "        result.append(tmp)\n",
    "    return \" \".join(result)"
   ]
  },
  {
   "cell_type": "markdown",
   "metadata": {
    "colab_type": "text",
    "id": "Az4KM4qLTO6b"
   },
   "source": [
    "For demonstration purposes, let's try scraping the post on GP regression I mentioned earlier."
   ]
  },
  {
   "cell_type": "code",
   "execution_count": null,
   "metadata": {
    "colab": {
     "base_uri": "https://localhost:8080/",
     "height": 139
    },
    "colab_type": "code",
    "id": "5cjUvlpkTY1Q",
    "outputId": "3af834e1-7890-4090-ba0d-69c22af17fb3"
   },
   "outputs": [
    {
     "data": {
      "text/plain": [
       "'ution of the predicted data at a given test point. Gaussian Processes (GPs) are similar to Bayesian linear regression in that the final result is a distribution which we can sample from. The biggest point of difference between GP and Bayesian regression, however, is that GP is a fundamentally non-parametric approach, whereas the latter is a parametric one. I think this is the most fascinating part about GPs—as we will see later on, GPs do not require us to specify any function or model to fit the data. Instead, all we need to do is to identify the mean and covariance of a multivariate Gaussian that defines the posterior of the GP. All of this sounds too good be true—how can a single multivariate Gaussian distribution be enough for what could potentially be a high-dimensional, complicated regression problem? Let’s discuss some mathematical ideas that enable GP to be so powerful. Gaussians are essentially a black hole of distributions: once a Gaussian, always a Gaussian. For example, we '"
      ]
     },
     "execution_count": 22,
     "metadata": {
      "tags": []
     },
     "output_type": "execute_result"
    }
   ],
   "source": [
    "text = get_words(url)\n",
    "text[1000:2000]"
   ]
  },
  {
   "cell_type": "markdown",
   "metadata": {
    "colab_type": "text",
    "id": "YvIdB3L9Tkwe"
   },
   "source": [
    "We see that the text has indeed been parsed, which is great! So we have the basic tools to parse a post given a URL. So naturally, the next step would be to figure out all the URLs for the blog posts I have on my website. Of course, I could do this manually, but that sort of defeats the point of building an auto-tagger. \n",
    "\n",
    "So after some trial and error, here is another function I wrote that scrapes all blog post URLs on my website."
   ]
  },
  {
   "cell_type": "code",
   "execution_count": null,
   "metadata": {
    "colab": {},
    "colab_type": "code",
    "id": "vatt2ZLhPHAn"
   },
   "outputs": [],
   "source": [
    "def get_urls():\n",
    "    root = \"https://jaketae.github.io/posts/\"\n",
    "    root_html = requests.get(root).text\n",
    "    soup = bs4.BeautifulSoup(root_html, \"html.parser\")\n",
    "    divs = soup.find_all(\"div\", class_=\"list__item\")\n",
    "    return [f\"https://jaketae.github.io{tag.find('a')['href']}\" for tag in divs]"
   ]
  },
  {
   "cell_type": "markdown",
   "metadata": {
    "colab_type": "text",
    "id": "UyUR1KuCUqdg"
   },
   "source": [
    "We start from the root URL, then basically extract hrefs from the `<div>` elements that each represent a single blog post. "
   ]
  },
  {
   "cell_type": "code",
   "execution_count": null,
   "metadata": {
    "colab": {
     "base_uri": "https://localhost:8080/",
     "height": 1000
    },
    "colab_type": "code",
    "id": "uynsPBTH_0R4",
    "outputId": "95ae0b02-5f1c-4171-82cf-5b1e54c9563e"
   },
   "outputs": [
    {
     "data": {
      "text/plain": [
       "['https://jaketae.github.io/development/tinkering-docker/',\n",
       " 'https://jaketae.github.io/study/word2vec/',\n",
       " 'https://jaketae.github.io/study/complex-fibonacci/',\n",
       " 'https://jaketae.github.io/study/tf-idf/',\n",
       " 'https://jaketae.github.io/study/gaussian-process/',\n",
       " 'https://jaketae.github.io/study/genetic-algorithm/',\n",
       " 'https://jaketae.github.io/study/revisiting-basel/',\n",
       " 'https://jaketae.github.io/study/zeta-prime/',\n",
       " 'https://jaketae.github.io/study/bfs-dfs/',\n",
       " 'https://jaketae.github.io/study/numerical-methods/',\n",
       " 'https://jaketae.github.io/study/gibbs-sampling/',\n",
       " 'https://jaketae.github.io/development/sklearn-sprint/',\n",
       " 'https://jaketae.github.io/study/spark-basics/',\n",
       " 'https://jaketae.github.io/study/dissecting-lstm/',\n",
       " 'https://jaketae.github.io/study/sklearn-pipeline/',\n",
       " 'https://jaketae.github.io/study/natural-gradient/',\n",
       " 'https://jaketae.github.io/blog/workflow-cleanup/',\n",
       " 'https://jaketae.github.io/study/r-tutorial-4/',\n",
       " 'https://jaketae.github.io/study/sql-basics/',\n",
       " 'https://jaketae.github.io/study/r-tutorial-3/',\n",
       " 'https://jaketae.github.io/development/c/',\n",
       " 'https://jaketae.github.io/study/leibniz-rule/',\n",
       " 'https://jaketae.github.io/study/r-tutorial-2/',\n",
       " 'https://jaketae.github.io/study/r-tutorial-1/',\n",
       " 'https://jaketae.github.io/study/fisher/',\n",
       " 'https://jaketae.github.io/study/stieltjes/',\n",
       " 'https://jaketae.github.io/study/stirling/',\n",
       " 'https://jaketae.github.io/study/pca/',\n",
       " 'https://jaketae.github.io/study/fourier/',\n",
       " 'https://jaketae.github.io/study/gan-math/',\n",
       " 'https://jaketae.github.io/study/kl-mle/',\n",
       " 'https://jaketae.github.io/study/development/open-source/',\n",
       " 'https://jaketae.github.io/study/development/flask/',\n",
       " 'https://jaketae.github.io/study/gan/',\n",
       " 'https://jaketae.github.io/study/vae/',\n",
       " 'https://jaketae.github.io/study/autoencoder/',\n",
       " 'https://jaketae.github.io/study/auto-complete/',\n",
       " 'https://jaketae.github.io/study/rnn/',\n",
       " 'https://jaketae.github.io/study/neural-net/',\n",
       " 'https://jaketae.github.io/study/cnn/',\n",
       " 'https://jaketae.github.io/blog/typora/',\n",
       " 'https://jaketae.github.io/study/map-convex/',\n",
       " 'https://jaketae.github.io/study/exponential-family/',\n",
       " 'https://jaketae.github.io/study/bayesian-regression/',\n",
       " 'https://jaketae.github.io/study/naive-bayes/',\n",
       " 'https://jaketae.github.io/study/first-keras/',\n",
       " 'https://jaketae.github.io/study/R-tutorial/',\n",
       " 'https://jaketae.github.io/development/anaconda/',\n",
       " 'https://jaketae.github.io/study/MCMC/',\n",
       " 'https://jaketae.github.io/study/logistic-regression/',\n",
       " 'https://jaketae.github.io/study/map-mle/',\n",
       " 'https://jaketae.github.io/study/KNN/',\n",
       " 'https://jaketae.github.io/study/information-entropy/',\n",
       " 'https://jaketae.github.io/study/moment/',\n",
       " 'https://jaketae.github.io/study/gaussian-distribution/',\n",
       " 'https://jaketae.github.io/study/svd/',\n",
       " 'https://jaketae.github.io/study/linear-regression/',\n",
       " 'https://jaketae.github.io/study/monte-carlo/',\n",
       " 'https://jaketae.github.io/study/likelihood/',\n",
       " 'https://jaketae.github.io/blog/jupyter-automation/',\n",
       " 'https://jaketae.github.io/study/bayes/',\n",
       " 'https://jaketae.github.io/blog/test/',\n",
       " 'https://jaketae.github.io/study/basel-zeta/',\n",
       " 'https://jaketae.github.io/study/gamma/',\n",
       " 'https://jaketae.github.io/study/poisson/',\n",
       " 'https://jaketae.github.io/study/eulers-identity/',\n",
       " 'https://jaketae.github.io/study/markov-chain/',\n",
       " 'https://jaketae.github.io/tech/new-mbp/',\n",
       " 'https://jaketae.github.io/study/pagerank-and-markov/',\n",
       " 'https://jaketae.github.io/blog/studying-deep-learning/']"
      ]
     },
     "execution_count": 22,
     "metadata": {
      "tags": []
     },
     "output_type": "execute_result"
    }
   ],
   "source": [
    "urls = get_urls()\n",
    "urls"
   ]
  },
  {
   "cell_type": "markdown",
   "metadata": {
    "colab_type": "text",
    "id": "7JG0G0MzerF2"
   },
   "source": [
    "I knew that I had been writing somewhat consistently for the past few months, but looking at this full list made me realize how fast time has flown by. \n",
    "\n",
    "Continuing with our discussion on cleaning data, now we have all the basic tools we need to build our training data. In fact, we can simply build our raw strings training data simply by looping over all the URLs and extracting text from each:"
   ]
  },
  {
   "cell_type": "code",
   "execution_count": null,
   "metadata": {
    "colab": {},
    "colab_type": "code",
    "id": "47dtvjiKPfzK"
   },
   "outputs": [],
   "source": [
    "X_train = [get_words(url) for url in urls]"
   ]
  },
  {
   "cell_type": "markdown",
   "metadata": {
    "colab_type": "text",
    "id": "yeIrEuuvfUXc"
   },
   "source": [
    "## Second Approach: Markdown Parsing\n",
    "\n",
    "At this point, you might be wondering why I even attempted a second approach, given that these methods all work fine. \n",
    "\n",
    "The answer is that, although web scraping works okay---and we could certainly continue with this approach---but we would have to build a text parser anyway. Think about it: although we can build the training data through web scraping, to run the actual inference, we need to parse the draft, in markdown format, that has not been published yet. In other words, we have no choice but to deal with markdown files, since we have to parse and clean our draft to feed into the model. \n",
    "\n",
    "It is after this belated realization that I started building a parser. Now, the interesting part is that I tried two different approachdes going down this road as well. So really, the accurate description would be that I tried three different methods. \n",
    "\n",
    "### Brute Replace\n",
    "\n",
    "The first sub-approach was the one I first thought about, and is thus naturally the more naive method of the two. This is simply an adaptation of the algorithm used in the `get_words()` function, involving a `flag` boolean variable that would switch on and off as we loop through the words, switching whenever we see a delimiter like `\"```\"` or `\"$$\"`. Shown below are part of the code I wrote while probing down this route."
   ]
  },
  {
   "cell_type": "code",
   "execution_count": null,
   "metadata": {
    "colab": {},
    "colab_type": "code",
    "id": "7EV6Sbm7gz92"
   },
   "outputs": [],
   "source": [
    "def remove_blocks(text_list, delimiter):\n",
    "    res = []\n",
    "    flag = True\n",
    "    for text in text_list:\n",
    "        if delimiter in text:\n",
    "            flag = not flag\n",
    "            continue\n",
    "        flag and res.append(text)\n",
    "    return res\n",
    "\n",
    "\n",
    "def remove_inline(text_list, delimiter):\n",
    "    res = []\n",
    "    for i, text in enumerate(text_list):\n",
    "        (i % 2 == 0) and res.append(text)\n",
    "    return res"
   ]
  },
  {
   "cell_type": "markdown",
   "metadata": {
    "colab_type": "text",
    "id": "mrUtRhWIg1cB"
   },
   "source": [
    "This approach works, but only to a certain extent. There are so many edge cases to consider. In particular, the method seemed to break the most when it saw raw HTML image tags. All in all, my impression was that this was an imperfect, fragile implementation, and that there would be a much better way to go about this for sure. \n",
    "\n",
    "If you take a look at part of the code I was working on, it isn't difficult to see why this approach turned out to be a nightmare."
   ]
  },
  {
   "cell_type": "code",
   "execution_count": null,
   "metadata": {
    "colab": {},
    "colab_type": "code",
    "id": "QpuWvhYGh6Vc"
   },
   "outputs": [],
   "source": [
    "for delimiter in (\"$$\", \"```\"):\n",
    "        text_list = remove_blocks(text_list, delimiter)\n",
    "for delimiter in (\"$\", \"`\"):\n",
    "    text_list = \" \".join(text_list).split(delimiter)\n",
    "    text_list = remove_inline(text_list, delimiter)\n",
    "res = [\n",
    "    text.replace('\"', \"\")\n",
    "    for text in \"\".join(text_list).split(\" \")\n",
    "    if not (\"http\" in text or \"src\" in text)\n",
    "]\n",
    "return \" \".join(res)"
   ]
  },
  {
   "cell_type": "markdown",
   "metadata": {
    "colab_type": "text",
    "id": "7D7nRnQ7iCpM"
   },
   "source": [
    "And that's why I eventually ended up using regular expressions. "
   ]
  },
  {
   "cell_type": "markdown",
   "metadata": {
    "colab_type": "text",
    "id": "l2NBDyL7hc-f"
   },
   "source": [
    "### Regular Expressions\n",
    "\n",
    "Although I'm a self-proclaimed Pythonista, I must confess that regular expressions, and the `re` module in particular, were not my friends. I always favored the simple `str.replace()` method and used it whenver I could. Well, turns out that when you're dealing with patterns like \"remove square brackets from this string,\" or \"remove everything in between two dollar signs,\" there is nothing better than regular expressions. \n",
    "\n",
    "So after some research and trial and error, I was able to arrive at the following function:"
   ]
  },
  {
   "cell_type": "code",
   "execution_count": null,
   "metadata": {
    "colab": {},
    "colab_type": "code",
    "id": "wJvIs3Sdmvnb"
   },
   "outputs": [],
   "source": [
    "def clean(text):\n",
    "    regexps = (\n",
    "        r\"```.*?```\",\n",
    "        r\"\\$\\$.*?\\$\\$\",\n",
    "        r\"`.*?`\",\n",
    "        r\"\\$.*?\\$\",\n",
    "        r\"\\(.*?\\)\",\n",
    "        r\"[\\[\\]]\",\n",
    "        r\"<.*?\\>\",\n",
    "    )\n",
    "    for regexp in regexps:\n",
    "        text = re.sub(regexp, \"\", text)\n",
    "    return re.sub(r\"[\\W]\", \" \", text)"
   ]
  },
  {
   "cell_type": "markdown",
   "metadata": {
    "colab_type": "text",
    "id": "f6B20hQomxhM"
   },
   "source": [
    "There are a total of eight regular expression replacement operations we have to make. The first, which is `\"```.*?```\"`, is probably the easiest out of all. All this is saying is that we want to get rid of code block expresions, which start with three ticks. The dot represents any single letter character; `*` means that we want to match any number of these single letter characters. Lastly, the `?` makes sure that the `*` matching is not greedy. This isn't particularly a difficult concept to grasp, but for a more in-depth explanation, I strongly recommend that you go check out [Python documentation](https://docs.python.org/3/howto/regex.html). \n",
    "\n",
    "The other seven expressions are basically variations of this pattern in one form or another, where we specify some preset pattern, such as dollar signs for equations, and so on. All of this is to show that regexp is a powerful tool, a lot more so than building a custom parser with some complex logic to navigate and process given text. "
   ]
  },
  {
   "cell_type": "markdown",
   "metadata": {
    "colab_type": "text",
    "id": "7MpKih75jGkl"
   },
   "source": [
    "Now all there is left is to read in the contents of the file. The only caveat to this is the fact that each line ends with a `\\n`, and that `---\\n` is a delilmiter used to specify the header of the file in YAML format. This function performs the basic preprocessing we need to successfully read in the contents of the post."
   ]
  },
  {
   "cell_type": "code",
   "execution_count": null,
   "metadata": {
    "colab": {},
    "colab_type": "code",
    "id": "ydjKFyGD_OZ9"
   },
   "outputs": [],
   "source": [
    "def read(file_path):\n",
    "    with open(file_path) as file:\n",
    "        text_list = []\n",
    "        count = 0\n",
    "        for line in file:\n",
    "            if line == \"---\\n\" and count < 2:\n",
    "                count += 1\n",
    "                continue\n",
    "            line = line.rstrip(\"\\n\")\n",
    "            if line and line[:4].strip() and count > 1:\n",
    "                text_list.append(line.lower())\n",
    "    return \" \".join(text_list)"
   ]
  },
  {
   "cell_type": "markdown",
   "metadata": {
    "colab_type": "text",
    "id": "t9ZRUDpWAH5C"
   },
   "source": [
    "Last but not least, we can combine the two functions to produce a basic parsing function that reads as input the file location and outputs a fully preprocessed text."
   ]
  },
  {
   "cell_type": "code",
   "execution_count": null,
   "metadata": {
    "colab": {},
    "colab_type": "code",
    "id": "jXc9HLurAEpL"
   },
   "outputs": [],
   "source": [
    "def parse(file_path):\n",
    "    text = read(file_path)\n",
    "    return \" \".join(clean(text).split())"
   ]
  },
  {
   "cell_type": "markdown",
   "metadata": {
    "colab_type": "text",
    "id": "IFs7Ks9sAg4v"
   },
   "source": [
    "Here is an example output I was able to obtain by running the script on the directory where all my blog posts are located, namely `_posts`. The example here was taken from my earlier post on the Fibonacci sequence and Binet's formula.\n",
    "\n",
    "```\n",
    "[...] binet s formula gives us what we might refer to as the interpolation of the fibonacci sequence in this case extended along the real number line plotting the fibonacci sequence a corollary of the real number interpolation of the fibonacci sequence via binet s formula is that now we can effectively plot the complex fibonacci numbers on the cartesian plane because can be continuous we would expect some graph to appear where the axis represents real numbers and the imaginary this requires a bit of a hack though note that the result of binet s formula is a complex number or a two dimensional data point the input to the function is just a one dimensional real number therefore we need a way of representing a map from a one dimensional real number line to a two dimensional complex plane [...]\n",
    "```"
   ]
  },
  {
   "cell_type": "markdown",
   "metadata": {
    "colab_type": "text",
    "id": "m2EPE-_lBMXA"
   },
   "source": [
    "As you can see, we have successfully removed all MathJax and punctuations. The end product looks perfect for a bag-of-words model, or a model that is syntax or sequence agonistic. For the purposes of this post, our model will not be paying attention to the order in which the words appear in the text. Although one might rightly point out that this is a simplistic approach, nonetheless it works well for simple tasks such as keyword extraction or document classification; after all, if you think about it, words that apepar on a Football magazine will probably be very different from those that appear on culinary magazines, without considering the order in which the words show up into account. \n",
    "\n",
    "The bottom line of this long section of text preprocessing---and finding the optimal avenue of retrieving data---is that, after some trial and error, I decided to use markdown parsing instead of web scraping to prepare the training data, as it made the most sense and provided reliable results. \n",
    "\n",
    "But this is only the first of many steps to come. In particular, we have to address the question: given text data, how to we vectorize it into some numerical form that our model can digest? This is where various NLP techniques, such as tokenization and stemming come into play."
   ]
  },
  {
   "cell_type": "markdown",
   "metadata": {
    "colab_type": "text",
    "id": "JlZHpS65CV40"
   },
   "source": [
    "# Tokenizing Text Data\n",
    "\n",
    "Tokenization refers to a process through which words are reduced and encoded into some representation of preference. In a braod sense, this is at the heart of data preparation and preprocessing. \n",
    "\n",
    "There are many tools out there that we can use for tokenization. I decided to use `nltk`, as it provides an easy way to deal with tokenization as well as stop word removal. Stop words simply refer to words such as \"a\" or \"the\"---those that appear quite often without carrying much meaning (yes, some linguists might say otherwise but from a general layman's perspective, they carry less substantive mass).\n",
    "\n",
    "First, let's import the library to get started."
   ]
  },
  {
   "cell_type": "code",
   "execution_count": null,
   "metadata": {
    "colab": {
     "base_uri": "https://localhost:8080/",
     "height": 136
    },
    "colab_type": "code",
    "id": "i-sdV-T517sA",
    "outputId": "1bb68a8d-bc5b-459d-efbb-680f63e9c9e7"
   },
   "outputs": [
    {
     "name": "stdout",
     "output_type": "stream",
     "text": [
      "[nltk_data] Downloading package stopwords to /root/nltk_data...\n",
      "[nltk_data]   Unzipping corpora/stopwords.zip.\n",
      "[nltk_data] Downloading package punkt to /root/nltk_data...\n",
      "[nltk_data]   Unzipping tokenizers/punkt.zip.\n",
      "[nltk_data] Downloading package wordnet to /root/nltk_data...\n",
      "[nltk_data]   Unzipping corpora/wordnet.zip.\n"
     ]
    },
    {
     "data": {
      "text/plain": [
       "True"
      ]
     },
     "execution_count": 2,
     "metadata": {
      "tags": []
     },
     "output_type": "execute_result"
    }
   ],
   "source": [
    "import nltk\n",
    "from nltk.corpus import stopwords\n",
    "from nltk.tokenize import word_tokenize\n",
    "from nltk.stem import WordNetLemmatizer\n",
    "from nltk.stem.snowball import SnowballStemmer\n",
    "nltk.download('stopwords')\n",
    "nltk.download('punkt')\n",
    "nltk.download('wordnet')"
   ]
  },
  {
   "cell_type": "markdown",
   "metadata": {
    "colab_type": "text",
    "id": "_3JSe245rjzM"
   },
   "source": [
    "## Stemming, Lemmatization\n",
    "\n",
    "There are two popular ways of normalizing text: stemming and lemmatization. Broadly speaking, both stemming and lemmatization are ways of simplifying and cutting down words into their root form. We can go into a lot of detail into what these are, but for the purposes of this post, it suffices to see what they processes they are with a set of simple examples. "
   ]
  },
  {
   "cell_type": "code",
   "execution_count": null,
   "metadata": {
    "colab": {},
    "colab_type": "code",
    "id": "pRIwzidsaktl"
   },
   "outputs": [],
   "source": [
    "lemmatizer = WordNetLemmatizer()\n",
    "stemmer = SnowballStemmer(language=\"english\")"
   ]
  },
  {
   "cell_type": "markdown",
   "metadata": {
    "colab_type": "text",
    "id": "wHCjW50lsOqj"
   },
   "source": [
    "First, let's take a look at lemmatization. "
   ]
  },
  {
   "cell_type": "code",
   "execution_count": null,
   "metadata": {
    "colab": {
     "base_uri": "https://localhost:8080/",
     "height": 37
    },
    "colab_type": "code",
    "id": "MTyn0VO4alpQ",
    "outputId": "a76d0194-f021-4139-9df6-2a60607ee598"
   },
   "outputs": [
    {
     "data": {
      "text/plain": [
       "'resulting'"
      ]
     },
     "execution_count": 4,
     "metadata": {
      "tags": []
     },
     "output_type": "execute_result"
    }
   ],
   "source": [
    "lemmatizer.lemmatize(\"resulting\")"
   ]
  },
  {
   "cell_type": "markdown",
   "metadata": {
    "colab_type": "text",
    "id": "4Cj7JKHmsTT5"
   },
   "source": [
    "And here is the same result, but using a stemmer."
   ]
  },
  {
   "cell_type": "code",
   "execution_count": null,
   "metadata": {
    "colab": {
     "base_uri": "https://localhost:8080/",
     "height": 37
    },
    "colab_type": "code",
    "id": "ior_QaLYcGrt",
    "outputId": "056b6afb-8593-4605-e86b-aaba9fb14735"
   },
   "outputs": [
    {
     "data": {
      "text/plain": [
       "'result'"
      ]
     },
     "execution_count": 7,
     "metadata": {
      "tags": []
     },
     "output_type": "execute_result"
    }
   ],
   "source": [
    "stemmer.stem(\"resulting\")"
   ]
  },
  {
   "cell_type": "markdown",
   "metadata": {
    "colab_type": "text",
    "id": "P0mutVXKtCv8"
   },
   "source": [
    "It seems as if lemmatization did nothing to change the word, whereas stemming did apply some transformation to distill the word into its root form. Well, this is because we didn't pass into the lemmatizer any POS tag, or a tag indicating whether a word is a noun, verb, or anything else. If we specify the tag, the lemmatizer works as expected."
   ]
  },
  {
   "cell_type": "code",
   "execution_count": null,
   "metadata": {
    "colab": {
     "base_uri": "https://localhost:8080/",
     "height": 37
    },
    "colab_type": "code",
    "id": "6oQMF95MtvVf",
    "outputId": "7c0280d0-f4f8-48a7-c2d6-ad0f6e460cb9"
   },
   "outputs": [
    {
     "data": {
      "text/plain": [
       "'result'"
      ]
     },
     "execution_count": 12,
     "metadata": {
      "tags": []
     },
     "output_type": "execute_result"
    }
   ],
   "source": [
    "lemmatizer.lemmatize(\"resulting\", 'v')"
   ]
  },
  {
   "cell_type": "markdown",
   "metadata": {
    "colab_type": "text",
    "id": "cv1dgwTduelE"
   },
   "source": [
    "You might be thinking that lemmatization is obviously the more inferior of the two since it requires additional information. However, this is not quite true; in fact, lemmatization is a more advanced technique that can potentially generate better results. However, it also requires some more work due to the additional input field requirement. For the purposes of this post, therefore, we resort to the cruder of the two, stemming. In our case, stemming works quite well since the data returned by parsing `.md` files is a clean string, with all forms of punctuation removed. \n",
    "\n",
    "Another important piece to our preprocessing procedure is stop words removal. We don't want preprocessed vector outputs to be influenced by words that carry little indicative power---that is, words that have low correlation to the target values, or post tags."
   ]
  },
  {
   "cell_type": "code",
   "execution_count": null,
   "metadata": {
    "colab": {},
    "colab_type": "code",
    "id": "31t7RUbD43Sx"
   },
   "outputs": [],
   "source": [
    "stop_words = set(stopwords.words('english')) "
   ]
  },
  {
   "cell_type": "markdown",
   "metadata": {
    "colab_type": "text",
    "id": "D6lH0dktwjYt"
   },
   "source": [
    "Besides the obvious, there are number of words in this set. Here are some exmaples:"
   ]
  },
  {
   "cell_type": "code",
   "execution_count": null,
   "metadata": {
    "colab": {},
    "colab_type": "code",
    "id": "idBF4JzAJfct"
   },
   "outputs": [],
   "source": [
    "for word in (\"i\", \"the\", \"ve\"):\n",
    "    assert word in stop_words"
   ]
  },
  {
   "cell_type": "markdown",
   "metadata": {
    "colab_type": "text",
    "id": "jWrDZF8DwvZW"
   },
   "source": [
    "I was personally surprised to find out that \"ve\" was a stop word, although it makes a lot of sense in hindsight. Put differently, the `stop_words` set is more comprehensive that I had assumed.\n"
   ]
  },
  {
   "cell_type": "markdown",
   "metadata": {
    "colab_type": "text",
    "id": "QsiABmcDxSDz"
   },
   "source": [
    "## Tokenization\n",
    "\n",
    "So how do we use stemming and stop words to tokenize text? Well, the simple answer is the short code snippet below:"
   ]
  },
  {
   "cell_type": "code",
   "execution_count": null,
   "metadata": {
    "colab": {},
    "colab_type": "code",
    "id": "E5VwLlkNxY4Y"
   },
   "outputs": [],
   "source": [
    "def stem_tokenizer(text):\n",
    "    return [\n",
    "        stemmer.stem(word)\n",
    "        for word in word_tokenize(text.lower())\n",
    "        if word not in stop_words and word.isalpha()\n",
    "    ]"
   ]
  },
  {
   "cell_type": "markdown",
   "metadata": {
    "colab_type": "text",
    "id": "Hm9W0zJ-xqeR"
   },
   "source": [
    "The `stem_tokenizer` function receives as input a raw string and outputs a list of tokenized words. Here is a sample demonstration using a short text snippet on the Fibonacci sequence I used in another example above."
   ]
  },
  {
   "cell_type": "code",
   "execution_count": null,
   "metadata": {
    "colab": {
     "base_uri": "https://localhost:8080/",
     "height": 170
    },
    "colab_type": "code",
    "id": "iEWFg1zQxenc",
    "outputId": "e985cd07-772b-402f-b591-9f9b14bff9f7"
   },
   "outputs": [
    {
     "data": {
      "text/plain": [
       "['binet',\n",
       " 'formula',\n",
       " 'give',\n",
       " 'us',\n",
       " 'might',\n",
       " 'refer',\n",
       " 'interpol',\n",
       " 'fibonacci',\n",
       " 'sequenc']"
      ]
     },
     "execution_count": 22,
     "metadata": {
      "tags": []
     },
     "output_type": "execute_result"
    }
   ],
   "source": [
    "text = \"binet s formula gives us what we might refer to as the interpolation of the fibonacci sequence\"\n",
    "\n",
    "stem_tokenizer(text)"
   ]
  },
  {
   "cell_type": "markdown",
   "metadata": {
    "colab_type": "text",
    "id": "SuLmmY9ryES9"
   },
   "source": [
    "As you can see, we get a clean list of tokens. This is the form of data we want after this basic preprocessing step. Once we have cleaned data, we can then convert them into numerical form, which is where tf-idf vectors come into play."
   ]
  },
  {
   "cell_type": "markdown",
   "metadata": {
    "colab_type": "text",
    "id": "OhstPK6D1LQX"
   },
   "source": [
    "# Next Steps\n",
    "\n",
    "There is obviously a lot more to be done from here. Specifically, we will first need to convert tokenized data into tf-idf vectors. We explored tf-idf vectors in [this previous post](https://jaketae.github.io/study/tf-idf/), where we implemented the vectorization algorithm from scratch. tf-idf vectorization is a smart, efficient way of combining word count with inverse document frequency to encode text data into vector form, which can then be passed into some ML or DL models as input. \n",
    "\n",
    "Next, we will probably need to use some form of dimensionality reduction method to reduce sparsity. Alternatively, we could also simply filter out words that are too common or too rare; for instance, chop off the top and bottom 10 percent of words in the frequency spectrum. These steps are necessary because otherwise the tf-idf vectors will be extremely sparse and high-dimensional; I already tried a simple test drive of tf-idf vectorization with this data some time ago, albeit with coarser preprocessing and tokenization methods. Nonetheless, I ended up with 3000-dimensional vectors. For our purposes, there are probably advantages to dimensionality reduction. \n",
    "\n",
    "Then comes the exciting part: building our model. This is arguably the part which allows for the most degree of freedom---in the literal sense, not the statistical one, of course. As it stands, my plan is to build a simple fully connected model as a baseline and see its performance first, and experiment with other structures there. The reason why a dense neural network makes sense is that we are using a bag-of-words model---the order of words do not matter, as they all end up being jumbled up during tokenization and tf-idf vectorization. \n",
    "\n",
    "Ideally, the final step would be training the model and somehow integrating it with the current blog workflow such that, whenever I type and convert an `.ipynb` notebook to `.md` files, ready for upload, the model's predictions already appear in the converted `.md` file. This shouldn't be too difficult, but nonetheless it is an important detail that would be very cool to implement once we have a finalized model. It would be even better if we could implement some mechanism to train our model with new data per each blog post upload; after all, we don't want to use an old model trained with old data. Instead, we want to feed it with new data so that it is able to learn more. \n",
    "\n",
    "Hopefully we'll find a way to tackle these considerations as we move forward. Catch you up in the next post!"
   ]
  }
 ],
 "metadata": {
  "colab": {
   "collapsed_sections": [],
   "name": "auto-tagger",
   "provenance": []
  },
  "kernelspec": {
   "display_name": "Basic",
   "language": "python",
   "name": "basic"
  },
  "language_info": {
   "codemirror_mode": {
    "name": "ipython",
    "version": 3
   },
   "file_extension": ".py",
   "mimetype": "text/x-python",
   "name": "python",
   "nbconvert_exporter": "python",
   "pygments_lexer": "ipython3",
   "version": "3.7.5"
  }
 },
 "nbformat": 4,
 "nbformat_minor": 1
}
