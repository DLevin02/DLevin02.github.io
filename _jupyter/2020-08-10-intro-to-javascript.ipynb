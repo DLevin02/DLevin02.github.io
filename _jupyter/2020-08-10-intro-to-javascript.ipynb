{
 "cells": [
  {
   "cell_type": "markdown",
   "metadata": {},
   "source": [
    "https://javascript.info/"
   ]
  },
  {
   "cell_type": "code",
   "execution_count": 1,
   "metadata": {},
   "outputs": [],
   "source": [
    "let arr = [1, 2, 3];\n",
    "\n",
    "for(let i=0; i < arr.length; i++){\n",
    "    console.log(arr[i]);\n",
    "}"
   ]
  },
  {
   "cell_type": "code",
   "execution_count": null,
   "metadata": {},
   "outputs": [],
   "source": [
    "for(let num of arr) {\n",
    "  console.log(num);\n",
    "}"
   ]
  },
  {
   "cell_type": "code",
   "execution_count": 2,
   "metadata": {},
   "outputs": [],
   "source": [
    "let company = {\n",
    "  sales: [{\n",
    "    name: 'John',\n",
    "    salary: 1000\n",
    "  }, {\n",
    "    name: 'Alice',\n",
    "    salary: 1600\n",
    "  }],\n",
    "\n",
    "  development: {\n",
    "    sites: [{\n",
    "      name: 'Peter',\n",
    "      salary: 2000\n",
    "    }, {\n",
    "      name: 'Alex',\n",
    "      salary: 1800\n",
    "    }],\n",
    "\n",
    "    internals: [{\n",
    "      name: 'Jack',\n",
    "      salary: 1300\n",
    "    }]\n",
    "  }\n",
    "};"
   ]
  },
  {
   "cell_type": "code",
   "execution_count": null,
   "metadata": {},
   "outputs": [],
   "source": [
    "company.sales"
   ]
  },
  {
   "cell_type": "code",
   "execution_count": 3,
   "metadata": {},
   "outputs": [],
   "source": [
    "function sumSalaries(department) {\n",
    "  if (salary in department) {\n",
    "    return department.salary;\n",
    "  } else {\n",
    "    let sum = 0;\n",
    "    for (let subDept of Object.values(department)) {\n",
    "      sum += sumSalaries(subDept);\n",
    "    }\n",
    "    return sum;\n",
    "  }\n",
    "}"
   ]
  },
  {
   "cell_type": "code",
   "execution_count": 4,
   "metadata": {},
   "outputs": [
    {
     "ename": "ReferenceError",
     "evalue": "salary is not defined",
     "output_type": "error",
     "traceback": [
      "evalmachine.<anonymous>:2",
      "  if (salary in department) {",
      "  ^",
      "",
      "ReferenceError: salary is not defined",
      "    at sumSalaries (evalmachine.<anonymous>:2:3)",
      "    at evalmachine.<anonymous>:1:1",
      "    at Script.runInThisContext (vm.js:120:18)",
      "    at Object.runInThisContext (vm.js:309:38)",
      "    at run ([eval]:1054:15)",
      "    at onRunRequest ([eval]:888:18)",
      "    at onMessage ([eval]:848:13)",
      "    at process.emit (events.js:315:20)",
      "    at emit (internal/child_process.js:876:12)",
      "    at processTicksAndRejections (internal/process/task_queues.js:85:21)"
     ]
    }
   ],
   "source": [
    "sumSalaries(company)"
   ]
  },
  {
   "cell_type": "code",
   "execution_count": 5,
   "metadata": {},
   "outputs": [],
   "source": [
    "let node1 = {value: 1};\n",
    "let node2 = {value: 2};\n",
    "let node3 = {value: 3};"
   ]
  },
  {
   "cell_type": "code",
   "execution_count": 6,
   "metadata": {},
   "outputs": [
    {
     "data": {
      "text/plain": [
       "1"
      ]
     },
     "execution_count": 6,
     "metadata": {},
     "output_type": "execute_result"
    }
   ],
   "source": [
    "node1.value"
   ]
  },
  {
   "cell_type": "code",
   "execution_count": 7,
   "metadata": {},
   "outputs": [
    {
     "name": "stdout",
     "output_type": "stream",
     "text": [
      "3\n"
     ]
    }
   ],
   "source": [
    "node1.next = node2;\n",
    "node2.next = node3;\n",
    "console.log(node1.next.next.value)"
   ]
  },
  {
   "cell_type": "code",
   "execution_count": 8,
   "metadata": {},
   "outputs": [],
   "source": [
    "function isPrime(num) {\n",
    "  for (let i = 2; i < num / 2; i++) {\n",
    "    if (num % i == 0) {\n",
    "      return false;\n",
    "    }\n",
    "    return true;\n",
    "  }\n",
    "}"
   ]
  },
  {
   "cell_type": "code",
   "execution_count": 9,
   "metadata": {},
   "outputs": [
    {
     "data": {
      "text/plain": [
       "false"
      ]
     },
     "execution_count": 9,
     "metadata": {},
     "output_type": "execute_result"
    }
   ],
   "source": [
    "isPrime(6);"
   ]
  },
  {
   "cell_type": "code",
   "execution_count": 10,
   "metadata": {},
   "outputs": [
    {
     "data": {
      "text/plain": [
       "true"
      ]
     },
     "execution_count": 10,
     "metadata": {},
     "output_type": "execute_result"
    }
   ],
   "source": [
    "isPrime(7);"
   ]
  },
  {
   "cell_type": "code",
   "execution_count": 11,
   "metadata": {},
   "outputs": [],
   "source": [
    "function checkAge(age) {\n",
    "  if (age > 18) {\n",
    "    return true;\n",
    "  } else {\n",
    "    return confirm('Did parents allow you?');\n",
    "  }\n",
    "}"
   ]
  },
  {
   "cell_type": "code",
   "execution_count": 12,
   "metadata": {},
   "outputs": [],
   "source": [
    "function checkAge2(age) {\n",
    "  return (age > 18) ? true : confirm('Did parents allow you?');\n",
    "}"
   ]
  },
  {
   "cell_type": "code",
   "execution_count": 13,
   "metadata": {},
   "outputs": [],
   "source": [
    "function checkAge3(age) {\n",
    "  return (age > 18) || confirm('Did parents allow you?');\n",
    "}"
   ]
  },
  {
   "cell_type": "code",
   "execution_count": 14,
   "metadata": {},
   "outputs": [],
   "source": [
    "// Function Declaration\n",
    "function min(a, b) {\n",
    "  return (a > b) ? b : a;\n",
    "}"
   ]
  },
  {
   "cell_type": "code",
   "execution_count": 15,
   "metadata": {},
   "outputs": [
    {
     "data": {
      "text/plain": [
       "5"
      ]
     },
     "execution_count": 15,
     "metadata": {},
     "output_type": "execute_result"
    }
   ],
   "source": [
    "min(5, 10);"
   ]
  },
  {
   "cell_type": "code",
   "execution_count": 16,
   "metadata": {},
   "outputs": [],
   "source": [
    "// Function Expression\n",
    "const min2 = function(a, b) {\n",
    "  return (a > b) ? b : a;\n",
    "}"
   ]
  },
  {
   "cell_type": "code",
   "execution_count": 17,
   "metadata": {},
   "outputs": [
    {
     "data": {
      "text/plain": [
       "5"
      ]
     },
     "execution_count": 17,
     "metadata": {},
     "output_type": "execute_result"
    }
   ],
   "source": [
    "min2(5, 10);"
   ]
  },
  {
   "cell_type": "code",
   "execution_count": null,
   "metadata": {},
   "outputs": [],
   "source": [
    "const min3 = (a, b) => {\n",
    "    return (a > b) ? b: a;\n",
    "}"
   ]
  },
  {
   "cell_type": "markdown",
   "metadata": {},
   "source": [
    "A Function Expression is created when the execution reaches it and is usable only from that moment. On the other hand, a Function Declaration can be called earlier than it is defined.\n",
    "\n",
    "Another core difference in block scope. "
   ]
  },
  {
   "cell_type": "code",
   "execution_count": 18,
   "metadata": {},
   "outputs": [
    {
     "name": "stdout",
     "output_type": "stream",
     "text": [
      "Hello!\n"
     ]
    }
   ],
   "source": [
    "let age = 10;\n",
    "let welcome;\n",
    "\n",
    "if (age < 18) {\n",
    "  welcome = function() {\n",
    "    console.log(\"Hello!\");\n",
    "  };\n",
    "} else {\n",
    "  welcome = function() {\n",
    "    console.log(\"Greetings!\");\n",
    "  };\n",
    "}\n",
    "\n",
    "welcome();"
   ]
  },
  {
   "cell_type": "markdown",
   "metadata": {},
   "source": [
    "Arrow functions is another way of declaring functions. \n",
    "\n",
    "```\n",
    "let func = (arg1, arg2, ...argN) => expression\n",
    "```\n",
    "\n",
    "is a short-hand for \n",
    "\n",
    "```\n",
    "let func = function(arg1, arg2, ...argN) {\n",
    "  return expression;\n",
    "};\n",
    "```"
   ]
  },
  {
   "cell_type": "code",
   "execution_count": 19,
   "metadata": {},
   "outputs": [],
   "source": [
    "const sum = (a, b) => a + b; "
   ]
  },
  {
   "cell_type": "code",
   "execution_count": 20,
   "metadata": {},
   "outputs": [
    {
     "data": {
      "text/plain": [
       "3"
      ]
     },
     "execution_count": 20,
     "metadata": {},
     "output_type": "execute_result"
    }
   ],
   "source": [
    "sum(1, 2);"
   ]
  },
  {
   "cell_type": "code",
   "execution_count": 21,
   "metadata": {},
   "outputs": [],
   "source": [
    "const double = n => n * 2;"
   ]
  },
  {
   "cell_type": "code",
   "execution_count": 22,
   "metadata": {},
   "outputs": [
    {
     "data": {
      "text/plain": [
       "20"
      ]
     },
     "execution_count": 22,
     "metadata": {},
     "output_type": "execute_result"
    }
   ],
   "source": [
    "double(10);"
   ]
  },
  {
   "cell_type": "code",
   "execution_count": 23,
   "metadata": {},
   "outputs": [],
   "source": [
    "let sum2 = (a, b) => {  // the curly brace opens a multiline function\n",
    "  let result = a + b;\n",
    "  return result; // if we use curly braces, then we need an explicit \"return\"\n",
    "};"
   ]
  },
  {
   "cell_type": "code",
   "execution_count": 24,
   "metadata": {},
   "outputs": [],
   "source": [
    "let user = {\n",
    "  name: \"John\",\n",
    "  age: 30,\n",
    "  \"likes birds\": true  // multiword property name must be quoted\n",
    "};"
   ]
  },
  {
   "cell_type": "code",
   "execution_count": 25,
   "metadata": {},
   "outputs": [
    {
     "data": {
      "text/plain": [
       "'John'"
      ]
     },
     "execution_count": 25,
     "metadata": {},
     "output_type": "execute_result"
    }
   ],
   "source": [
    "user.name"
   ]
  },
  {
   "cell_type": "code",
   "execution_count": 26,
   "metadata": {},
   "outputs": [
    {
     "ename": "SyntaxError",
     "evalue": "Unexpected string",
     "output_type": "error",
     "traceback": [
      "evalmachine.<anonymous>:1",
      "user.\"likes birds\"",
      "     ^^^^^^^^^^^^^",
      "",
      "SyntaxError: Unexpected string",
      "    at new Script (vm.js:88:7)",
      "    at createScript (vm.js:261:10)",
      "    at Object.runInThisContext (vm.js:309:10)",
      "    at run ([eval]:1054:15)",
      "    at onRunRequest ([eval]:888:18)",
      "    at onMessage ([eval]:848:13)",
      "    at process.emit (events.js:315:20)",
      "    at emit (internal/child_process.js:876:12)",
      "    at processTicksAndRejections (internal/process/task_queues.js:85:21)"
     ]
    }
   ],
   "source": [
    "user.\"likes birds\""
   ]
  },
  {
   "cell_type": "code",
   "execution_count": 27,
   "metadata": {},
   "outputs": [
    {
     "data": {
      "text/plain": [
       "true"
      ]
     },
     "execution_count": 27,
     "metadata": {},
     "output_type": "execute_result"
    }
   ],
   "source": [
    "user[\"likes birds\"]"
   ]
  },
  {
   "cell_type": "code",
   "execution_count": 28,
   "metadata": {},
   "outputs": [
    {
     "data": {
      "text/plain": [
       "{ name: 'Jake', age: 30, 'likes birds': true }"
      ]
     },
     "execution_count": 28,
     "metadata": {},
     "output_type": "execute_result"
    }
   ],
   "source": [
    "user.name = \"Jake\";\n",
    "user;"
   ]
  },
  {
   "cell_type": "code",
   "execution_count": 29,
   "metadata": {},
   "outputs": [
    {
     "name": "stdout",
     "output_type": "stream",
     "text": [
      "Jake\n",
      "30\n",
      "true\n"
     ]
    }
   ],
   "source": [
    "for (let key in user) {\n",
    "  console.log(user[key]);\n",
    "}"
   ]
  },
  {
   "cell_type": "code",
   "execution_count": 30,
   "metadata": {},
   "outputs": [
    {
     "name": "stdout",
     "output_type": "stream",
     "text": [
      "1\n",
      "41\n",
      "44\n",
      "49\n"
     ]
    }
   ],
   "source": [
    "// Objects are sorted\n",
    "\n",
    "let codes = {\n",
    "  \"49\": \"Germany\",\n",
    "  \"41\": \"Switzerland\",\n",
    "  \"44\": \"Great Britain\",\n",
    "  // ..,\n",
    "  \"1\": \"USA\"\n",
    "};\n",
    "\n",
    "for (let code in codes) {\n",
    "  console.log(code);\n",
    "}"
   ]
  },
  {
   "cell_type": "code",
   "execution_count": 31,
   "metadata": {},
   "outputs": [
    {
     "name": "stdout",
     "output_type": "stream",
     "text": [
      "{ name: 'Jake', age: 30, 'likes birds': true }\n"
     ]
    }
   ],
   "source": [
    "let admin = user\n",
    "\n",
    "console.log(admin);"
   ]
  },
  {
   "cell_type": "code",
   "execution_count": 32,
   "metadata": {},
   "outputs": [
    {
     "name": "stdout",
     "output_type": "stream",
     "text": [
      "{ name: 'Peter', age: 30, 'likes birds': true }\n"
     ]
    }
   ],
   "source": [
    "// Objects are passed by reference\n",
    "\n",
    "admin.name = \"Peter\";\n",
    "console.log(user);"
   ]
  },
  {
   "cell_type": "code",
   "execution_count": 33,
   "metadata": {},
   "outputs": [],
   "source": [
    "function copy(object) {\n",
    "  let result = {};\n",
    "  for (let property in object) {\n",
    "    if (typeof object[property] == 'object') {\n",
    "      result[property] = copy(object[property]);\n",
    "    } else {\n",
    "      result[property] = object[property];\n",
    "    }\n",
    "  }\n",
    "  return result;\n",
    "}"
   ]
  },
  {
   "cell_type": "code",
   "execution_count": 34,
   "metadata": {},
   "outputs": [
    {
     "name": "stdout",
     "output_type": "stream",
     "text": [
      "{\n",
      "  '1': 'USA',\n",
      "  '41': 'Switzerland',\n",
      "  '44': 'Great Britain',\n",
      "  '49': 'Germany'\n",
      "}\n",
      "{\n",
      "  '1': 'USA',\n",
      "  '41': 'Switzerland',\n",
      "  '44': 'Great Britain',\n",
      "  '49': 'Germany',\n",
      "  '82': 'Korea'\n",
      "}\n"
     ]
    }
   ],
   "source": [
    "codes_copy = copy(codes)\n",
    "codes_copy[\"82\"] = \"Korea\";\n",
    "console.log(codes);\n",
    "console.log(codes_copy);"
   ]
  },
  {
   "cell_type": "code",
   "execution_count": 35,
   "metadata": {},
   "outputs": [
    {
     "data": {
      "text/plain": [
       "{ name: 'John', sizes: { height: 182, width: 50 } }"
      ]
     },
     "execution_count": 35,
     "metadata": {},
     "output_type": "execute_result"
    }
   ],
   "source": [
    "user = {\n",
    "  name: \"John\",\n",
    "  sizes: {\n",
    "    height: 182,\n",
    "    width: 50\n",
    "  }\n",
    "};"
   ]
  },
  {
   "cell_type": "code",
   "execution_count": 36,
   "metadata": {},
   "outputs": [
    {
     "name": "stdout",
     "output_type": "stream",
     "text": [
      "{ name: 'John', sizes: { height: 182, width: 50 } }\n"
     ]
    }
   ],
   "source": [
    "let user_copy = copy(user);\n",
    "console.log(user_copy);"
   ]
  },
  {
   "cell_type": "code",
   "execution_count": 37,
   "metadata": {},
   "outputs": [
    {
     "name": "stdout",
     "output_type": "stream",
     "text": [
      "{ name: 'John', sizes: { height: 182, width: 50 } }\n",
      "{ name: 'Paul', sizes: { height: 182, width: 50 } }\n"
     ]
    }
   ],
   "source": [
    "user.name = \"Paul\";\n",
    "console.log(user_copy);\n",
    "console.log(user);"
   ]
  },
  {
   "cell_type": "code",
   "execution_count": 38,
   "metadata": {},
   "outputs": [
    {
     "name": "stdout",
     "output_type": "stream",
     "text": [
      "The name of the user is Paul\n",
      "The name of the copied user is John\n"
     ]
    }
   ],
   "source": [
    "console.log(`The name of the user is ${user.name}`);\n",
    "console.log(`The name of the copied user is ${user_copy.name}`);"
   ]
  },
  {
   "cell_type": "code",
   "execution_count": 39,
   "metadata": {},
   "outputs": [],
   "source": [
    "function sayHi() {\n",
    "  console.log(`Hi, my name is ${this.name}.`);\n",
    "}"
   ]
  },
  {
   "cell_type": "code",
   "execution_count": 40,
   "metadata": {},
   "outputs": [
    {
     "name": "stdout",
     "output_type": "stream",
     "text": [
      "Hi, my name is Paul.\n"
     ]
    }
   ],
   "source": [
    "user.greet = sayHi;\n",
    "user.greet();"
   ]
  },
  {
   "cell_type": "markdown",
   "metadata": {},
   "source": [
    "Arrow functions are special: they don’t have their “own” this. If we reference this from such a function, it’s taken from the outer “normal” function."
   ]
  },
  {
   "cell_type": "code",
   "execution_count": null,
   "metadata": {},
   "outputs": [],
   "source": [
    "let someObject = {};\n",
    "\n",
    "console.log( someObject?.someKey );"
   ]
  },
  {
   "cell_type": "code",
   "execution_count": null,
   "metadata": {},
   "outputs": [],
   "source": [
    "let result = []\n",
    "\n",
    "[1, 2, 3].forEach((item, index) => {\n",
    "    console.log(index);\n",
    "    result.push(item * 2);\n",
    "})"
   ]
  },
  {
   "cell_type": "code",
   "execution_count": null,
   "metadata": {},
   "outputs": [],
   "source": [
    "[1, 2, 3].indexOf(1);"
   ]
  },
  {
   "cell_type": "code",
   "execution_count": null,
   "metadata": {},
   "outputs": [],
   "source": [
    "let users = [\n",
    "  {id: 1, name: \"John\"},\n",
    "  {id: 2, name: \"Pete\"},\n",
    "  {id: 3, name: \"Mary\"}\n",
    "];\n",
    "\n",
    "let user = users.find(item => item.id == 1);\n",
    "\n",
    "alert(user.name); // John"
   ]
  },
  {
   "cell_type": "code",
   "execution_count": null,
   "metadata": {},
   "outputs": [],
   "source": [
    "let oddIdUsers = users.filter(item => item.id % 2)"
   ]
  },
  {
   "cell_type": "code",
   "execution_count": null,
   "metadata": {},
   "outputs": [],
   "source": [
    "let lengths = [\"Bilbo\", \"Gandalf\", \"Nazgul\"].map(item => item.length);\n",
    "console.log(lengths);"
   ]
  }
 ],
 "metadata": {
  "kernelspec": {
   "display_name": "Javascript (Node.js)",
   "language": "javascript",
   "name": "javascript"
  },
  "language_info": {
   "file_extension": ".js",
   "mimetype": "application/javascript",
   "name": "javascript",
   "version": "12.18.3"
  }
 },
 "nbformat": 4,
 "nbformat_minor": 4
}
