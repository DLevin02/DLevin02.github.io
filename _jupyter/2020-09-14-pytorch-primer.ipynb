{
  "nbformat": 4,
  "nbformat_minor": 0,
  "metadata": {
    "anaconda-cloud": {},
    "kernelspec": {
      "display_name": "Python 3",
      "language": "python",
      "name": "python3"
    },
    "language_info": {
      "codemirror_mode": {
        "name": "ipython",
        "version": 3
      },
      "file_extension": ".py",
      "mimetype": "text/x-python",
      "name": "python",
      "nbconvert_exporter": "python",
      "pygments_lexer": "ipython3",
      "version": "3.6.1"
    },
    "colab": {
      "name": "pytorch-primer.ipynb",
      "provenance": [],
      "collapsed_sections": []
    }
  },
  "cells": [
    {
      "cell_type": "markdown",
      "metadata": {
        "id": "zfqAbDIhr7T8",
        "colab_type": "text"
      },
      "source": [
        "I've always been a fan of TensorFlow, specifically `tf.keras`, for its simplicity and ease of use in implementing algorithms and building models. Today, I decided to give PyTorch a try. It is my understanding that TensorFlow is more often used in coporate production environments, whereas PyTorch is favored by academics, especially those in the field of NLP. I thought it would be an interesting idea to give it a try, so here is my first go at it. Note that the majority of the code shown here are either borrowed from or are adaptations of those available on the [PyTorch website](https://pytorch.org/tutorials/), which is full of rich content and tutorials for beginners. Of course, basic knowledge of DL and Python would be helpful, but otherwise, it is a great place to start.\n",
        "\n",
        "Let's dive right in!"
      ]
    },
    {
      "cell_type": "markdown",
      "metadata": {
        "id": "J9TrggiMt8Ns",
        "colab_type": "text"
      },
      "source": [
        "# Autograd\n",
        "\n",
        "Like TensorFlow, PyTorch is a scientific computing library that makes use of GPU computing power to acceleration calculations. And of course, it can be used to create neural networks. In this section, we will take a look at how automatic differentiation works in PyTorch. Note that differentiation is at the core of backpropagation, which is why demonstrating what might seem like a relatively low-level portion of the API is valuable.\n",
        "\n",
        "## Gradient Calculation\n",
        "\n",
        "Let's begin our discussion by first importing the PyTorch module."
      ]
    },
    {
      "cell_type": "code",
      "metadata": {
        "id": "rcCteeZFt5nr",
        "colab_type": "code",
        "colab": {}
      },
      "source": [
        "import torch"
      ],
      "execution_count": 5,
      "outputs": []
    },
    {
      "cell_type": "markdown",
      "metadata": {
        "id": "pN_khAqzeEkB",
        "colab_type": "text"
      },
      "source": [
        "It isn't difficult to see that `torch` is a scientific computing library, much like `numpy`. For instance, we can easily create a matrice of ones as follows:"
      ]
    },
    {
      "cell_type": "code",
      "metadata": {
        "id": "YJ_XXa4uwh3R",
        "colab_type": "code",
        "colab": {
          "base_uri": "https://localhost:8080/",
          "height": 51
        },
        "outputId": "4a189630-d795-46e7-c85d-adeea16a9d34"
      },
      "source": [
        "x = torch.ones(2, 2, requires_grad=True); print(x)"
      ],
      "execution_count": 6,
      "outputs": [
        {
          "output_type": "stream",
          "text": [
            "tensor([[1., 1.],\n",
            "        [1., 1.]], requires_grad=True)\n"
          ],
          "name": "stdout"
        }
      ]
    },
    {
      "cell_type": "markdown",
      "metadata": {
        "id": "yrlJ4uwKeLzH",
        "colab_type": "text"
      },
      "source": [
        "The `requires_grad` is a parameter we pass into the function to tell PyTorch that this is something we want to keep track of later for something like backpropagation using gradient computation. In other words, it \"tags\" the object for PyTorch.\n",
        "\n",
        "Let's make up some dummy operations to see how this tagging and gradient calculation works. "
      ]
    },
    {
      "cell_type": "code",
      "metadata": {
        "id": "xLx1o73mwlDk",
        "colab_type": "code",
        "colab": {
          "base_uri": "https://localhost:8080/",
          "height": 102
        },
        "outputId": "e63ccdab-5a3f-4522-ba3c-ebce808a46fb"
      },
      "source": [
        "y = x + 2; print(f\"y = {y}\")\n",
        "z = y * y * 3; print(f\"z = {z}\")\n",
        "out = z.mean(); print(f\"out = {out}\")"
      ],
      "execution_count": 7,
      "outputs": [
        {
          "output_type": "stream",
          "text": [
            "y = tensor([[3., 3.],\n",
            "        [3., 3.]], grad_fn=<AddBackward0>)\n",
            "z = tensor([[27., 27.],\n",
            "        [27., 27.]], grad_fn=<MulBackward0>)\n",
            "out = 27.0\n"
          ],
          "name": "stdout"
        }
      ]
    },
    {
      "cell_type": "markdown",
      "metadata": {
        "id": "knxaPv1RxOYw",
        "colab_type": "text"
      },
      "source": [
        "Note that `*` performs element-wise multiplication, otherwise known as the dot product for vectors and the hadamard product for matrics and tensors. \n",
        "\n",
        "Let's look at how autograd works. To initiate gradient computation, we need to first call `.backward()` on the final result, in which case `out`."
      ]
    },
    {
      "cell_type": "code",
      "metadata": {
        "id": "l1IMTfBlwq-N",
        "colab_type": "code",
        "colab": {}
      },
      "source": [
        "out.backward()"
      ],
      "execution_count": 8,
      "outputs": []
    },
    {
      "cell_type": "markdown",
      "metadata": {
        "id": "HKupIcHfhjki",
        "colab_type": "text"
      },
      "source": [
        "Then, we can simply call `x.grad` to tell PyTorch to calculate the gradient. Note that this works only because we \"tagged\" `x` with the `require_grad` parameter. If we try to call `.grad` on any of the other intermediate variables, such as `y` or `z`, PyTorch will complain."
      ]
    },
    {
      "cell_type": "code",
      "metadata": {
        "id": "5TsxXMrZ0nId",
        "colab_type": "code",
        "colab": {
          "base_uri": "https://localhost:8080/",
          "height": 51
        },
        "outputId": "9447174f-85ae-4471-aa31-91c0d9abb462"
      },
      "source": [
        "x.grad"
      ],
      "execution_count": 9,
      "outputs": [
        {
          "output_type": "execute_result",
          "data": {
            "text/plain": [
              "tensor([[4.5000, 4.5000],\n",
              "        [4.5000, 4.5000]])"
            ]
          },
          "metadata": {
            "tags": []
          },
          "execution_count": 9
        }
      ]
    },
    {
      "cell_type": "markdown",
      "metadata": {
        "id": "lVb8b0dAh0tz",
        "colab_type": "text"
      },
      "source": [
        "Let's try to understand the result of this computation. Let $o$ denote the final `output` tensor. Since we called `z.mean()`, and since `z` has a total of four elements, we can write out our dummy calculations mathematically in the following fashion:"
      ]
    },
    {
      "cell_type": "markdown",
      "metadata": {
        "id": "wXRI9hJQ2eUR",
        "colab_type": "text"
      },
      "source": [
        "$$\n",
        "\\begin{align}\n",
        "o \n",
        "&= \\frac14 \\sum_{i=1}^4 z_i \\\\\n",
        "&= \\frac34 \\sum_{i=1}^4 y_i^2 \\\\\n",
        "&= \\frac34 \\sum_{i=1}^4 (x_i + 2)^2 \n",
        "\\end{align}\n",
        "$$\n",
        "\n",
        "Using partial differentiation to obtain the gradients,\n",
        "\n",
        "$$\n",
        "\\frac{d o_i}{d x_i} = \\frac34 \\cdot 2(x_i + 2) \n",
        "$$\n",
        "\n",
        "Since $x_i = 1$,\n",
        "\n",
        "$$\n",
        "\\frac{d o_i}{d x_i} = \\frac92 = 4.5\n",
        "$$\n",
        "\n",
        "Since $i$ is just an arbitrary, non-specific index out of a total of four, we can easily see that the same applies for all other indices, and hence we will end up with a matrix whose all four entries take the value of 4.5, as PyTorch has rightly computed."
      ]
    },
    {
      "cell_type": "markdown",
      "metadata": {
        "id": "oNQOY9wXiabW",
        "colab_type": "text"
      },
      "source": [
        "## Custom Autograd Functions\n",
        "\n",
        "We can go even a step farther and declare custom operations. For example, here's a dummy implementation of the ReLU function. "
      ]
    },
    {
      "cell_type": "code",
      "metadata": {
        "id": "BSgoZsu5kTUV",
        "colab_type": "code",
        "colab": {}
      },
      "source": [
        "class MyReLU(torch.autograd.Function):\n",
        "    @staticmethod\n",
        "    def forward(ctx, input):\n",
        "        ctx.save_for_backward(input)\n",
        "        return input.clamp(min=0)\n",
        "\n",
        "    @staticmethod\n",
        "    def backward(ctx, grad_output):\n",
        "        input, = ctx.saved_tensors\n",
        "        grad_input = grad_output.clone()\n",
        "        grad_input[input < 0] = 0\n",
        "        return grad_input"
      ],
      "execution_count": 10,
      "outputs": []
    },
    {
      "cell_type": "markdown",
      "metadata": {
        "id": "DQovluTpkY8L",
        "colab_type": "text"
      },
      "source": [
        "Let's talk about the `MyReLU.forward()` method first. Note that it takes in two argument parameters: `ctx` and `input`. As you might have guessed, `input` is simply the value that the function will be provided with. The `ctx` can simply be thought of as a cache where we can store vectors or matrices to be used during backpropagation. In this case, we store the `input` by calling `ctx.save_for_backward()` method.\n",
        "\n",
        "During the backward pass, we compute the gradient. Here, we need to retrieve the `input` variable which was stored in the context. This is because the ReLU function takes the following form:\n",
        "\n",
        "$$\n",
        "\\text{ReLU}(x) = \n",
        "\\begin{cases}\n",
        "0 & x < 0 \\\\\n",
        "x & x \\geq 0\n",
        "\\end{cases}\n",
        "$$\n",
        "\n",
        "Thus, its derivative is\n",
        "\n",
        "$$\n",
        "\\text{ReLU}^\\prime(x) = \n",
        "\\begin{cases}\n",
        "0 & x < 0 \\\\\n",
        "1 & x \\geq 0\n",
        "\\end{cases}\n",
        "$$\n",
        "\n",
        "During backpropagation, this means that gradients will flow down to the next layer only for those indices whose input elements to te ReLU function were greater than 0. Thus, we need the input vector for reference purposes, and this is done via stashing it in the `ctx` variable.\n",
        "\n",
        "We will see how we can incorporate `MyReLU` into the model in the next section."
      ]
    },
    {
      "cell_type": "markdown",
      "metadata": {
        "id": "E6sRnnC3-bqB",
        "colab_type": "text"
      },
      "source": [
        "# Simple Model\n",
        "\n",
        "In this example, we'll take a look at an extremely simple model to gain a better understanding of how everything comes into play in a more practical example. \n",
        "\n",
        "## Manual Gradient Computation\n",
        "\n",
        "This is the method that I've mostly been using when implementing simple dense fully-connected models in NumPy. The idea is that we would mathematically derive the formula for the gradients ourselves, then backpropagate these values during the optimization process. Of course, this can be done with PyTorch.\n",
        "\n",
        "To build our simple model, let's first write out some variables to use, starting with the configuration of our model and its dimensions."
      ]
    },
    {
      "cell_type": "code",
      "metadata": {
        "id": "8phcTubrBM16",
        "colab_type": "code",
        "colab": {}
      },
      "source": [
        "dtype = torch.float\n",
        "batch_size, input_dim, hidden_dim, output_dim = 64, 1000, 100, 10"
      ],
      "execution_count": 11,
      "outputs": []
    },
    {
      "cell_type": "markdown",
      "metadata": {
        "id": "0xvOro25vXqw",
        "colab_type": "text"
      },
      "source": [
        "We will also need some input and output tensors to be fed into the model for trainining and optimization."
      ]
    },
    {
      "cell_type": "code",
      "metadata": {
        "id": "j8vqjJdIB8Dv",
        "colab_type": "code",
        "colab": {}
      },
      "source": [
        "x = torch.randn(batch_size, input_dim, dtype=dtype)\n",
        "y = torch.randn(batch_size, output_dim, dtype=dtype)"
      ],
      "execution_count": 12,
      "outputs": []
    },
    {
      "cell_type": "markdown",
      "metadata": {
        "id": "oYhsX8vKxZyD",
        "colab_type": "text"
      },
      "source": [
        "Next, here are the weight matrices we will use. For now, we assume a simple two layered dense feed forward network."
      ]
    },
    {
      "cell_type": "code",
      "metadata": {
        "id": "j-aLSiGZB94p",
        "colab_type": "code",
        "colab": {}
      },
      "source": [
        "w1 = torch.randn(input_dim, hidden_dim, dtype=dtype)\n",
        "w2 = torch.randn(hidden_dim, output_dim, dtype=dtype)"
      ],
      "execution_count": 13,
      "outputs": []
    },
    {
      "cell_type": "markdown",
      "metadata": {
        "id": "n38FOjcoxfgq",
        "colab_type": "text"
      },
      "source": [
        "Last but not least, let's define a simple squared error loss function to use during the training step."
      ]
    },
    {
      "cell_type": "code",
      "metadata": {
        "id": "WiOd7m1pC-c0",
        "colab_type": "code",
        "colab": {}
      },
      "source": [
        "def loss_fn(y, y_pred):\n",
        "    return (y_pred - y).pow(2).sum()"
      ],
      "execution_count": 14,
      "outputs": []
    },
    {
      "cell_type": "markdown",
      "metadata": {
        "id": "qePoS2FGxkof",
        "colab_type": "text"
      },
      "source": [
        "With this entire setup, we can now hash out what the entire training iteration is going to look like. Wrapped in a loop, we perform one forward pass, then perform backpropagation to adjust the weights. "
      ]
    },
    {
      "cell_type": "code",
      "metadata": {
        "id": "a5-ylOXhB-Ea",
        "colab_type": "code",
        "colab": {
          "base_uri": "https://localhost:8080/",
          "height": 102
        },
        "outputId": "e5e0e028-f922-46a7-9651-3e745c971b7f"
      },
      "source": [
        "learning_rate = 1e-6\n",
        "for t in range(500):\n",
        "    h = x.mm(w1)\n",
        "    h_relu = h.clamp(min=0)\n",
        "    y_pred = h_relu.mm(w2)\n",
        "\n",
        "    # .item() to access number from 1d tensor\n",
        "    L = loss_fn(y, y_pred).item()\n",
        "    if t % 100 == 99:\n",
        "        print(f\"Epoch {t}: {L}\")\n",
        "\n",
        "    # Backprop\n",
        "    # dL/dy\n",
        "    grad_y_pred = 2.0 * (y_pred - y)\n",
        "    # dL/dw2 = dL/dy * dy/dw2\n",
        "    grad_w2 = h_relu.t().mm(grad_y_pred)\n",
        "    # dL/dh_relu = dL/dy * dy/dh_relu\n",
        "    grad_h_relu = grad_y_pred.mm(w2.t())\n",
        "    # dL/dh = dL/dh_relu if h > 0, else 0\n",
        "    grad_h = grad_h_relu.clone()\n",
        "    grad_h[h < 0] = 0\n",
        "    # dL/dw1 = dL/dh * dh/dw1\n",
        "    grad_w1 = x.t().mm(grad_h)\n",
        "\n",
        "    # Update weights\n",
        "    w1 -= learning_rate * grad_w1\n",
        "    w2 -= learning_rate * grad_w2"
      ],
      "execution_count": 15,
      "outputs": [
        {
          "output_type": "stream",
          "text": [
            "Epoch 99: 714.8318481445312\n",
            "Epoch 199: 3.586176633834839\n",
            "Epoch 299: 0.03582914546132088\n",
            "Epoch 399: 0.0007462671492248774\n",
            "Epoch 499: 8.23544614831917e-05\n"
          ],
          "name": "stdout"
        }
      ]
    },
    {
      "cell_type": "markdown",
      "metadata": {
        "id": "jVKQVkpKIbj1",
        "colab_type": "text"
      },
      "source": [
        "Great! We see that the loss drops as more epochs elapse. \n",
        "\n",
        "While there is no problem with this approach, things can get a lot more unwieldy once we start building out more complicated models. In these cases, we will want to use the auto differentiation functionality we reviewed earlier. Let's see this in action. Also, let's make this more PyTorch-y by making use of classes. We will revisit why class-based implementations are important in the next section."
      ]
    },
    {
      "cell_type": "code",
      "metadata": {
        "id": "_5GmG0LvB-NK",
        "colab_type": "code",
        "colab": {}
      },
      "source": [
        "class FeedForwardNet:\n",
        "    def __init__(self):\n",
        "        self.w1 = torch.randn(\n",
        "            input_dim, hidden_dim, dtype=dtype, requires_grad=True\n",
        "        )\n",
        "        self.w2 = torch.randn(\n",
        "            hidden_dim, output_dim, dtype=dtype, requires_grad=True\n",
        "        )\n",
        "\n",
        "    def forward(self, x):\n",
        "        return x.mm(self.w1).clamp(min=0).mm(self.w2)\n",
        "\n",
        "    def backward(self, x, y, verbose=False):\n",
        "        y_pred = self.forward(x)\n",
        "        L = loss_fn(y, y_pred)\n",
        "        verbose and print(f\"Loss: {L}\")\n",
        "        L.backward()\n",
        "\n",
        "        with torch.no_grad():\n",
        "            self.w1 -= learning_rate * self.w1.grad\n",
        "            self.w2 -= learning_rate * self.w2.grad\n",
        "\n",
        "            self.w1.grad.zero_()\n",
        "            self.w2.grad.zero_()"
      ],
      "execution_count": 16,
      "outputs": []
    },
    {
      "cell_type": "code",
      "metadata": {
        "id": "ctmRnyLuB-Rx",
        "colab_type": "code",
        "colab": {
          "base_uri": "https://localhost:8080/",
          "height": 102
        },
        "outputId": "49f8162c-3af5-4aff-c7a0-9e1055a680ff"
      },
      "source": [
        "model = FeedForwardNet()\n",
        "\n",
        "for t in range(500):\n",
        "    verbose = t % 100 == 99\n",
        "    model.backward(x, y, verbose=verbose)"
      ],
      "execution_count": 17,
      "outputs": [
        {
          "output_type": "stream",
          "text": [
            "Loss: 321.8311767578125\n",
            "Loss: 0.6376868486404419\n",
            "Loss: 0.0022135386243462563\n",
            "Loss: 7.520567305618897e-05\n",
            "Loss: 1.823174170567654e-05\n"
          ],
          "name": "stdout"
        }
      ]
    },
    {
      "cell_type": "markdown",
      "metadata": {
        "id": "VC-3KfCyMpcb",
        "colab_type": "text"
      },
      "source": [
        "Notice we didn't have to explicitly specify the backpropagation formula with matrix derivatives: by simply calling `.grad` properties for each of the weights matrices, we were able to perform gradient descent. One detail to note is that, unlike in the case above where we had to explicitly call `L.item()` in order to obtain the loss value---which would be of type `float`---we leave the computed loss to remain as a tensor in order to call `L.backward()`. We also make sure to reset the gradients per epoch by calling `self.w.grad.zero_()`."
      ]
    },
    {
      "cell_type": "markdown",
      "metadata": {
        "id": "tFpi4A2sut7N",
        "colab_type": "text"
      },
      "source": [
        "## Applying Custom Function\n",
        "\n",
        "We can also improve our implementation by making use of the `MyReLU` class that we implemented earlier. This is simple as doing "
      ]
    },
    {
      "cell_type": "code",
      "metadata": {
        "id": "p5lKnA2Dfl70",
        "colab_type": "code",
        "colab": {}
      },
      "source": [
        "def forward(self, x):\n",
        "    return MyReLU.apply(x.mm(self.w1)).mm(self.w2)"
      ],
      "execution_count": 18,
      "outputs": []
    },
    {
      "cell_type": "markdown",
      "metadata": {
        "id": "EudborMRvBhD",
        "colab_type": "text"
      },
      "source": [
        "This might be a better way to implement the function for reasons of simplicity and readability. Although `clamp`ing works, it's more arguably cleaner to write a ReLU this way. Also, this is a dummy example, and we can imagine a lot of situations where we might want to write custom functions to carry out specific tasks."
      ]
    },
    {
      "cell_type": "markdown",
      "metadata": {
        "id": "8wB-EmubdJh8",
        "colab_type": "text"
      },
      "source": [
        "# Model Declarations\n",
        "\n",
        "Much like TensorFlow, PyTorch offers to ways of declaring models: function-based and class-based methods. Although I have just started getting into PyTorch, my impression is that the later is more preferred by PyTorch developers, whereas this is not necessarily the case with Keras or `tf.keras`. Of course, this is a matter of preference and development setting, so perhaps such first impression generalizations do not carry much weight. Nonetheless, in this section, we will take a look at both ways of building models. Let's start with the function-based method."
      ]
    },
    {
      "cell_type": "markdown",
      "metadata": {
        "id": "scRvnwfdyWZD",
        "colab_type": "text"
      },
      "source": [
        "## Sequential Model\n",
        "\n",
        "The function-based method reminds me a lot of Keras's sequential method. Let's remind ourselves of Kera's basic sequential model API:\n",
        "\n",
        "```python\n",
        "model = keras.Sequential(\n",
        "    [\n",
        "        layers.Dense(2, activation=\"relu\", name=\"layer1\"),\n",
        "        layers.Dense(3, activation=\"relu\", name=\"layer2\"),\n",
        "        layers.Dense(4, name=\"layer3\"),\n",
        "    ]\n",
        ")\n",
        "```\n",
        "\n",
        "Now let's compare this method with PyTorch's way of declaring sequential models:"
      ]
    },
    {
      "cell_type": "code",
      "metadata": {
        "id": "bKVfNBfrMqFq",
        "colab_type": "code",
        "colab": {}
      },
      "source": [
        "model = torch.nn.Sequential(\n",
        "    torch.nn.Linear(input_dim, hidden_dim),\n",
        "    torch.nn.ReLU(),\n",
        "    torch.nn.Linear(hidden_dim, output_dim),\n",
        ")"
      ],
      "execution_count": 19,
      "outputs": []
    },
    {
      "cell_type": "markdown",
      "metadata": {
        "id": "fZgbBkw4z0_N",
        "colab_type": "text"
      },
      "source": [
        "This model declaration is in fact exactly identical to the simple model we have declared above.\n",
        "\n",
        "You can easily see how similar this code snippet is to the Keras example. The only difference is that the activation function is declared independently of the layer itself in PyTorch, whereas Keras combines them into one via `activation=\"relu\"` argument. Of course, you don't have to specify this argument, and we can import the ReLU function from TensorFlow to make it explicit like the PyTorch example. The point, however, is that the sequential model API for both libraries are pretty similar."
      ]
    },
    {
      "cell_type": "markdown",
      "metadata": {
        "id": "SCa6aCex0acG",
        "colab_type": "text"
      },
      "source": [
        "## Class-Based Declaration\n",
        "\n",
        "Another way to build models is by subclassing `torch.nn`. The `nn` submodule in PyTorch is the one that deals with neural networks; hence the `nn`. This subclassing might look as follows:"
      ]
    },
    {
      "cell_type": "code",
      "metadata": {
        "id": "xD8J0Mk40ZNq",
        "colab_type": "code",
        "colab": {}
      },
      "source": [
        "class TwoLayerNet(torch.nn.Module):\n",
        "    def __init__(self, input_dim, hidden_dim, output_dim):\n",
        "        super(TwoLayerNet, self).__init__()\n",
        "        self.linear1 = torch.nn.Linear(input_dim, hidden_dim)\n",
        "        self.linear2 = torch.nn.Linear(hidden_dim, output_dim)\n",
        "\n",
        "    def forward(self, x):\n",
        "        h_relu = self.linear1(x).clamp(min=0)\n",
        "        y_pred = self.linear2(h_relu)\n",
        "        return y_pred"
      ],
      "execution_count": 20,
      "outputs": []
    },
    {
      "cell_type": "markdown",
      "metadata": {
        "id": "VM787_vU05NX",
        "colab_type": "text"
      },
      "source": [
        "This model is no different from the `FeedForwardNet` we defined earlier. The only notable difference is that we didn't define a separate `self.backware()` type function. For the most part, the overall idea boils down to\n",
        "\n",
        "* The weights are definited in the `__init__` function\n",
        "* The `forward` function deals with forward pass\n",
        "\n",
        "Now let's take a look at what the training code looks like."
      ]
    },
    {
      "cell_type": "code",
      "metadata": {
        "id": "uiTbO3md4XlZ",
        "colab_type": "code",
        "colab": {
          "base_uri": "https://localhost:8080/",
          "height": 102
        },
        "outputId": "49d66741-1758-40cf-cfbd-f64a48009906"
      },
      "source": [
        "model = TwoLayerNet(input_dim, hidden_dim, output_dim)\n",
        "criterion = torch.nn.MSELoss(reduction='sum')\n",
        "optimizer = torch.optim.SGD(model.parameters(), lr=1e-4)\n",
        "for t in range(500):\n",
        "    y_pred = model(x)\n",
        "\n",
        "    loss = criterion(y_pred, y)\n",
        "    if t % 100 == 99:\n",
        "        print(f\"Epoch {t}: {loss.item()}\")\n",
        "\n",
        "    optimizer.zero_grad()\n",
        "    loss.backward()\n",
        "    optimizer.step()"
      ],
      "execution_count": 22,
      "outputs": [
        {
          "output_type": "stream",
          "text": [
            "Epoch 99: 2.7017245292663574\n",
            "Epoch 199: 0.050356119871139526\n",
            "Epoch 299: 0.001569570624269545\n",
            "Epoch 399: 5.8641602663556114e-05\n",
            "Epoch 499: 2.4734026737860404e-06\n"
          ],
          "name": "stdout"
        }
      ]
    },
    {
      "cell_type": "markdown",
      "metadata": {
        "id": "XNvAY9vL4tL8",
        "colab_type": "text"
      },
      "source": [
        "Although things might look a bit different, there's not much going on in this process, other than the fact that some of the functions and logic we wrote before are now abstracted away by PyTorch. For example, we see `criterion`, which is effectively the mean squared error loss, similar to how we defined `loss_func` above. Another difference we see is `optimizer`, which, as the variable name makes apparent, is the optimizer that we use for backpropagation. In this specific instance, we use SGD. Each backpropagation step is then performed simply via `optimizer.step()`. "
      ]
    },
    {
      "cell_type": "markdown",
      "metadata": {
        "id": "n2SrSFOucMH6",
        "colab_type": "text"
      },
      "source": [
        "# Conclusion\n",
        "\n",
        "In this tutorial, we took a very brief look at the PyTorch model. This is by no means a comprehensive guide, and I could not even tell anyone that I \"know\" how to use PyTorch. Nonetheless, I'm glad that I was able to gain some exposure to the famed PyTorch module. Also, working with Django has somewhat helped me grasp the idea of classes more easily, which certainly helped me take in class-based concepts in PyTorch more easily. I distinctively remember people saying that PyTorch is more object-oriented compared to TensorFlow, and I might express agreement to that statement after having gone through the extreme basics of PyTorch. \n",
        "\n",
        "In the upcoming articles, I hope to use PyTorch to build more realistic models, preferrably in the domain of NLP, as that seems to be where PyTorch's comparative advantage stands out the most compared to TensorFlow. Of course, this is not to say that I don't like TensorFlow anymore, or that PyTorch is not an appropriate module to use in non-NLP contexts: I think each of them are powerful libraries of their own that provide a unique set of functionalities for the user. And being bilinguial---or even a polyglot, if you can use things like Caffe perhaps---in the DL module landscape will certainly not hurt at all. \n",
        "\n",
        "I hope you've enjoyed this article. Catch you up in the next one!"
      ]
    }
  ]
}