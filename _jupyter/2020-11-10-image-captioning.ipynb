{
 "cells": [
  {
   "cell_type": "markdown",
   "metadata": {},
   "source": [
    "In this post, we will take a look at image captioning. "
   ]
  },
  {
   "cell_type": "code",
   "execution_count": 2,
   "metadata": {},
   "outputs": [],
   "source": [
    "import torch\n",
    "from torch import nn\n",
    "from torchvision.models import inception_v3"
   ]
  },
  {
   "cell_type": "code",
   "execution_count": 3,
   "metadata": {},
   "outputs": [],
   "source": [
    "device = torch.device(\"cuda\" if torch.cuda.is_available() else \"cpu\")"
   ]
  },
  {
   "cell_type": "code",
   "execution_count": 4,
   "metadata": {},
   "outputs": [],
   "source": [
    "class EncoderCNN(nn.Module):\n",
    "    def __init__(self, embed_dim, dropout):\n",
    "        super(EncoderCNN, self).__init__()\n",
    "        self.inception = inception_v3(\n",
    "            pretrained=True, aux_logits=False\n",
    "        ).to(device)\n",
    "        self.inception.fc = nn.Linear(\n",
    "            self.inception.fc.in_features, embed_dim\n",
    "        )\n",
    "        self.dropout = nn.Dropout(dropout)\n",
    "        \n",
    "    def forward(self, x):\n",
    "        with torch.no_grad():\n",
    "            x = self.inception(x)\n",
    "        return self.dropout(F.relu(x))"
   ]
  },
  {
   "cell_type": "code",
   "execution_count": 6,
   "metadata": {},
   "outputs": [],
   "source": [
    "class DecoderRNN(nn.Module):\n",
    "    def __init__(\n",
    "        self, vocab_size, embed_dim, hidden_size, num_layers\n",
    "    ):\n",
    "        super(DecoderRNN, self).__init__()\n",
    "        self.embed = nn.Embedding(\n",
    "            num_embeddings=vocab_size, \n",
    "            embedding_dim=embedding_dim,\n",
    "        )\n",
    "        self.lstm = nn.LSTM(\n",
    "            input_size=embed_dim, \n",
    "            hidden_size=hidden_size, \n",
    "            num_layers=num_layers,\n",
    "        )\n",
    "        self.fc = nn.Linear(hidden_size, vocab_size)\n",
    "        \n",
    "    def forward(self, features, captions):\n",
    "        embeddings = self.embed(captions)\n",
    "        embeddings = torch.cat((features.unsqueeze(0), embeddings), dim=0)\n",
    "        hiddens, _ = self.lstm(embeddings)\n",
    "        # hiddens.shape == (seq_len, batch, hidden_size)\n",
    "        outputs = self.fc(hiddens)\n",
    "        # outputs.shape == (seq_len, batch, vocab_size)\n",
    "        return outputs"
   ]
  },
  {
   "cell_type": "code",
   "execution_count": null,
   "metadata": {},
   "outputs": [],
   "source": [
    "class ImageCaptioner(nn.Module):\n",
    "    def __init__(\n",
    "        self, vocab_size, embed_dim, hidden_size, num_layers, idx2token, dropout=0.5\n",
    "    ):\n",
    "        super(ImageCaptioner, self).__init__()\n",
    "        self.idx2token = idx2token\n",
    "        self.encoder = EncoderCNN(embed_dim, dropout)\n",
    "        self.decoder = DecoderRNN(\n",
    "            vocab_size, embed_dim, hidden_size, num_layers, max_seq_len\n",
    "        )\n",
    "\n",
    "    def forward(self, images, captions):\n",
    "        features = self.encoder(images)\n",
    "        outputs = self.decoder(features, captions)\n",
    "\n",
    "    def generate(self, image, max_len=50):\n",
    "        tokens = []\n",
    "        with torch.no_grad():\n",
    "            states = None\n",
    "            inputs = self.encoder(image).unsqueeze(0)\n",
    "            for _ in range(max_len):\n",
    "                hiddens, states = self.lstm(inputs, states)\n",
    "                outputs = self.fc(hiddens.squeeze(0))\n",
    "                predicted = outputs.argmax(1)\n",
    "                token = self.idx2token[predicted.item()]\n",
    "                if token == \"<eos>\":\n",
    "                    break\n",
    "                tokens.append(token)\n",
    "                inputs = self.embed(predicted).unsqueeze(0)\n",
    "        return \" \".join(tokens)"
   ]
  },
  {
   "cell_type": "markdown",
   "metadata": {},
   "source": [
    "https://github.com/yunjey/pytorch-tutorial/tree/master/tutorials/03-advanced/image_captioning\n",
    "https://www.youtube.com/watch?v=y2BaTt1fxJU&t=588s"
   ]
  }
 ],
 "metadata": {
  "kernelspec": {
   "display_name": "PyTorch",
   "language": "python",
   "name": "pytorch"
  },
  "language_info": {
   "codemirror_mode": {
    "name": "ipython",
    "version": 3
   },
   "file_extension": ".py",
   "mimetype": "text/x-python",
   "name": "python",
   "nbconvert_exporter": "python",
   "pygments_lexer": "ipython3",
   "version": "3.7.9"
  }
 },
 "nbformat": 4,
 "nbformat_minor": 4
}
