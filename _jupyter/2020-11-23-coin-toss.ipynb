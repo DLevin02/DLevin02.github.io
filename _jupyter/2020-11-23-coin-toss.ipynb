{
 "cells": [
  {
   "cell_type": "markdown",
   "metadata": {},
   "source": [
    "While mindlessly browsing [Math Stack Exchange](https://math.stackexchange.com/questions/364038/expected-number-of-coin-tosses-to-get-five-consecutive-heads), I stumbled across an interesting classic:\n",
    "\n",
    "> What is the expected number of coin tosses needed to get 5 consecutive heads?\n",
    "\n",
    "This very short post is going to be a admittedly rough presentation on my attempt at solving this puzzle. "
   ]
  },
  {
   "cell_type": "markdown",
   "metadata": {},
   "source": [
    "The first thing that came to my mind was using a bit of recursion-esque thought. Generalizing the problem a bit to be a question on $n$ consecutive heads, assume we know the number of expected number of tosses needed to obtain $(n - 1)$ consecutive heads. Let's denote this as $\\mathbb{E}_{n - 1} = k$. Then, our goal is to figure out $\\mathbb{E}_n$."
   ]
  },
  {
   "cell_type": "markdown",
   "metadata": {},
   "source": [
    "Then, we see that\n",
    "\n",
    "$$\n",
    "\\mathbb{E}_n = \\frac12 \\left( \\mathbb{E}_{n - 1} + 1 \\right) + \\frac12 \\left( \\mathbb{E}_{n - 1} + 1 + \\mathbb{E}_n \\right)\n",
    "\\tag{1}\n",
    "$$\n"
   ]
  },
  {
   "cell_type": "markdown",
   "metadata": {},
   "source": [
    "This can be seen by thinking about the two possibilities after successfully landed on $(n - 1)$ consecutive heads: either next toss also lands on heads, or it lands on a tail. If it lands on a head, then we have accomplished $n$ consecutive heads, and this is accounted for by the first term. "
   ]
  },
  {
   "cell_type": "markdown",
   "metadata": {},
   "source": [
    "The trickier part is the second term, which engages with the case in which the next coin toss lands on tails. In that case, the game is essentially reverted back in the sense that the coin tosses we have made so far do not matter any more: even if we made it up until $(n - 1)$ consecutive heads, it doesn't matter if we don't make it until the very end. Therefore, we get a recursive term including an $\\mathbb{E}_n$."
   ]
  },
  {
   "cell_type": "markdown",
   "metadata": {},
   "source": [
    "With some manipulation, (1) simplifies into\n",
    "\n",
    "$$\n",
    "\\mathbb{E}_n = \\mathbb{E}_{n - 1} + \\frac12 \\mathbb{E}_n + 1 \\tag{2}\n",
    "$$"
   ]
  },
  {
   "cell_type": "markdown",
   "metadata": {},
   "source": [
    "which means\n",
    "\n",
    "$$\n",
    "\\mathbb{E}_n = 2 \\mathbb{E}_{n - 1} + 2 \\tag{3}\n",
    "$$"
   ]
  },
  {
   "cell_type": "markdown",
   "metadata": {},
   "source": [
    "This is quite a neat solution, but it is somewhat incomplete since we have no way of obtaining a hard value for $\\mathbb{E}_n$ given some $n \\in \\mathbb{N}$. We thus need to hash out this recurrence relation."
   ]
  },
  {
   "cell_type": "markdown",
   "metadata": {},
   "source": [
    "We can easily derive a fully hashed out expression for $\\mathbb{E}_n$ by starting with small numbers, such a when $n$ is 0, 1, 2, and 3.\n",
    "\n",
    "$$\n",
    "\\mathbb{E}_0 = 0 \\\\\n",
    "\\mathbb{E}_1 = 2 \\\\\n",
    "\\mathbb{E}_2 = 4 + 2 = 6 \\\\\n",
    "\\mathbb{E}_3 = 12 + 2 = 14 \\\\\n",
    "$$"
   ]
  },
  {
   "cell_type": "markdown",
   "metadata": {},
   "source": [
    "The pattern may not be immediately obvious, but if we try to expand out the terms in our head starting from $\\mathbb{E}_2$, it can be seen that we end up doing something like\n",
    "\n",
    "$$\n",
    "2^n + 2^{n - 1} + 2^{n - 2} + \\cdots + 2\n",
    "$$"
   ]
  },
  {
   "cell_type": "markdown",
   "metadata": {},
   "source": [
    "which can be more neatly written as\n",
    "\n",
    "$$\n",
    "2(2^{n - 1} + 2^{n - 2} + \\cdots + 1) = 2(2^n- 1) \\tag{4}\n",
    "$$"
   ]
  },
  {
   "cell_type": "markdown",
   "metadata": {},
   "source": [
    "So I won't pretend like I solved this correctly in one go. While I had the right idea, I actually started off with a wrong equation for (1) at first. Specifically, in the second term where the recursion takes place, I was missing 1, fallaciously thinking that the failed first attempt would be counted as part of the new game. This is incorrect because the first failed attempt has already occurred; and at the point in which it has already occurred, that failed try would not count into the expected toss count for the $n$ consecutive heads. "
   ]
  },
  {
   "cell_type": "markdown",
   "metadata": {},
   "source": [
    "Just for the fun of it, I decided to write a simple Python simulator to verify this analytical solution with some Monte Carlo approximation. And indeed, the results are promising."
   ]
  },
  {
   "cell_type": "code",
   "execution_count": 11,
   "metadata": {},
   "outputs": [],
   "source": [
    "import random\n",
    "\n",
    "\n",
    "def analytic_solve(n):\n",
    "    return 2 * (2 ** n - 1)\n",
    "\n",
    "\n",
    "def simulate(n, num_simul=1000):\n",
    "    counts = []\n",
    "    for _ in range(num_simul):\n",
    "        count = 0\n",
    "        consec = 0\n",
    "        while consec != n:\n",
    "            is_head = random.random() > 0.5\n",
    "            if is_head:\n",
    "                consec += 1\n",
    "            else:\n",
    "                consec = 0\n",
    "            count += 1\n",
    "        counts.append(count)\n",
    "    return sum(counts) / len(counts)"
   ]
  },
  {
   "cell_type": "code",
   "execution_count": 9,
   "metadata": {},
   "outputs": [
    {
     "data": {
      "text/plain": [
       "61.549"
      ]
     },
     "execution_count": 9,
     "metadata": {},
     "output_type": "execute_result"
    }
   ],
   "source": [
    "simulate(5)"
   ]
  },
  {
   "cell_type": "code",
   "execution_count": 10,
   "metadata": {},
   "outputs": [
    {
     "data": {
      "text/plain": [
       "62"
      ]
     },
     "execution_count": 10,
     "metadata": {},
     "output_type": "execute_result"
    }
   ],
   "source": [
    "analytic_solve(5)"
   ]
  },
  {
   "cell_type": "markdown",
   "metadata": {},
   "source": [
    "In this particular instance with `n` at 5 and `num_simul` set to 1000, we get a very good result. This made me wonder whether the accuracy of this measurement has anything to do with the magnitude of `n`. "
   ]
  },
  {
   "cell_type": "code",
   "execution_count": 14,
   "metadata": {},
   "outputs": [
    {
     "data": {
      "image/png": "[encoded data removed]",
      "text/plain": [
       "<Figure size 432x288 with 1 Axes>"
      ]
     },
     "metadata": {
      "needs_background": "light"
     },
     "output_type": "display_data"
    }
   ],
   "source": [
    "import matplotlib.pyplot as plt\n",
    "\n",
    "t = range(15)\n",
    "simul_vals = []\n",
    "analytic_vals = []\n",
    "\n",
    "for i in t:\n",
    "    simul_vals.append(simulate(i))\n",
    "    analytic_vals.append(analytic_solve(i))\n",
    "\n",
    "fig, ax = plt.subplots()\n",
    "ax.plot(t, simul_vals)\n",
    "ax.plot(t, analytic_vals)\n",
    "plt.show()"
   ]
  },
  {
   "cell_type": "markdown",
   "metadata": {},
   "source": [
    "It seems like there is no substantial difference. However, we see to see some divergence between the two as if we increase the `n` and decrease `num_simul`."
   ]
  },
  {
   "cell_type": "code",
   "execution_count": 18,
   "metadata": {},
   "outputs": [
    {
     "data": {
      "image/png": "[encoded data removed]",
      "text/plain": [
       "<Figure size 432x288 with 1 Axes>"
      ]
     },
     "metadata": {
      "needs_background": "light"
     },
     "output_type": "display_data"
    }
   ],
   "source": [
    "t = range(25)\n",
    "simul_vals = []\n",
    "analytic_vals = []\n",
    "\n",
    "for i in t:\n",
    "    simul_vals.append(simulate(i, 10))\n",
    "    analytic_vals.append(analytic_solve(i))\n",
    "\n",
    "fig, ax = plt.subplots()\n",
    "ax.plot(t, simul_vals)\n",
    "ax.plot(t, analytic_vals)\n",
    "plt.show()"
   ]
  },
  {
   "cell_type": "markdown",
   "metadata": {},
   "source": [
    "This result makes intuitive sense since, after all, the accuracy of this Monte Carlo experiment depends on `num_simul`; the higher this number, the more accurate the quantity will be. Also, if we increase `n`, things get more unpredictable; it is easy to \"fail\" and restart all over again, or potentially get lucky. In the graph shown above, we got lucky, which is why the values derived from the simulation lags below that of the analytic estimate."
   ]
  },
  {
   "cell_type": "markdown",
   "metadata": {},
   "source": [
    "This was a fairly simple yet interesting brain teaser that got me thinking more about math. It was very rewarding to see my little Monte Carlo baby simulator function work its way through the problem. Hopefully I can do a bit more of those in the future. \n",
    "\n",
    "I hope you've enjoyed reading this post. Catch you up in the next one!"
   ]
  }
 ],
 "metadata": {
  "kernelspec": {
   "display_name": "Basic",
   "language": "python",
   "name": "basic"
  },
  "language_info": {
   "codemirror_mode": {
    "name": "ipython",
    "version": 3
   },
   "file_extension": ".py",
   "mimetype": "text/x-python",
   "name": "python",
   "nbconvert_exporter": "python",
   "pygments_lexer": "ipython3",
   "version": "3.7.9"
  }
 },
 "nbformat": 4,
 "nbformat_minor": 4
}
