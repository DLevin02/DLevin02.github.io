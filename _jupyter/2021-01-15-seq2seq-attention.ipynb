{
 "cells": [
  {
   "cell_type": "markdown",
   "metadata": {},
   "source": [
    "Attention took the NLP community by storm a few years ago when it was first announced. I've personally heard about attention many times, but never had the chance to fully dive into what it was. In this post, we will attempt to bake in a simple attention mechanism into a seq2seq model. This post builds on top of the seq2seq-related topics we have been exploring last month. Without further ado, let's jump right in!\n",
    "\n",
    "# Concept\n",
    "\n",
    "Let's recall the improved seq2seq model we built in the last post. This diagram was taken from [Ben Trevett's repository](https://github.com/bentrevett/pytorch-seq2seq/blob/master/3%20-%20Neural%20Machine%20Translation%20by%20Jointly%20Learning%20to%20Align%20and%20Translate.ipynb) on which this post is also based. \n",
    "\n",
    "<img src=\"https://raw.githubusercontent.com/bentrevett/pytorch-seq2seq/eff9642693c3d83c497a791e80a34e740874f5cd/assets/seq2seq7.png\">"
   ]
  },
  {
   "cell_type": "markdown",
   "metadata": {},
   "source": [
    "As you can see, we reduced the compression burden on the final $z$ output vector by allowing the decoder to have access to the output vector at all time steps of the decoding process. This is different from the vanilla seq2seq model, where the final encoding output is only available at the first time step and is diluted throughout the decoding process. \n",
    "\n",
    "However, the fact that the encoding output should still contain all relevant information from the input remains unchanged. This could be a problem if, say, the input is an extremely long sequence. In that case, we cannot reasonably expect $z$ to be able to contain all information from the input without non-trivial loss. This is where attention comes to the rescue!"
   ]
  },
  {
   "cell_type": "markdown",
   "metadata": {},
   "source": [
    "The most salient advantage of using attention is that, with attention, the decoder now has access to all the hidden states of the encoder. So instead of generating a highly compact, compressed version of the input via the encoder output $z$, instead the decoder can now \"see\" all the hidden states from the encoder and pay attention to the hidden states that matter most. Intuitively, this makes a lot of sense: in a machine translation setting, for example, the decoder should attend to \"guten\" when translating \"good\" and pay lesser attention to \"morgen.\" The end goal here is that the seq2seq model can learn some correspondence between some tokens and others in the input and output sequence; in other words, understand the syntactic difference between different languages. \n",
    "\n",
    "Here is a quick visualization of the attention model we will be implementing today. \n",
    "\n",
    "<img src=\"https://raw.githubusercontent.com/bentrevett/pytorch-seq2seq/eff9642693c3d83c497a791e80a34e740874f5cd/assets/seq2seq10.png\">"
   ]
  },
  {
   "cell_type": "markdown",
   "metadata": {},
   "source": [
    "As you can see, every hidden state at each time step is used to calculate some new vector $w$, which is then passed in as input to both the decoder as well as the final output classifier. While the diagram only shows one time step, this process occurs at every decoding time step: a new vector is calculated using all the hidden states with attention, and passed in as input to the decoder at the specific time step. \n",
    "\n",
    "You might be wondering how this mysterious new vector is created. The idea is actually pretty simple: $w$ is but an attention-weighted average of the hidden states. In other words, \n",
    "\n",
    "$$\n",
    "w = \\sum a_i h_i\n",
    "$$"
   ]
  },
  {
   "cell_type": "markdown",
   "metadata": {},
   "source": [
    "where $a_i$ represents the attention on the $i$th hidden state; $h_i$, the $i$th hidden state. Note that $a_i$ is a scalar, whereas as $h_i$ is a vector. The higher the value of $a_i$, the more attention the model is paying to the $i$th sequence in the encoding step. \n",
    "\n",
    "Now that we've drawn a general picture of what the attention-based seq2seq model should look like, let's start building this model!"
   ]
  },
  {
   "cell_type": "markdown",
   "metadata": {},
   "source": [
    "# Implementation\n",
    "\n",
    "Below are the modules we will need for this tutorial. "
   ]
  },
  {
   "cell_type": "code",
   "execution_count": 29,
   "metadata": {},
   "outputs": [],
   "source": [
    "import random\n",
    "import time\n",
    "\n",
    "import torch\n",
    "import torchtext\n",
    "from torch import nn\n",
    "import torch.nn.functional as F\n",
    "from torchtext.data import BucketIterator, Field\n",
    "from torchtext.datasets import Multi30k"
   ]
  },
  {
   "cell_type": "markdown",
   "metadata": {},
   "source": [
    "The setup process, using `torchtext` fields, is identical to the steps we've gone through in previous tutorials, so I'll go through them very quickly. "
   ]
  },
  {
   "cell_type": "code",
   "execution_count": 30,
   "metadata": {},
   "outputs": [],
   "source": [
    "SRC = Field(\n",
    "    tokenize=\"spacy\",\n",
    "    tokenizer_language=\"de\",\n",
    "    init_token=\"<sos>\",\n",
    "    eos_token=\"<eos>\",\n",
    "    lower=True,\n",
    ")\n",
    "\n",
    "TRG = Field(\n",
    "    tokenize=\"spacy\",\n",
    "    tokenizer_language=\"en\",\n",
    "    init_token=\"<sos>\",\n",
    "    eos_token=\"<eos>\",\n",
    "    lower=True,\n",
    ")\n",
    "\n",
    "train_data, validation_data, test_data = Multi30k.splits(\n",
    "    root=\"data\", exts=(\".de\", \".en\"), fields=(SRC, TRG)\n",
    ")\n",
    "\n",
    "SRC.build_vocab(train_data, max_size=10000, min_freq=2)\n",
    "TRG.build_vocab(train_data, max_size=10000, min_freq=2)"
   ]
  },
  {
   "cell_type": "markdown",
   "metadata": {},
   "source": [
    "Next, we create iterators to load the dataset to be fed into our model. These iterators are effectively data loaders in PyTorch. "
   ]
  },
  {
   "cell_type": "code",
   "execution_count": 33,
   "metadata": {},
   "outputs": [],
   "source": [
    "BATCH_SIZE = 128\n",
    "device = torch.device('cuda' if torch.cuda.is_available() else 'cpu')\n",
    "\n",
    "train_iterator, validation_iterator, test_iterator = BucketIterator.splits(\n",
    "    (train_data, validation_data, test_data), batch_size=BATCH_SIZE, device=device\n",
    ")"
   ]
  },
  {
   "cell_type": "markdown",
   "metadata": {},
   "source": [
    "Below, we can see that all data have properly been batched. Notice that the length of each batch is different; of course, within each batch, all sentences have the same length. Otherwise, they wouldn't be a batch in the first place. However, it is apparent from this design that one benefit of using `torchtext` for batching data is that there is no need to worry about zero padding each sentence to make their lengths uniform across all batches."
   ]
  },
  {
   "cell_type": "code",
   "execution_count": 34,
   "metadata": {},
   "outputs": [
    {
     "name": "stdout",
     "output_type": "stream",
     "text": [
      "torch.Size([37, 128])\n",
      "torch.Size([28, 128])\n",
      "torch.Size([28, 128])\n",
      "torch.Size([37, 128])\n",
      "torch.Size([28, 128])\n",
      "torch.Size([27, 128])\n"
     ]
    }
   ],
   "source": [
    "for i, batch in enumerate(train_iterator):\n",
    "    print(batch.src.shape)\n",
    "    if i == 5:\n",
    "        break"
   ]
  },
  {
   "cell_type": "markdown",
   "metadata": {},
   "source": [
    "# Modeling\n",
    "\n",
    "Now is the time for the fun part: modeling and implementing attention. Recall the fact that attention mechanisms originally arose in the context of sequence-to-sequence modeling. The underlying question is this: when some information is encoded via the encoder, then decoded by the decoder, can the decoder learn which part of the encoding to focus on while decoding? An easy real-life example of this would be machine translation. Given the input \"I love you,\" the Korean translation would be \"나는 너를 사랑해,\" or, translated word by word \"I you love.\" In this particular instance, the decoder has to know that there is some syntactic difference between Korean and English, and know which part of the original English sequence to focus on when producing a translation. \n",
    "\n",
    "## Encoder\n",
    "\n",
    "Now that we have some idea of what attention is, let's start coding the encoder. "
   ]
  },
  {
   "cell_type": "code",
   "execution_count": 35,
   "metadata": {},
   "outputs": [],
   "source": [
    "class Encoder(nn.Module):\n",
    "    def __init__(\n",
    "        self, \n",
    "        vocab_size, \n",
    "        embed_dim, \n",
    "        encoder_hidden_size, \n",
    "        decoder_hidden_size, \n",
    "        dropout\n",
    "    ):\n",
    "        super(Encoder, self).__init__()\n",
    "        self.dropout = nn.Dropout(dropout)\n",
    "        self.embed = nn.Embedding(vocab_size, embed_dim)\n",
    "        self.gru = nn.GRU(embed_dim, encoder_hidden_size, bidirectional=True)\n",
    "        self.fc = nn.Linear(encoder_hidden_size * 2, decoder_hidden_size)\n",
    "\n",
    "    def forward(self, x):\n",
    "        embedding = self.dropout(self.embed(x))\n",
    "        outputs, hidden = self.gru(embedding)\n",
    "        # outputs.shape == (seq_len, batch_size, 2 * encoder_hidden_size)\n",
    "        # hidden.shape == (2, batch_size, encoder_hidden_size)\n",
    "        concat_hidden = torch.cat((hidden[-1], hidden[-2]), dim=1)\n",
    "        # concat_hidden.shape == (batch_size, encoder_hidden_size * 2)\n",
    "        hidden = torch.tanh(self.fc(concat_hidden))\n",
    "        # hidden.shape = (batch_size, decoder_hidden_size)\n",
    "        return outputs, hidden"
   ]
  },
  {
   "cell_type": "markdown",
   "metadata": {},
   "source": [
    "The encoder looks very similar to the models we've designed in previous posts. We use a bidirectional GRU layer, which outputs a hidden state as well as an output. The detail is that we use a single fully connected layer to be able to encode the hidden state of the encoder to fit the dimensions of the decoder. Aside some this detail, nothing exciting happens in the encoder. \n",
    "\n",
    "## Attention\n",
    "\n",
    "The meat of this model lies in the attention network, which is shown below."
   ]
  },
  {
   "cell_type": "code",
   "execution_count": 36,
   "metadata": {},
   "outputs": [],
   "source": [
    "class Attention(nn.Module):\n",
    "    def __init__(\n",
    "        self, \n",
    "        encoder_hidden_size,\n",
    "        decoder_hidden_size,\n",
    "    ):\n",
    "        super(Attention, self).__init__()\n",
    "        self.fc1 = nn.Linear(\n",
    "            encoder_hidden_size * 2 + decoder_hidden_size, \n",
    "            decoder_hidden_size\n",
    "        )\n",
    "        self.fc2 = nn.Linear(decoder_hidden_size, 1)\n",
    "    \n",
    "    def forward(self, hidden, encoder_outputs):\n",
    "        # hidden.size = (batch_size, decoder_hidden_size)\n",
    "        # encoder_outputs = (seq_len, batch_size, encoder_hidden_size * 2)\n",
    "        seq_len = encoder_outputs.size(0)\n",
    "        batch_size = encoder_outputs.size(1)\n",
    "        encoder_outputs = encoder_outputs.permute(1, 0, 2)\n",
    "        # encoder_outputs = (batch_size, seq_len, encoder_hidden_size * 2)\n",
    "        hidden = hidden.unsqueeze(1).repeat(1, seq_len, 1)\n",
    "        # hidden.size = (batch_size, seq_len, decoder_hidden_size)\n",
    "        # encoder_outputs.shape = (batch_size, seq_len, encoder_hidden_size * 2)\n",
    "        concat = torch.cat((hidden, encoder_outputs), dim=2)\n",
    "        # concat.shape == (batch_size, seq_len, encoder_hidden_size * 2 + decoder_hidden_size)\n",
    "        energy = torch.tanh(self.fc1(concat))\n",
    "        # energy.shape == (batch_size, seq_len, decoder_hidden_size)\n",
    "        attention = self.fc2(energy)\n",
    "        # attention.shape == (batch_size, seq_len, 1)\n",
    "        attention = F.softmax(attention.squeeze(2), dim=1)\n",
    "        # attention.shape == (batch_size, seq_len)\n",
    "        attention = attention.unsqueeze(1)\n",
    "        # attention.shape == (batch_size, 1, seq_len)\n",
    "        weighted = torch.bmm(attention, encoder_outputs)\n",
    "        # weighted.shape == (batch_size, 1, encoder_hidden_dim * 2)\n",
    "        weighted.permute(1, 0, 2)\n",
    "        # weighted.shape == (1, batch_size, encoder_hidden_dim * 2)\n",
    "        return weighted"
   ]
  },
  {
   "cell_type": "markdown",
   "metadata": {},
   "source": [
    "The attention component is by itself a small neural network composed of fully connected layers. The high level picture looks like this:\n",
    "\n",
    "* Concatenate encoder hidden states with the decoder hidden state\n",
    "* Pass through one linear layer to obtain energy\n",
    "* Pass through last linear layer to obtain attention\n",
    "* Calculate weighted average vector based on attention\n",
    "\n",
    "By concatenating the encoder hidden states with that of the decoder at the current time step, we are effectively providing the attention network with information it needs to identify which hidden step of the encoder is the most relevant. After the second layer, we get a scalar value for each time step of the encoder, which we can then use to calculate the weighted average. To make sure that the weighted average vector is a convex combination of encoder hidden states, we pass the final result through a softmax function. We can then create a convex combination of the encoder hidden states using this attention vector.\n",
    "\n",
    "One technical detail here is the use of batch matrix multiplication. Batch matrix multiplication simply treats the first dimension of each vectors as a batch dimension and performs multiplications on the rest of the two dimensions. \n",
    "\n",
    "$$\n",
    "\\text{(batch, k, n)} \\times \\text{(batch, n, m)} = \\text{(batch, k, m)}\n",
    "$$\n",
    "\n",
    "We use batch matrix multiplication in order to calculate the weighted average vector, denoted as $w$ in earlier sections. This entire process can be visualized as follows. $z$ denotes the hidden state of the decoder.\n",
    "\n",
    "<img src=\"https://raw.githubusercontent.com/bentrevett/pytorch-seq2seq/eff9642693c3d83c497a791e80a34e740874f5cd/assets/seq2seq9.png\">"
   ]
  },
  {
   "cell_type": "markdown",
   "metadata": {},
   "source": [
    "## Decoder\n",
    "\n",
    "This attention network becomes a sub-component of the decoder network, which is shown below."
   ]
  },
  {
   "cell_type": "code",
   "execution_count": 37,
   "metadata": {},
   "outputs": [],
   "source": [
    "class Decoder(nn.Module):\n",
    "    def __init__(\n",
    "        self, \n",
    "        vocab_size,\n",
    "        embed_dim,\n",
    "        decoder_hidden_size,\n",
    "        encoder_hidden_size, \n",
    "        droppout,\n",
    "    ):\n",
    "        super(Decoder, self).__init__()\n",
    "        self.vocab_size = vocab_size\n",
    "        self.dropout = nn.Dropout(droppout)\n",
    "        self.embedding = nn.Embedding(vocab_size, embed_dim)\n",
    "        self.gru = nn.GRU(\n",
    "            encoder_hidden_size * 2 + embed_dim, decoder_hidden_size\n",
    "        )\n",
    "        self.attention = Attention(encoder_hidden_size, decoder_hidden_size)\n",
    "        self.fc = nn.Linear(\n",
    "            encoder_hidden_size * 2 + decoder_hidden_size + embed_dim, \n",
    "            vocab_size\n",
    "        )\n",
    "    \n",
    "    def forward(self, x, hidden, encoder_outputs):\n",
    "        x = x.unsqueeze(0)\n",
    "        # x.shape == (1, batch_size)\n",
    "        # hidden.shape = (batch_size, decoder_hidden_size)\n",
    "        embedding = self.dropout(self.embedding(x))\n",
    "        # embedding.shape == (1, batch_size, embed_dim)\n",
    "        weighted = self.attention(hidden, encoder_outputs)\n",
    "        # weighted.shape == (1, batch_size, encoder_hidden_dim * 2)\n",
    "        weighted_concat = weighted.cat((embedding, weighted), dim=2)\n",
    "        # weighted_concat.shape == (1, batch_size, encoder_hidden_dim * 2 + embed_dim)\n",
    "        output, hidden = self.gru(weighted_concat, hidden)\n",
    "        # output.shape == (1, batch_size, decoder_hidden_size)\n",
    "        # hidden.shape == (1, batch_size, decoder_hidden_size)\n",
    "        embedding = embedding.squeeze(0)        \n",
    "        output = output.squeeze(0)\n",
    "        hidden = hidden.squeeze(0)\n",
    "        weighted = weighted.squeeze(0)\n",
    "        # embedding.shape == (batch_size, embed_dim)\n",
    "        # output.shape == (batch_size, decoder_hidden_size)\n",
    "        # weighted.shape == (batch_size, encoder_hidden_dim * 2)\n",
    "        fc_in = torch.cat((output, weighted, embedding), dim=1)\n",
    "        prediction = self.fc(fc_in)\n",
    "        # prediction.shape == (batch_size, vocab_size)\n",
    "        return prediction, hidden"
   ]
  },
  {
   "cell_type": "markdown",
   "metadata": {},
   "source": [
    "The decoder accepts more components in its forward function. First, it accepts the prediction from the previous decoding time step. This could also be the correct answer labels under a teacher force context. Next, it also accepts the hidden state from the previous decoding time step. Last but not least, it accepts the encoder outputs from all encoding time steps. Note that these encoder outputs are necessary for attention calculation. \n",
    "\n",
    "In a nutshell, the decoder calculates the weighted average vector using attention, then concatenates this vector with word embeddings. This concatenated vector is then passed to the GRU unit. \n",
    "\n",
    "We could just use the GRU output for final token predictions, but for extra robustness, we concatenate all vectors that have been produced so far---embedding, attention weighted vector, and the GRU output---all into the final classifier layer. By giving as much information as possible to the classifier, we can minimize the loss of information. These are effectively residual connections."
   ]
  },
  {
   "cell_type": "markdown",
   "metadata": {},
   "source": [
    "## Seq2Seq\n",
    "\n",
    "Now, it's time to put all the pieces together. Below is the final seq2seq model."
   ]
  },
  {
   "cell_type": "code",
   "execution_count": 38,
   "metadata": {},
   "outputs": [],
   "source": [
    "class Seq2Seq(nn.Module):\n",
    "    def __init__(self, encoder, decoder, device):\n",
    "        super(Seq2Seq, self).__init__()\n",
    "        self.encoder = encoder\n",
    "        self.decoder = decoder\n",
    "        self.device = device\n",
    "    \n",
    "    def forward(self, source, target, teacher_force_ratio=0.5):\n",
    "        seq_len = target.size(0)\n",
    "        batch_size = target.size(1)    \n",
    "        outputs = torch.zeros(\n",
    "            seq_len, batch_size, self.decoder.vocab_size\n",
    "        ).to(self.device)\n",
    "        \n",
    "        encoder_outputs, hidden = self.encoder(source)\n",
    "        x = target[0]\n",
    "        \n",
    "        for t in range(seq_len):\n",
    "            output, hidden = self.decoder(x, hidden, encoder_outputs)\n",
    "            outputs[t] = output\n",
    "            teacher_force = random.random() < teacher_force_ratio\n",
    "            if not teacher_force:\n",
    "                x = predictions.argmax(1)\n",
    "            else:\n",
    "                x = target[t]\n",
    "        return outputs"
   ]
  },
  {
   "cell_type": "markdown",
   "metadata": {},
   "source": [
    "If you've seen previous seq2seq models we have built in previous posts, you will easily notice that this model is in fact no different from previous models. \n",
    "\n",
    "Well, this observation is only superficially true. Recall that the main improvement we have implemented in this model is the attention of the attention mechanism, which is currently a sub-component of the decoder. Therefore, this seq2seq model properly uses attention to generate predictions at each decoding time step. "
   ]
  },
  {
   "cell_type": "markdown",
   "metadata": {},
   "source": [
    "# Conclusion\n",
    "\n",
    "In this post, we explored how attention works, and how one can bake attention into a sequence-to-sequence model. The part that I find most interesting about attention is that it makes so much intuitive sense: when we translate from one language to another, we pay attention to both the overall meaning from the source text as well as the rough one-to-one correspondence between words in source and target languages. Obviously, there are simplifications; most often, humans not only look at individual words or tokens, but also consume phrases or other chunks in the syntax tree. Since this simple seq2seq model has notion of a tree or any hierarchical structure, it can only look at token-to-token correspondence in source and target languages: one time step corresponds to one token. Perhaps in a future post, we will take a look at such more advanced attention mechanisms. \n",
    "\n",
    "I hope you've enjoyed reading this post. Catch you up in the next one!"
   ]
  }
 ],
 "metadata": {
  "kernelspec": {
   "display_name": "PyTorch",
   "language": "python",
   "name": "pytorch"
  },
  "language_info": {
   "codemirror_mode": {
    "name": "ipython",
    "version": 3
   },
   "file_extension": ".py",
   "mimetype": "text/x-python",
   "name": "python",
   "nbconvert_exporter": "python",
   "pygments_lexer": "ipython3",
   "version": "3.7.9"
  }
 },
 "nbformat": 4,
 "nbformat_minor": 4
}
